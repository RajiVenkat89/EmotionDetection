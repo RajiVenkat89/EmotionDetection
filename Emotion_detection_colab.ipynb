{
  "cells": [
    {
      "cell_type": "code",
      "execution_count": null,
      "metadata": {
        "colab": {
          "base_uri": "https://localhost:8080/"
        },
        "id": "AKXaBBZrtNkY",
        "outputId": "b42c895e-c449-4e91-8738-1c2a92507ef1"
      },
      "outputs": [
        {
          "name": "stdout",
          "output_type": "stream",
          "text": [
            "Requirement already satisfied: kaggle in /usr/local/lib/python3.10/dist-packages (1.6.17)\n",
            "Requirement already satisfied: six>=1.10 in /usr/local/lib/python3.10/dist-packages (from kaggle) (1.16.0)\n",
            "Requirement already satisfied: certifi>=2023.7.22 in /usr/local/lib/python3.10/dist-packages (from kaggle) (2024.8.30)\n",
            "Requirement already satisfied: python-dateutil in /usr/local/lib/python3.10/dist-packages (from kaggle) (2.9.0.post0)\n",
            "Requirement already satisfied: requests in /usr/local/lib/python3.10/dist-packages (from kaggle) (2.32.3)\n",
            "Requirement already satisfied: tqdm in /usr/local/lib/python3.10/dist-packages (from kaggle) (4.66.5)\n",
            "Requirement already satisfied: python-slugify in /usr/local/lib/python3.10/dist-packages (from kaggle) (8.0.4)\n",
            "Requirement already satisfied: urllib3 in /usr/local/lib/python3.10/dist-packages (from kaggle) (2.2.3)\n",
            "Requirement already satisfied: bleach in /usr/local/lib/python3.10/dist-packages (from kaggle) (6.1.0)\n",
            "Requirement already satisfied: webencodings in /usr/local/lib/python3.10/dist-packages (from bleach->kaggle) (0.5.1)\n",
            "Requirement already satisfied: text-unidecode>=1.3 in /usr/local/lib/python3.10/dist-packages (from python-slugify->kaggle) (1.3)\n",
            "Requirement already satisfied: charset-normalizer<4,>=2 in /usr/local/lib/python3.10/dist-packages (from requests->kaggle) (3.3.2)\n",
            "Requirement already satisfied: idna<4,>=2.5 in /usr/local/lib/python3.10/dist-packages (from requests->kaggle) (3.10)\n"
          ]
        }
      ],
      "source": [
        "!pip install kaggle"
      ]
    },
    {
      "cell_type": "code",
      "execution_count": null,
      "metadata": {
        "colab": {
          "base_uri": "https://localhost:8080/",
          "height": 107
        },
        "id": "CkgXK97wtPN5",
        "outputId": "0d1fb5bc-63d6-4e86-996b-28d430d43f68"
      },
      "outputs": [
        {
          "data": {
            "text/html": [
              "\n",
              "     <input type=\"file\" id=\"files-2b87fc1d-817e-4add-be66-17079be3a6de\" name=\"files[]\" multiple disabled\n",
              "        style=\"border:none\" />\n",
              "     <output id=\"result-2b87fc1d-817e-4add-be66-17079be3a6de\">\n",
              "      Upload widget is only available when the cell has been executed in the\n",
              "      current browser session. Please rerun this cell to enable.\n",
              "      </output>\n",
              "      <script>// Copyright 2017 Google LLC\n",
              "//\n",
              "// Licensed under the Apache License, Version 2.0 (the \"License\");\n",
              "// you may not use this file except in compliance with the License.\n",
              "// You may obtain a copy of the License at\n",
              "//\n",
              "//      http://www.apache.org/licenses/LICENSE-2.0\n",
              "//\n",
              "// Unless required by applicable law or agreed to in writing, software\n",
              "// distributed under the License is distributed on an \"AS IS\" BASIS,\n",
              "// WITHOUT WARRANTIES OR CONDITIONS OF ANY KIND, either express or implied.\n",
              "// See the License for the specific language governing permissions and\n",
              "// limitations under the License.\n",
              "\n",
              "/**\n",
              " * @fileoverview Helpers for google.colab Python module.\n",
              " */\n",
              "(function(scope) {\n",
              "function span(text, styleAttributes = {}) {\n",
              "  const element = document.createElement('span');\n",
              "  element.textContent = text;\n",
              "  for (const key of Object.keys(styleAttributes)) {\n",
              "    element.style[key] = styleAttributes[key];\n",
              "  }\n",
              "  return element;\n",
              "}\n",
              "\n",
              "// Max number of bytes which will be uploaded at a time.\n",
              "const MAX_PAYLOAD_SIZE = 100 * 1024;\n",
              "\n",
              "function _uploadFiles(inputId, outputId) {\n",
              "  const steps = uploadFilesStep(inputId, outputId);\n",
              "  const outputElement = document.getElementById(outputId);\n",
              "  // Cache steps on the outputElement to make it available for the next call\n",
              "  // to uploadFilesContinue from Python.\n",
              "  outputElement.steps = steps;\n",
              "\n",
              "  return _uploadFilesContinue(outputId);\n",
              "}\n",
              "\n",
              "// This is roughly an async generator (not supported in the browser yet),\n",
              "// where there are multiple asynchronous steps and the Python side is going\n",
              "// to poll for completion of each step.\n",
              "// This uses a Promise to block the python side on completion of each step,\n",
              "// then passes the result of the previous step as the input to the next step.\n",
              "function _uploadFilesContinue(outputId) {\n",
              "  const outputElement = document.getElementById(outputId);\n",
              "  const steps = outputElement.steps;\n",
              "\n",
              "  const next = steps.next(outputElement.lastPromiseValue);\n",
              "  return Promise.resolve(next.value.promise).then((value) => {\n",
              "    // Cache the last promise value to make it available to the next\n",
              "    // step of the generator.\n",
              "    outputElement.lastPromiseValue = value;\n",
              "    return next.value.response;\n",
              "  });\n",
              "}\n",
              "\n",
              "/**\n",
              " * Generator function which is called between each async step of the upload\n",
              " * process.\n",
              " * @param {string} inputId Element ID of the input file picker element.\n",
              " * @param {string} outputId Element ID of the output display.\n",
              " * @return {!Iterable<!Object>} Iterable of next steps.\n",
              " */\n",
              "function* uploadFilesStep(inputId, outputId) {\n",
              "  const inputElement = document.getElementById(inputId);\n",
              "  inputElement.disabled = false;\n",
              "\n",
              "  const outputElement = document.getElementById(outputId);\n",
              "  outputElement.innerHTML = '';\n",
              "\n",
              "  const pickedPromise = new Promise((resolve) => {\n",
              "    inputElement.addEventListener('change', (e) => {\n",
              "      resolve(e.target.files);\n",
              "    });\n",
              "  });\n",
              "\n",
              "  const cancel = document.createElement('button');\n",
              "  inputElement.parentElement.appendChild(cancel);\n",
              "  cancel.textContent = 'Cancel upload';\n",
              "  const cancelPromise = new Promise((resolve) => {\n",
              "    cancel.onclick = () => {\n",
              "      resolve(null);\n",
              "    };\n",
              "  });\n",
              "\n",
              "  // Wait for the user to pick the files.\n",
              "  const files = yield {\n",
              "    promise: Promise.race([pickedPromise, cancelPromise]),\n",
              "    response: {\n",
              "      action: 'starting',\n",
              "    }\n",
              "  };\n",
              "\n",
              "  cancel.remove();\n",
              "\n",
              "  // Disable the input element since further picks are not allowed.\n",
              "  inputElement.disabled = true;\n",
              "\n",
              "  if (!files) {\n",
              "    return {\n",
              "      response: {\n",
              "        action: 'complete',\n",
              "      }\n",
              "    };\n",
              "  }\n",
              "\n",
              "  for (const file of files) {\n",
              "    const li = document.createElement('li');\n",
              "    li.append(span(file.name, {fontWeight: 'bold'}));\n",
              "    li.append(span(\n",
              "        `(${file.type || 'n/a'}) - ${file.size} bytes, ` +\n",
              "        `last modified: ${\n",
              "            file.lastModifiedDate ? file.lastModifiedDate.toLocaleDateString() :\n",
              "                                    'n/a'} - `));\n",
              "    const percent = span('0% done');\n",
              "    li.appendChild(percent);\n",
              "\n",
              "    outputElement.appendChild(li);\n",
              "\n",
              "    const fileDataPromise = new Promise((resolve) => {\n",
              "      const reader = new FileReader();\n",
              "      reader.onload = (e) => {\n",
              "        resolve(e.target.result);\n",
              "      };\n",
              "      reader.readAsArrayBuffer(file);\n",
              "    });\n",
              "    // Wait for the data to be ready.\n",
              "    let fileData = yield {\n",
              "      promise: fileDataPromise,\n",
              "      response: {\n",
              "        action: 'continue',\n",
              "      }\n",
              "    };\n",
              "\n",
              "    // Use a chunked sending to avoid message size limits. See b/62115660.\n",
              "    let position = 0;\n",
              "    do {\n",
              "      const length = Math.min(fileData.byteLength - position, MAX_PAYLOAD_SIZE);\n",
              "      const chunk = new Uint8Array(fileData, position, length);\n",
              "      position += length;\n",
              "\n",
              "      const base64 = btoa(String.fromCharCode.apply(null, chunk));\n",
              "      yield {\n",
              "        response: {\n",
              "          action: 'append',\n",
              "          file: file.name,\n",
              "          data: base64,\n",
              "        },\n",
              "      };\n",
              "\n",
              "      let percentDone = fileData.byteLength === 0 ?\n",
              "          100 :\n",
              "          Math.round((position / fileData.byteLength) * 100);\n",
              "      percent.textContent = `${percentDone}% done`;\n",
              "\n",
              "    } while (position < fileData.byteLength);\n",
              "  }\n",
              "\n",
              "  // All done.\n",
              "  yield {\n",
              "    response: {\n",
              "      action: 'complete',\n",
              "    }\n",
              "  };\n",
              "}\n",
              "\n",
              "scope.google = scope.google || {};\n",
              "scope.google.colab = scope.google.colab || {};\n",
              "scope.google.colab._files = {\n",
              "  _uploadFiles,\n",
              "  _uploadFilesContinue,\n",
              "};\n",
              "})(self);\n",
              "</script> "
            ],
            "text/plain": [
              "<IPython.core.display.HTML object>"
            ]
          },
          "metadata": {},
          "output_type": "display_data"
        },
        {
          "name": "stdout",
          "output_type": "stream",
          "text": [
            "Saving kaggle.json to kaggle (1).json\n"
          ]
        },
        {
          "data": {
            "text/plain": [
              "{'kaggle (1).json': b'{\"username\":\"rajivenkat22\",\"key\":\"60917da3f17a49a6499fa30f13aaf954\"}'}"
            ]
          },
          "execution_count": 1,
          "metadata": {},
          "output_type": "execute_result"
        }
      ],
      "source": [
        "#To import kaggle json\n",
        "from google.colab import files\n",
        "files.upload()"
      ]
    },
    {
      "cell_type": "code",
      "execution_count": null,
      "metadata": {
        "id": "sNh6s0dfbM42"
      },
      "outputs": [],
      "source": [
        "!mkdir -p ~/.kaggle\n",
        "!cp kaggle.json ~/.kaggle/\n",
        "!chmod 600 ~/.kaggle/kaggle.json"
      ]
    },
    {
      "cell_type": "code",
      "execution_count": null,
      "metadata": {
        "colab": {
          "base_uri": "https://localhost:8080/"
        },
        "id": "SvqhsQP0bS3y",
        "outputId": "1218ad13-fb9f-4627-b898-3dedc7a1e550"
      },
      "outputs": [
        {
          "name": "stdout",
          "output_type": "stream",
          "text": [
            "Dataset URL: https://www.kaggle.com/datasets/damnithurts/fer2013-dataset-images\n",
            "License(s): CC0-1.0\n",
            "fer2013-dataset-images.zip: Skipping, found more recently modified local copy (use --force to force download)\n"
          ]
        }
      ],
      "source": [
        "#Download FER2013 dataset\n",
        "!kaggle datasets download -d damnithurts/fer2013-dataset-images"
      ]
    },
    {
      "cell_type": "code",
      "execution_count": null,
      "metadata": {
        "colab": {
          "base_uri": "https://localhost:8080/"
        },
        "id": "s-cWHizxbiOp",
        "outputId": "c959a796-6fb9-4b2e-b441-60f7b3284f23"
      },
      "outputs": [
        {
          "name": "stdout",
          "output_type": "stream",
          "text": [
            "Archive:  fer2013-dataset-images.zip\n",
            "replace /content/dataset/test/angry/PrivateTest_10131363.jpg? [y]es, [n]o, [A]ll, [N]one, [r]ename: "
          ]
        }
      ],
      "source": [
        "#Unzip the downloaded dataset and store in /content/dataset path\n",
        "!unzip fer2013-dataset-images.zip -d /content/dataset"
      ]
    },
    {
      "cell_type": "code",
      "execution_count": 1,
      "metadata": {
        "id": "52UT1FDccshB"
      },
      "outputs": [],
      "source": [
        "#Path to fetch data\n",
        "import os\n",
        "\n",
        "base_dir = '/content/dataset'\n",
        "train_path = os.path.join(base_dir, 'train')\n",
        "test_path = os.path.join(base_dir, 'test')"
      ]
    },
    {
      "cell_type": "code",
      "execution_count": 2,
      "metadata": {
        "colab": {
          "base_uri": "https://localhost:8080/",
          "height": 35
        },
        "id": "YkvBoWpvqodR",
        "outputId": "e3a69306-19b8-46d5-e4f1-f50050230818"
      },
      "outputs": [
        {
          "data": {
            "application/vnd.google.colaboratory.intrinsic+json": {
              "type": "string"
            },
            "text/plain": [
              "'/content/dataset/train'"
            ]
          },
          "execution_count": 2,
          "metadata": {},
          "output_type": "execute_result"
        }
      ],
      "source": [
        "train_path"
      ]
    },
    {
      "cell_type": "code",
      "execution_count": null,
      "metadata": {
        "colab": {
          "base_uri": "https://localhost:8080/"
        },
        "id": "rkIZQHyGcxwz",
        "outputId": "67e2e77b-4be0-42ce-93ff-6dec0be53ad6"
      },
      "outputs": [
        {
          "name": "stdout",
          "output_type": "stream",
          "text": [
            "Found 22968 images belonging to 7 classes.\n",
            "Found 5741 images belonging to 7 classes.\n"
          ]
        }
      ],
      "source": [
        "from tensorflow.keras.preprocessing.image import ImageDataGenerator\n",
        "\n",
        "# Data augmentation and rescaling\n",
        "train_datagen = ImageDataGenerator(\n",
        "    rescale=1./255,\n",
        "    shear_range=0.2,\n",
        "    zoom_range=0.2,\n",
        "    horizontal_flip=True,\n",
        "    validation_split=0.2\n",
        ")\n",
        "\n",
        "# Load images from directories for Training\n",
        "train_generator = train_datagen.flow_from_directory(\n",
        "    train_path,\n",
        "    target_size=(224, 224),\n",
        "    subset='training',\n",
        "    batch_size=32,\n",
        "    class_mode='categorical'\n",
        ")\n",
        "# Load images from directories for Validation\n",
        "validation_generator = train_datagen.flow_from_directory(\n",
        "    train_path,\n",
        "    target_size=(224, 224),\n",
        "    subset='validation',\n",
        "    batch_size=32,\n",
        "    class_mode='categorical'\n",
        ")"
      ]
    },
    {
      "cell_type": "code",
      "execution_count": null,
      "metadata": {
        "id": "r8N5RCzKda0H"
      },
      "outputs": [],
      "source": [
        "#Pretrained VGG model \n",
        "from tensorflow.keras.applications import VGG16\n",
        "from tensorflow.keras.models import Model\n",
        "from tensorflow.keras.layers import Dense,Flatten\n",
        "from tensorflow.keras.optimizers import Adam\n",
        "from tensorflow.keras.regularizers import l2\n",
        "from tensorflow.keras.layers import Dropout\n",
        "\n",
        "base_model = VGG16(weights='imagenet', include_top=False, input_shape=(224, 224, 3))\n",
        "for layer in base_model.layers: #Freeze layers in Base model from getting modified\n",
        "    layer.trainable = False\n",
        "x = base_model.output\n",
        "x = Flatten()(x)\n",
        "x = Dense(256, activation='relu', kernel_regularizer=l2(0.01))(x)\n",
        "x = Dropout(0.5)(x)\n",
        "predictions = Dense(7, activation='softmax')(x)\n",
        "model = Model(inputs=base_model.input, outputs=predictions)\n",
        "model.compile(optimizer=Adam(learning_rate=0.0001), loss='categorical_crossentropy', metrics=['accuracy'])"
      ]
    },
    {
      "cell_type": "code",
      "execution_count": null,
      "metadata": {
        "colab": {
          "base_uri": "https://localhost:8080/"
        },
        "id": "gchswzEoeRZx",
        "outputId": "118db3da-290c-449c-f04d-371003c82a91"
      },
      "outputs": [
        {
          "name": "stdout",
          "output_type": "stream",
          "text": [
            "Epoch 1/30\n",
            "718/718 [==============================] - 549s 763ms/step - loss: 2.5762 - accuracy: 0.3294 - val_loss: 1.8315 - val_accuracy: 0.4137\n",
            "Epoch 2/30\n",
            "718/718 [==============================] - 549s 765ms/step - loss: 1.7558 - accuracy: 0.3936 - val_loss: 1.6263 - val_accuracy: 0.4456\n",
            "Epoch 3/30\n",
            "718/718 [==============================] - 550s 766ms/step - loss: 1.6541 - accuracy: 0.4090 - val_loss: 1.5832 - val_accuracy: 0.4581\n",
            "Epoch 4/30\n",
            "718/718 [==============================] - 551s 767ms/step - loss: 1.6114 - accuracy: 0.4215 - val_loss: 1.5350 - val_accuracy: 0.4583\n",
            "Epoch 5/30\n",
            "718/718 [==============================] - 551s 767ms/step - loss: 1.5955 - accuracy: 0.4212 - val_loss: 1.5230 - val_accuracy: 0.4583\n",
            "Epoch 6/30\n",
            "718/718 [==============================] - 552s 769ms/step - loss: 1.5761 - accuracy: 0.4284 - val_loss: 1.5142 - val_accuracy: 0.4564\n",
            "Epoch 7/30\n",
            "718/718 [==============================] - 553s 770ms/step - loss: 1.5702 - accuracy: 0.4298 - val_loss: 1.5204 - val_accuracy: 0.4569\n",
            "Epoch 8/30\n",
            "718/718 [==============================] - 548s 763ms/step - loss: 1.5613 - accuracy: 0.4361 - val_loss: 1.5068 - val_accuracy: 0.4733\n",
            "Epoch 9/30\n",
            "718/718 [==============================] - 550s 765ms/step - loss: 1.5627 - accuracy: 0.4375 - val_loss: 1.5025 - val_accuracy: 0.4754\n",
            "Epoch 10/30\n",
            "718/718 [==============================] - 565s 786ms/step - loss: 1.5501 - accuracy: 0.4413 - val_loss: 1.4990 - val_accuracy: 0.4771\n",
            "Epoch 11/30\n",
            "718/718 [==============================] - 551s 768ms/step - loss: 1.5467 - accuracy: 0.4386 - val_loss: 1.5176 - val_accuracy: 0.4626\n",
            "Epoch 12/30\n",
            "718/718 [==============================] - 556s 774ms/step - loss: 1.5372 - accuracy: 0.4422 - val_loss: 1.5151 - val_accuracy: 0.4402\n",
            "Epoch 13/30\n",
            "718/718 [==============================] - 549s 765ms/step - loss: 1.5371 - accuracy: 0.4416 - val_loss: 1.4805 - val_accuracy: 0.4884\n",
            "Epoch 14/30\n",
            "718/718 [==============================] - 554s 771ms/step - loss: 1.5293 - accuracy: 0.4464 - val_loss: 1.4549 - val_accuracy: 0.4851\n",
            "Epoch 15/30\n",
            "718/718 [==============================] - 556s 774ms/step - loss: 1.5306 - accuracy: 0.4485 - val_loss: 1.4648 - val_accuracy: 0.4879\n",
            "Epoch 16/30\n",
            "718/718 [==============================] - 554s 771ms/step - loss: 1.5336 - accuracy: 0.4461 - val_loss: 1.4621 - val_accuracy: 0.4877\n",
            "Epoch 17/30\n",
            "718/718 [==============================] - 553s 771ms/step - loss: 1.5279 - accuracy: 0.4474 - val_loss: 1.4659 - val_accuracy: 0.4801\n",
            "Epoch 18/30\n",
            "718/718 [==============================] - 553s 770ms/step - loss: 1.5252 - accuracy: 0.4479 - val_loss: 1.4569 - val_accuracy: 0.4835\n",
            "Epoch 19/30\n",
            "718/718 [==============================] - 553s 769ms/step - loss: 1.5328 - accuracy: 0.4442 - val_loss: 1.4877 - val_accuracy: 0.4795\n"
          ]
        }
      ],
      "source": [
        "from tensorflow.keras.callbacks import EarlyStopping\n",
        "\n",
        "early_stopping = EarlyStopping(monitor='val_loss', patience=5, restore_best_weights=True, start_from_epoch=10)\n",
        "history = model.fit(train_generator, validation_data=validation_generator, epochs=30,callbacks=[early_stopping])"
      ]
    },
    {
      "cell_type": "code",
      "execution_count": null,
      "metadata": {
        "colab": {
          "base_uri": "https://localhost:8080/",
          "height": 447
        },
        "id": "F44AG7O2eg3k",
        "outputId": "7dd20ca4-ceac-4238-e3d0-b5e0256238c9"
      },
      "outputs": [
        {
          "name": "stdout",
          "output_type": "stream",
          "text": [
            "718/718 [==============================] - 453s 630ms/step\n"
          ]
        },
        {
          "data": {
            "image/png": "[encoded data removed]",
            "text/plain": [
              "<Figure size 640x480 with 2 Axes>"
            ]
          },
          "metadata": {},
          "output_type": "display_data"
        }
      ],
      "source": [
        "from sklearn.metrics import confusion_matrix\n",
        "import seaborn as sns\n",
        "import numpy as np\n",
        "import matplotlib.pyplot as plt\n",
        "\n",
        "y_train_pred = model.predict(train_generator)\n",
        "y_train_pred_classes = np.argmax(y_train_pred, axis=1)\n",
        "y_train_true = train_generator.classes\n",
        "\n",
        "cm_train = confusion_matrix(y_train_true, y_train_pred_classes)\n",
        "sns.heatmap(cm_train, annot=True, fmt='d')\n",
        "plt.show()"
      ]
    },
    {
      "cell_type": "code",
      "execution_count": null,
      "metadata": {
        "colab": {
          "base_uri": "https://localhost:8080/"
        },
        "id": "Wlb-EX2hFo63",
        "outputId": "05203d4f-6a41-4940-98f4-fc3bb0d696e1"
      },
      "outputs": [
        {
          "name": "stdout",
          "output_type": "stream",
          "text": [
            "Found 22968 images belonging to 7 classes.\n",
            "Found 5741 images belonging to 7 classes.\n"
          ]
        }
      ],
      "source": [
        "from tensorflow.keras.preprocessing.image import ImageDataGenerator\n",
        "\n",
        "# Data augmentation and rescaling\n",
        "train_datagen = ImageDataGenerator(\n",
        "    rescale=1./255,\n",
        "    shear_range=0.1,\n",
        "    zoom_range=0.1,\n",
        "    horizontal_flip=True,\n",
        "    fill_mode='nearest',\n",
        "    validation_split=0.2,\n",
        "    rotation_range=10,\n",
        "    width_shift_range=0.1,\n",
        "    height_shift_range=0.1,\n",
        "     brightness_range=[0.8, 1.2]\n",
        ")\n",
        "\n",
        "\n",
        "# Load images from directories for training\n",
        "train_generator = train_datagen.flow_from_directory(\n",
        "    train_path,\n",
        "    target_size=(224, 224),\n",
        "    subset='training',\n",
        "    batch_size=16,\n",
        "    shuffle=True,\n",
        "    class_mode='categorical'\n",
        ")\n",
        "\n",
        "# Load images from directories for Validation\n",
        "validation_generator = train_datagen.flow_from_directory(\n",
        "    train_path,\n",
        "    target_size=(224, 224),\n",
        "    subset='validation',\n",
        "    batch_size=16,\n",
        "    shuffle=True,\n",
        "    class_mode='categorical'\n",
        ")"
      ]
    },
    {
      "cell_type": "code",
      "execution_count": null,
      "metadata": {
        "id": "J6VbeB8-Doiv"
      },
      "outputs": [],
      "source": [
        "from tensorflow.keras.applications import VGG16\n",
        "from tensorflow.keras.models import Model\n",
        "from tensorflow.keras.layers import Dense,Flatten\n",
        "from tensorflow.keras.optimizers import Adam\n",
        "from tensorflow.keras.regularizers import l2\n",
        "from tensorflow.keras.layers import Dropout\n",
        "\n",
        "base_model = VGG16(weights='imagenet', include_top=False, input_shape=(224, 224, 3))\n",
        "for layer in base_model.layers:\n",
        "    layer.trainable = False\n",
        "x = base_model.output\n",
        "x = Flatten()(x)\n",
        "x = Dense(1024, activation='relu', kernel_regularizer=l2(0.001))(x)\n",
        "x = Dropout(0.5)(x)\n",
        "x = Dense(512, activation='relu', kernel_regularizer=l2(0.001))(x)\n",
        "x = Dropout(0.5)(x)\n",
        "predictions = Dense(7, activation='softmax')(x)\n",
        "model = Model(inputs=base_model.input, outputs=predictions)\n",
        "model.compile(optimizer=Adam(learning_rate=0.0001), loss='categorical_crossentropy', metrics=['accuracy'])"
      ]
    },
    {
      "cell_type": "code",
      "execution_count": null,
      "metadata": {
        "colab": {
          "base_uri": "https://localhost:8080/"
        },
        "id": "Ln57jXu4wpl_",
        "outputId": "ce20db2f-0dd0-4a74-d7d8-0b126bd58e1b"
      },
      "outputs": [
        {
          "name": "stdout",
          "output_type": "stream",
          "text": [
            "Epoch 1/100\n",
            "1436/1436 [==============================] - 735s 511ms/step - loss: 2.6358 - accuracy: 0.2867 - val_loss: 2.0590 - val_accuracy: 0.3832 - lr: 1.0000e-04\n",
            "Epoch 2/100\n",
            "1436/1436 [==============================] - 731s 509ms/step - loss: 1.9576 - accuracy: 0.3718 - val_loss: 1.7681 - val_accuracy: 0.4247 - lr: 1.0000e-04\n",
            "Epoch 3/100\n",
            "1436/1436 [==============================] - 729s 508ms/step - loss: 1.7481 - accuracy: 0.3943 - val_loss: 1.6096 - val_accuracy: 0.4515 - lr: 1.0000e-04\n",
            "Epoch 4/100\n",
            "1436/1436 [==============================] - 751s 523ms/step - loss: 1.6375 - accuracy: 0.4107 - val_loss: 1.5607 - val_accuracy: 0.4358 - lr: 1.0000e-04\n",
            "Epoch 5/100\n",
            "1436/1436 [==============================] - 739s 515ms/step - loss: 1.5884 - accuracy: 0.4172 - val_loss: 1.4848 - val_accuracy: 0.4700 - lr: 1.0000e-04\n",
            "Epoch 6/100\n",
            "1436/1436 [==============================] - 732s 510ms/step - loss: 1.5483 - accuracy: 0.4262 - val_loss: 1.4814 - val_accuracy: 0.4712 - lr: 1.0000e-04\n",
            "Epoch 7/100\n",
            "1436/1436 [==============================] - 733s 510ms/step - loss: 1.5307 - accuracy: 0.4327 - val_loss: 1.4840 - val_accuracy: 0.4658 - lr: 1.0000e-04\n",
            "Epoch 8/100\n",
            "1436/1436 [==============================] - 731s 509ms/step - loss: 1.5242 - accuracy: 0.4357 - val_loss: 1.4721 - val_accuracy: 0.4741 - lr: 1.0000e-04\n",
            "Epoch 9/100\n",
            "1436/1436 [==============================] - 749s 522ms/step - loss: 1.5107 - accuracy: 0.4418 - val_loss: 1.4985 - val_accuracy: 0.4652 - lr: 1.0000e-04\n",
            "Epoch 10/100\n",
            "1436/1436 [==============================] - 740s 515ms/step - loss: 1.5098 - accuracy: 0.4449 - val_loss: 1.4414 - val_accuracy: 0.4799 - lr: 1.0000e-04\n",
            "Epoch 11/100\n",
            "1436/1436 [==============================] - 735s 512ms/step - loss: 1.4991 - accuracy: 0.4464 - val_loss: 1.4503 - val_accuracy: 0.4888 - lr: 1.0000e-04\n",
            "Epoch 12/100\n",
            "1436/1436 [==============================] - 729s 507ms/step - loss: 1.4960 - accuracy: 0.4501 - val_loss: 1.4601 - val_accuracy: 0.4661 - lr: 1.0000e-04\n",
            "Epoch 13/100\n",
            "1436/1436 [==============================] - 715s 498ms/step - loss: 1.4919 - accuracy: 0.4505 - val_loss: 1.4608 - val_accuracy: 0.4787 - lr: 1.0000e-04\n",
            "Epoch 14/100\n",
            "1436/1436 [==============================] - 736s 513ms/step - loss: 1.4855 - accuracy: 0.4504 - val_loss: 1.4247 - val_accuracy: 0.4825 - lr: 1.0000e-04\n",
            "Epoch 15/100\n",
            "1436/1436 [==============================] - 735s 512ms/step - loss: 1.4876 - accuracy: 0.4522 - val_loss: 1.4479 - val_accuracy: 0.4713 - lr: 1.0000e-04\n",
            "Epoch 16/100\n",
            "1436/1436 [==============================] - 724s 504ms/step - loss: 1.4746 - accuracy: 0.4584 - val_loss: 1.4280 - val_accuracy: 0.4788 - lr: 1.0000e-04\n",
            "Epoch 17/100\n",
            "1436/1436 [==============================] - 721s 502ms/step - loss: 1.4868 - accuracy: 0.4498 - val_loss: 1.4772 - val_accuracy: 0.4764 - lr: 1.0000e-04\n",
            "Epoch 18/100\n",
            "1436/1436 [==============================] - 723s 504ms/step - loss: 1.4811 - accuracy: 0.4558 - val_loss: 1.4541 - val_accuracy: 0.4675 - lr: 1.0000e-04\n",
            "Epoch 19/100\n",
            "1436/1436 [==============================] - 729s 508ms/step - loss: 1.4778 - accuracy: 0.4575 - val_loss: 1.4331 - val_accuracy: 0.4727 - lr: 1.0000e-04\n",
            "Epoch 20/100\n",
            "1436/1436 [==============================] - 727s 506ms/step - loss: 1.4689 - accuracy: 0.4590 - val_loss: 1.4383 - val_accuracy: 0.4747 - lr: 1.0000e-04\n",
            "Epoch 21/100\n",
            "1436/1436 [==============================] - 726s 505ms/step - loss: 1.4719 - accuracy: 0.4582 - val_loss: 1.4521 - val_accuracy: 0.4792 - lr: 1.0000e-04\n",
            "Epoch 22/100\n",
            "1436/1436 [==============================] - 724s 504ms/step - loss: 1.4714 - accuracy: 0.4565 - val_loss: 1.4338 - val_accuracy: 0.4903 - lr: 1.0000e-04\n",
            "Epoch 23/100\n",
            "1436/1436 [==============================] - 726s 505ms/step - loss: 1.4634 - accuracy: 0.4684 - val_loss: 1.4863 - val_accuracy: 0.4727 - lr: 1.0000e-04\n",
            "Epoch 24/100\n",
            "1436/1436 [==============================] - 720s 502ms/step - loss: 1.4693 - accuracy: 0.4572 - val_loss: 1.4280 - val_accuracy: 0.4935 - lr: 1.0000e-04\n",
            "Epoch 25/100\n",
            "1436/1436 [==============================] - 727s 506ms/step - loss: 1.4669 - accuracy: 0.4630 - val_loss: 1.4328 - val_accuracy: 0.4832 - lr: 1.0000e-04\n",
            "Epoch 26/100\n",
            "1436/1436 [==============================] - 731s 509ms/step - loss: 1.4730 - accuracy: 0.4599 - val_loss: 1.4349 - val_accuracy: 0.4949 - lr: 1.0000e-04\n",
            "Epoch 27/100\n",
            "1436/1436 [==============================] - 726s 505ms/step - loss: 1.4657 - accuracy: 0.4598 - val_loss: 1.4517 - val_accuracy: 0.4830 - lr: 1.0000e-04\n",
            "Epoch 28/100\n",
            "1436/1436 [==============================] - 732s 510ms/step - loss: 1.4618 - accuracy: 0.4661 - val_loss: 1.4487 - val_accuracy: 0.4760 - lr: 1.0000e-04\n",
            "Epoch 29/100\n",
            "1436/1436 [==============================] - 728s 507ms/step - loss: 1.4667 - accuracy: 0.4621 - val_loss: 1.4329 - val_accuracy: 0.4834 - lr: 1.0000e-04\n",
            "Epoch 30/100\n",
            "1436/1436 [==============================] - 734s 511ms/step - loss: 1.4550 - accuracy: 0.4662 - val_loss: 1.4426 - val_accuracy: 0.4823 - lr: 1.0000e-04\n",
            "Epoch 31/100\n",
            "1436/1436 [==============================] - 737s 513ms/step - loss: 1.4575 - accuracy: 0.4660 - val_loss: 1.4333 - val_accuracy: 0.4914 - lr: 1.0000e-04\n",
            "Epoch 32/100\n",
            "1436/1436 [==============================] - 739s 515ms/step - loss: 1.4567 - accuracy: 0.4683 - val_loss: 1.4300 - val_accuracy: 0.4971 - lr: 1.0000e-04\n",
            "Epoch 33/100\n",
            "1436/1436 [==============================] - 739s 514ms/step - loss: 1.4525 - accuracy: 0.4704 - val_loss: 1.4319 - val_accuracy: 0.4801 - lr: 1.0000e-04\n",
            "Epoch 34/100\n",
            "1436/1436 [==============================] - 741s 516ms/step - loss: 1.4571 - accuracy: 0.4668 - val_loss: 1.4375 - val_accuracy: 0.4924 - lr: 1.0000e-04\n",
            "Epoch 35/100\n",
            "1436/1436 [==============================] - 739s 514ms/step - loss: 1.4575 - accuracy: 0.4613 - val_loss: 1.4313 - val_accuracy: 0.4922 - lr: 1.0000e-04\n",
            "Epoch 36/100\n",
            "1436/1436 [==============================] - 735s 512ms/step - loss: 1.4561 - accuracy: 0.4670 - val_loss: 1.4384 - val_accuracy: 0.4825 - lr: 1.0000e-04\n",
            "Epoch 37/100\n",
            "1436/1436 [==============================] - 735s 512ms/step - loss: 1.4569 - accuracy: 0.4710 - val_loss: 1.4413 - val_accuracy: 0.4882 - lr: 1.0000e-04\n",
            "Epoch 38/100\n",
            "1436/1436 [==============================] - 737s 513ms/step - loss: 1.4513 - accuracy: 0.4691 - val_loss: 1.4362 - val_accuracy: 0.4949 - lr: 1.0000e-04\n",
            "Epoch 39/100\n",
            "1436/1436 [==============================] - 728s 507ms/step - loss: 1.4536 - accuracy: 0.4681 - val_loss: 1.4507 - val_accuracy: 0.4863 - lr: 1.0000e-04\n",
            "Epoch 40/100\n",
            " 558/1436 [==========>...................] - ETA: 6:18 - loss: 1.4652 - accuracy: 0.4604"
          ]
        }
      ],
      "source": [
        "from tensorflow.keras.callbacks import EarlyStopping\n",
        "from tensorflow.keras.callbacks import ReduceLROnPlateau\n",
        "\n",
        "\n",
        "reduce_lr = ReduceLROnPlateau(monitor='val_loss', factor=0.2, patience=5, min_lr=0.0001)\n",
        "early_stopping = EarlyStopping(monitor='val_loss', patience=10, restore_best_weights=True, start_from_epoch=25)\n",
        "vgg_history = model.fit(train_generator, validation_data=validation_generator, epochs=100,callbacks=[early_stopping,reduce_lr])"
      ]
    },
    {
      "cell_type": "code",
      "execution_count": null,
      "metadata": {
        "colab": {
          "base_uri": "https://localhost:8080/"
        },
        "id": "3jD8d2ycIhm9",
        "outputId": "44e5af58-3a95-44eb-e16a-697c595f3a07"
      },
      "outputs": [
        {
          "name": "stdout",
          "output_type": "stream",
          "text": [
            "Found 22968 images belonging to 7 classes.\n",
            "Found 5741 images belonging to 7 classes.\n"
          ]
        }
      ],
      "source": [
        "from tensorflow.keras.preprocessing.image import ImageDataGenerator\n",
        "\n",
        "# Data augmentation and rescaling\n",
        "train_datagen = ImageDataGenerator(\n",
        "    rescale=1./255,\n",
        "    shear_range=0.1,\n",
        "    zoom_range=0.1,\n",
        "    horizontal_flip=True,\n",
        "    fill_mode='nearest',\n",
        "    validation_split=0.2,\n",
        "    rotation_range=10,\n",
        "    width_shift_range=0.1,\n",
        "    height_shift_range=0.1,\n",
        "     brightness_range=[0.8, 1.2]\n",
        ")\n",
        "\n",
        "# Load images from directories for Training\n",
        "train_generator = train_datagen.flow_from_directory(\n",
        "    train_path,\n",
        "    target_size=(224, 224),\n",
        "    subset='training',\n",
        "    batch_size=16,\n",
        "    shuffle=True,\n",
        "    class_mode='categorical'\n",
        ")\n",
        "\n",
        "# Load images from directories for Validation\n",
        "validation_generator = train_datagen.flow_from_directory(\n",
        "    train_path,\n",
        "    target_size=(224, 224),\n",
        "    subset='validation',\n",
        "    batch_size=16,\n",
        "    shuffle=True,\n",
        "    class_mode='categorical'\n",
        ")"
      ]
    },
    {
      "cell_type": "code",
      "execution_count": null,
      "metadata": {
        "id": "PEVU8nOWoGeI"
      },
      "outputs": [],
      "source": [
        "from tensorflow.keras.applications import VGG16\n",
        "from tensorflow.keras.models import Model\n",
        "from tensorflow.keras.layers import Dense,Flatten\n",
        "from tensorflow.keras.optimizers import Adam\n",
        "from tensorflow.keras.regularizers import l2\n",
        "from tensorflow.keras.layers import Dropout\n",
        "\n",
        "base_model = VGG16(weights='imagenet', include_top=False, input_shape=(224, 224, 3))\n",
        "for layer in base_model.layers:\n",
        "    layer.trainable = False\n",
        "x = base_model.output\n",
        "x = Flatten()(x)\n",
        "x = Dense(1024, activation='relu', kernel_regularizer=l2(0.001))(x)\n",
        "x = Dropout(0.5)(x)\n",
        "x = Dense(512, activation='relu', kernel_regularizer=l2(0.001))(x)\n",
        "x = Dropout(0.5)(x)\n",
        "x = Dense(256, activation='relu', kernel_regularizer=l2(0.001))(x)\n",
        "x = Dropout(0.5)(x)\n",
        "predictions = Dense(7, activation='softmax')(x)\n",
        "model = Model(inputs=base_model.input, outputs=predictions)\n",
        "model.compile(optimizer=Adam(learning_rate=0.0001), loss='categorical_crossentropy', metrics=['accuracy'])"
      ]
    },
    {
      "cell_type": "code",
      "execution_count": null,
      "metadata": {
        "colab": {
          "base_uri": "https://localhost:8080/"
        },
        "id": "Po7i5hqkoRIU",
        "outputId": "a9ca636e-5549-41ee-b923-3b343d3e2b97"
      },
      "outputs": [
        {
          "name": "stdout",
          "output_type": "stream",
          "text": [
            "Epoch 1/100\n",
            "1436/1436 [==============================] - 726s 505ms/step - loss: 3.0849 - accuracy: 0.2264 - val_loss: 2.5506 - val_accuracy: 0.2796 - lr: 1.0000e-04\n",
            "Epoch 2/100\n",
            "1436/1436 [==============================] - 722s 503ms/step - loss: 2.3582 - accuracy: 0.2906 - val_loss: 2.0953 - val_accuracy: 0.3475 - lr: 1.0000e-04\n",
            "Epoch 3/100\n",
            "1436/1436 [==============================] - 718s 500ms/step - loss: 2.0351 - accuracy: 0.3419 - val_loss: 1.8945 - val_accuracy: 0.4029 - lr: 1.0000e-04\n",
            "Epoch 4/100\n",
            "1436/1436 [==============================] - 725s 505ms/step - loss: 1.8565 - accuracy: 0.3642 - val_loss: 1.7278 - val_accuracy: 0.4271 - lr: 1.0000e-04\n",
            "Epoch 5/100\n",
            "1436/1436 [==============================] - 724s 504ms/step - loss: 1.7438 - accuracy: 0.3777 - val_loss: 1.6462 - val_accuracy: 0.4285 - lr: 1.0000e-04\n",
            "Epoch 6/100\n",
            "1436/1436 [==============================] - 731s 509ms/step - loss: 1.6774 - accuracy: 0.3848 - val_loss: 1.5968 - val_accuracy: 0.4477 - lr: 1.0000e-04\n",
            "Epoch 7/100\n",
            "1436/1436 [==============================] - 730s 508ms/step - loss: 1.6344 - accuracy: 0.3919 - val_loss: 1.5901 - val_accuracy: 0.4421 - lr: 1.0000e-04\n",
            "Epoch 8/100\n",
            "1436/1436 [==============================] - 729s 507ms/step - loss: 1.6160 - accuracy: 0.3986 - val_loss: 1.5920 - val_accuracy: 0.4428 - lr: 1.0000e-04\n",
            "Epoch 9/100\n",
            "1436/1436 [==============================] - 724s 504ms/step - loss: 1.5998 - accuracy: 0.3993 - val_loss: 1.5777 - val_accuracy: 0.4365 - lr: 1.0000e-04\n",
            "Epoch 10/100\n",
            "1436/1436 [==============================] - 725s 505ms/step - loss: 1.5926 - accuracy: 0.3994 - val_loss: 1.5463 - val_accuracy: 0.4518 - lr: 1.0000e-04\n",
            "Epoch 11/100\n",
            "1436/1436 [==============================] - 717s 500ms/step - loss: 1.5749 - accuracy: 0.4015 - val_loss: 1.5464 - val_accuracy: 0.4393 - lr: 1.0000e-04\n",
            "Epoch 12/100\n",
            "1436/1436 [==============================] - 720s 501ms/step - loss: 1.5705 - accuracy: 0.4063 - val_loss: 1.5618 - val_accuracy: 0.4396 - lr: 1.0000e-04\n",
            "Epoch 13/100\n",
            "1436/1436 [==============================] - 717s 500ms/step - loss: 1.5608 - accuracy: 0.4045 - val_loss: 1.5430 - val_accuracy: 0.4499 - lr: 1.0000e-04\n",
            "Epoch 14/100\n",
            "1436/1436 [==============================] - 722s 503ms/step - loss: 1.5603 - accuracy: 0.4073 - val_loss: 1.5442 - val_accuracy: 0.4466 - lr: 1.0000e-04\n",
            "Epoch 15/100\n",
            "1436/1436 [==============================] - 724s 504ms/step - loss: 1.5561 - accuracy: 0.4079 - val_loss: 1.5463 - val_accuracy: 0.4605 - lr: 1.0000e-04\n",
            "Epoch 16/100\n",
            "1436/1436 [==============================] - 722s 503ms/step - loss: 1.5449 - accuracy: 0.4099 - val_loss: 1.5010 - val_accuracy: 0.4604 - lr: 1.0000e-04\n",
            "Epoch 17/100\n",
            "1436/1436 [==============================] - 725s 505ms/step - loss: 1.5419 - accuracy: 0.4151 - val_loss: 1.5687 - val_accuracy: 0.4381 - lr: 1.0000e-04\n",
            "Epoch 18/100\n",
            "1436/1436 [==============================] - 724s 504ms/step - loss: 1.5483 - accuracy: 0.4111 - val_loss: 1.5433 - val_accuracy: 0.4419 - lr: 1.0000e-04\n",
            "Epoch 19/100\n",
            "1436/1436 [==============================] - 727s 506ms/step - loss: 1.5453 - accuracy: 0.4131 - val_loss: 1.5593 - val_accuracy: 0.4355 - lr: 1.0000e-04\n",
            "Epoch 20/100\n",
            "1436/1436 [==============================] - 725s 505ms/step - loss: 1.5373 - accuracy: 0.4130 - val_loss: 1.5614 - val_accuracy: 0.4471 - lr: 1.0000e-04\n",
            "Epoch 21/100\n",
            "1436/1436 [==============================] - 722s 503ms/step - loss: 1.5415 - accuracy: 0.4115 - val_loss: 1.5685 - val_accuracy: 0.4487 - lr: 1.0000e-04\n",
            "Epoch 22/100\n",
            "1436/1436 [==============================] - 725s 505ms/step - loss: 1.5412 - accuracy: 0.4088 - val_loss: 1.5529 - val_accuracy: 0.4360 - lr: 1.0000e-04\n",
            "Epoch 23/100\n",
            "1436/1436 [==============================] - 722s 503ms/step - loss: 1.5383 - accuracy: 0.4126 - val_loss: 1.5599 - val_accuracy: 0.4370 - lr: 1.0000e-04\n",
            "Epoch 24/100\n",
            "1436/1436 [==============================] - 720s 501ms/step - loss: 1.5356 - accuracy: 0.4161 - val_loss: 1.5467 - val_accuracy: 0.4374 - lr: 1.0000e-04\n",
            "Epoch 25/100\n",
            "1436/1436 [==============================] - 727s 506ms/step - loss: 1.5332 - accuracy: 0.4140 - val_loss: 1.5567 - val_accuracy: 0.4503 - lr: 1.0000e-04\n",
            "Epoch 26/100\n",
            "1436/1436 [==============================] - 723s 504ms/step - loss: 1.5322 - accuracy: 0.4134 - val_loss: 1.5686 - val_accuracy: 0.4348 - lr: 1.0000e-04\n",
            "Epoch 27/100\n",
            "1436/1436 [==============================] - 728s 507ms/step - loss: 1.5360 - accuracy: 0.4141 - val_loss: 1.5443 - val_accuracy: 0.4548 - lr: 1.0000e-04\n",
            "Epoch 28/100\n",
            "1436/1436 [==============================] - 705s 491ms/step - loss: 1.5251 - accuracy: 0.4187 - val_loss: 1.5666 - val_accuracy: 0.4393 - lr: 1.0000e-04\n",
            "Epoch 29/100\n",
            "1436/1436 [==============================] - 712s 496ms/step - loss: 1.5314 - accuracy: 0.4167 - val_loss: 1.5532 - val_accuracy: 0.4430 - lr: 1.0000e-04\n",
            "Epoch 30/100\n",
            "1436/1436 [==============================] - 712s 496ms/step - loss: 1.5320 - accuracy: 0.4170 - val_loss: 1.5370 - val_accuracy: 0.4543 - lr: 1.0000e-04\n",
            "Epoch 31/100\n",
            "1436/1436 [==============================] - 721s 502ms/step - loss: 1.5303 - accuracy: 0.4177 - val_loss: 1.5889 - val_accuracy: 0.4332 - lr: 1.0000e-04\n",
            "Epoch 32/100\n",
            "1436/1436 [==============================] - 723s 504ms/step - loss: 1.5282 - accuracy: 0.4181 - val_loss: 1.5582 - val_accuracy: 0.4177 - lr: 1.0000e-04\n",
            "Epoch 33/100\n",
            "1436/1436 [==============================] - 726s 505ms/step - loss: 1.5312 - accuracy: 0.4160 - val_loss: 1.5089 - val_accuracy: 0.4491 - lr: 1.0000e-04\n",
            "Epoch 34/100\n",
            "1436/1436 [==============================] - 714s 497ms/step - loss: 1.5261 - accuracy: 0.4200 - val_loss: 1.5341 - val_accuracy: 0.4532 - lr: 1.0000e-04\n",
            "Epoch 35/100\n",
            "1436/1436 [==============================] - 716s 498ms/step - loss: 1.5303 - accuracy: 0.4177 - val_loss: 1.5851 - val_accuracy: 0.4365 - lr: 1.0000e-04\n",
            "Epoch 36/100\n",
            "1436/1436 [==============================] - 739s 515ms/step - loss: 1.5279 - accuracy: 0.4227 - val_loss: 1.5652 - val_accuracy: 0.4391 - lr: 1.0000e-04\n",
            "Epoch 37/100\n",
            "1436/1436 [==============================] - 723s 504ms/step - loss: 1.5277 - accuracy: 0.4148 - val_loss: 1.5676 - val_accuracy: 0.4452 - lr: 1.0000e-04\n",
            "Epoch 38/100\n",
            "1436/1436 [==============================] - 719s 501ms/step - loss: 1.5248 - accuracy: 0.4166 - val_loss: 1.6145 - val_accuracy: 0.4154 - lr: 1.0000e-04\n",
            "Epoch 39/100\n",
            "1436/1436 [==============================] - 717s 499ms/step - loss: 1.5252 - accuracy: 0.4208 - val_loss: 1.5665 - val_accuracy: 0.4346 - lr: 1.0000e-04\n",
            "Epoch 40/100\n",
            "1436/1436 [==============================] - 721s 502ms/step - loss: 1.5289 - accuracy: 0.4191 - val_loss: 1.5714 - val_accuracy: 0.4250 - lr: 1.0000e-04\n",
            "Epoch 41/100\n",
            "1436/1436 [==============================] - 722s 502ms/step - loss: 1.5294 - accuracy: 0.4180 - val_loss: 1.5605 - val_accuracy: 0.4431 - lr: 1.0000e-04\n",
            "Epoch 42/100\n",
            "1436/1436 [==============================] - 713s 497ms/step - loss: 1.5230 - accuracy: 0.4197 - val_loss: 1.5838 - val_accuracy: 0.4193 - lr: 1.0000e-04\n",
            "Epoch 43/100\n",
            "1436/1436 [==============================] - 716s 499ms/step - loss: 1.5262 - accuracy: 0.4203 - val_loss: 1.5542 - val_accuracy: 0.4586 - lr: 1.0000e-04\n"
          ]
        }
      ],
      "source": [
        "from tensorflow.keras.callbacks import EarlyStopping\n",
        "from tensorflow.keras.callbacks import ReduceLROnPlateau\n",
        "reduce_lr = ReduceLROnPlateau(monitor='val_loss', factor=0.2, patience=5, min_lr=0.0001)\n",
        "early_stopping = EarlyStopping(monitor='val_loss', patience=10, restore_best_weights=True, start_from_epoch=25)\n",
        "vgg_history = model.fit(train_generator, validation_data=validation_generator, epochs=100,callbacks=[early_stopping,reduce_lr])"
      ]
    },
    {
      "cell_type": "code",
      "execution_count": null,
      "metadata": {
        "colab": {
          "base_uri": "https://localhost:8080/"
        },
        "id": "tdvFblnhU21c",
        "outputId": "a034955c-9cf6-4aed-b916-e45bd03d85ee"
      },
      "outputs": [
        {
          "name": "stdout",
          "output_type": "stream",
          "text": [
            "Model: \"model_1\"\n",
            "_________________________________________________________________\n",
            " Layer (type)                Output Shape              Param #   \n",
            "=================================================================\n",
            " input_2 (InputLayer)        [(None, 224, 224, 3)]     0         \n",
            "                                                                 \n",
            " block1_conv1 (Conv2D)       (None, 224, 224, 64)      1792      \n",
            "                                                                 \n",
            " block1_conv2 (Conv2D)       (None, 224, 224, 64)      36928     \n",
            "                                                                 \n",
            " block1_pool (MaxPooling2D)  (None, 112, 112, 64)      0         \n",
            "                                                                 \n",
            " block2_conv1 (Conv2D)       (None, 112, 112, 128)     73856     \n",
            "                                                                 \n",
            " block2_conv2 (Conv2D)       (None, 112, 112, 128)     147584    \n",
            "                                                                 \n",
            " block2_pool (MaxPooling2D)  (None, 56, 56, 128)       0         \n",
            "                                                                 \n",
            " block3_conv1 (Conv2D)       (None, 56, 56, 256)       295168    \n",
            "                                                                 \n",
            " block3_conv2 (Conv2D)       (None, 56, 56, 256)       590080    \n",
            "                                                                 \n",
            " block3_conv3 (Conv2D)       (None, 56, 56, 256)       590080    \n",
            "                                                                 \n",
            " block3_pool (MaxPooling2D)  (None, 28, 28, 256)       0         \n",
            "                                                                 \n",
            " block4_conv1 (Conv2D)       (None, 28, 28, 512)       1180160   \n",
            "                                                                 \n",
            " block4_conv2 (Conv2D)       (None, 28, 28, 512)       2359808   \n",
            "                                                                 \n",
            " block4_conv3 (Conv2D)       (None, 28, 28, 512)       2359808   \n",
            "                                                                 \n",
            " block4_pool (MaxPooling2D)  (None, 14, 14, 512)       0         \n",
            "                                                                 \n",
            " block5_conv1 (Conv2D)       (None, 14, 14, 512)       2359808   \n",
            "                                                                 \n",
            " block5_conv2 (Conv2D)       (None, 14, 14, 512)       2359808   \n",
            "                                                                 \n",
            " block5_conv3 (Conv2D)       (None, 14, 14, 512)       2359808   \n",
            "                                                                 \n",
            " block5_pool (MaxPooling2D)  (None, 7, 7, 512)         0         \n",
            "                                                                 \n",
            " flatten_1 (Flatten)         (None, 25088)             0         \n",
            "                                                                 \n",
            " dense_4 (Dense)             (None, 1024)              25691136  \n",
            "                                                                 \n",
            " dropout_3 (Dropout)         (None, 1024)              0         \n",
            "                                                                 \n",
            " dense_5 (Dense)             (None, 512)               524800    \n",
            "                                                                 \n",
            " dropout_4 (Dropout)         (None, 512)               0         \n",
            "                                                                 \n",
            " dense_6 (Dense)             (None, 256)               131328    \n",
            "                                                                 \n",
            " dropout_5 (Dropout)         (None, 256)               0         \n",
            "                                                                 \n",
            " dense_7 (Dense)             (None, 7)                 1799      \n",
            "                                                                 \n",
            "=================================================================\n",
            "Total params: 41063751 (156.65 MB)\n",
            "Trainable params: 26349063 (100.51 MB)\n",
            "Non-trainable params: 14714688 (56.13 MB)\n",
            "_________________________________________________________________\n"
          ]
        }
      ],
      "source": [
        "model.summary()"
      ]
    },
    {
      "cell_type": "code",
      "execution_count": null,
      "metadata": {
        "colab": {
          "base_uri": "https://localhost:8080/"
        },
        "id": "bzRjStGMVSvF",
        "outputId": "ff0ef4ea-923c-4dc7-9397-1fa4575d50cf"
      },
      "outputs": [
        {
          "name": "stdout",
          "output_type": "stream",
          "text": [
            "Epoch 1/100\n",
            "1436/1436 [==============================] - 899s 625ms/step - loss: 2.7429 - accuracy: 0.3310 - val_loss: 2.1451 - val_accuracy: 0.4593 - lr: 1.0000e-04\n",
            "Epoch 2/100\n",
            "1436/1436 [==============================] - 890s 620ms/step - loss: 2.0250 - accuracy: 0.4587 - val_loss: 1.8517 - val_accuracy: 0.4914 - lr: 1.0000e-04\n",
            "Epoch 3/100\n",
            "1436/1436 [==============================] - 891s 621ms/step - loss: 1.7617 - accuracy: 0.5017 - val_loss: 1.6362 - val_accuracy: 0.5253 - lr: 1.0000e-04\n",
            "Epoch 4/100\n",
            "1436/1436 [==============================] - 893s 622ms/step - loss: 1.5999 - accuracy: 0.5266 - val_loss: 1.5361 - val_accuracy: 0.5307 - lr: 1.0000e-04\n",
            "Epoch 5/100\n",
            "1436/1436 [==============================] - 897s 625ms/step - loss: 1.4729 - accuracy: 0.5549 - val_loss: 1.4415 - val_accuracy: 0.5560 - lr: 1.0000e-04\n",
            "Epoch 6/100\n",
            "1436/1436 [==============================] - 900s 626ms/step - loss: 1.3790 - accuracy: 0.5739 - val_loss: 1.3898 - val_accuracy: 0.5541 - lr: 1.0000e-04\n",
            "Epoch 7/100\n",
            "1436/1436 [==============================] - 894s 623ms/step - loss: 1.3083 - accuracy: 0.5883 - val_loss: 1.3326 - val_accuracy: 0.5705 - lr: 1.0000e-04\n",
            "Epoch 8/100\n",
            "1436/1436 [==============================] - 885s 616ms/step - loss: 1.2447 - accuracy: 0.6044 - val_loss: 1.2734 - val_accuracy: 0.5814 - lr: 1.0000e-04\n",
            "Epoch 9/100\n",
            "1436/1436 [==============================] - 915s 637ms/step - loss: 1.1879 - accuracy: 0.6230 - val_loss: 1.2444 - val_accuracy: 0.5919 - lr: 1.0000e-04\n",
            "Epoch 10/100\n",
            "1436/1436 [==============================] - 897s 624ms/step - loss: 1.1405 - accuracy: 0.6301 - val_loss: 1.2319 - val_accuracy: 0.6009 - lr: 1.0000e-04\n",
            "Epoch 11/100\n",
            "1436/1436 [==============================] - 905s 630ms/step - loss: 1.1043 - accuracy: 0.6404 - val_loss: 1.2274 - val_accuracy: 0.5921 - lr: 1.0000e-04\n",
            "Epoch 12/100\n",
            "1436/1436 [==============================] - 897s 625ms/step - loss: 1.0616 - accuracy: 0.6543 - val_loss: 1.2335 - val_accuracy: 0.5870 - lr: 1.0000e-04\n",
            "Epoch 13/100\n",
            "1436/1436 [==============================] - 895s 623ms/step - loss: 1.0342 - accuracy: 0.6638 - val_loss: 1.1814 - val_accuracy: 0.6037 - lr: 1.0000e-04\n",
            "Epoch 14/100\n",
            "1436/1436 [==============================] - 898s 626ms/step - loss: 0.9987 - accuracy: 0.6736 - val_loss: 1.1775 - val_accuracy: 0.6030 - lr: 1.0000e-04\n",
            "Epoch 15/100\n",
            "1436/1436 [==============================] - 897s 625ms/step - loss: 0.9570 - accuracy: 0.6868 - val_loss: 1.2264 - val_accuracy: 0.6053 - lr: 1.0000e-04\n",
            "Epoch 16/100\n",
            "1436/1436 [==============================] - 889s 619ms/step - loss: 0.9368 - accuracy: 0.6945 - val_loss: 1.2030 - val_accuracy: 0.6032 - lr: 1.0000e-04\n",
            "Epoch 17/100\n",
            "1436/1436 [==============================] - 885s 616ms/step - loss: 0.9034 - accuracy: 0.7053 - val_loss: 1.2131 - val_accuracy: 0.6053 - lr: 1.0000e-04\n",
            "Epoch 18/100\n",
            "1436/1436 [==============================] - 889s 619ms/step - loss: 0.8761 - accuracy: 0.7154 - val_loss: 1.2036 - val_accuracy: 0.6161 - lr: 1.0000e-04\n",
            "Epoch 19/100\n",
            "1436/1436 [==============================] - 883s 615ms/step - loss: 0.8522 - accuracy: 0.7276 - val_loss: 1.1858 - val_accuracy: 0.6222 - lr: 1.0000e-04\n",
            "Epoch 20/100\n",
            "1436/1436 [==============================] - 865s 602ms/step - loss: 0.8189 - accuracy: 0.7355 - val_loss: 1.2115 - val_accuracy: 0.6163 - lr: 1.0000e-04\n",
            "Epoch 21/100\n",
            "1436/1436 [==============================] - 876s 610ms/step - loss: 0.8038 - accuracy: 0.7398 - val_loss: 1.2012 - val_accuracy: 0.6135 - lr: 1.0000e-04\n",
            "Epoch 22/100\n",
            "1436/1436 [==============================] - 870s 606ms/step - loss: 0.7667 - accuracy: 0.7564 - val_loss: 1.2436 - val_accuracy: 0.6126 - lr: 1.0000e-04\n",
            "Epoch 23/100\n",
            "1436/1436 [==============================] - 878s 612ms/step - loss: 0.7532 - accuracy: 0.7651 - val_loss: 1.2768 - val_accuracy: 0.6149 - lr: 1.0000e-04\n",
            "Epoch 24/100\n",
            "1436/1436 [==============================] - 883s 615ms/step - loss: 0.7315 - accuracy: 0.7702 - val_loss: 1.2192 - val_accuracy: 0.6238 - lr: 1.0000e-04\n",
            "Epoch 25/100\n",
            "1436/1436 [==============================] - 886s 617ms/step - loss: 0.7084 - accuracy: 0.7786 - val_loss: 1.2238 - val_accuracy: 0.6161 - lr: 1.0000e-04\n",
            "Epoch 26/100\n",
            "1436/1436 [==============================] - 889s 619ms/step - loss: 0.6908 - accuracy: 0.7861 - val_loss: 1.2526 - val_accuracy: 0.6170 - lr: 1.0000e-04\n",
            "Epoch 27/100\n",
            "1436/1436 [==============================] - 884s 616ms/step - loss: 0.6694 - accuracy: 0.7956 - val_loss: 1.2592 - val_accuracy: 0.6180 - lr: 1.0000e-04\n",
            "Epoch 28/100\n",
            "1436/1436 [==============================] - 883s 615ms/step - loss: 0.6500 - accuracy: 0.8012 - val_loss: 1.2972 - val_accuracy: 0.6220 - lr: 1.0000e-04\n",
            "Epoch 29/100\n",
            "1436/1436 [==============================] - 888s 618ms/step - loss: 0.6359 - accuracy: 0.8035 - val_loss: 1.3246 - val_accuracy: 0.6203 - lr: 1.0000e-04\n",
            "Epoch 30/100\n",
            "1436/1436 [==============================] - 884s 616ms/step - loss: 0.6116 - accuracy: 0.8152 - val_loss: 1.3264 - val_accuracy: 0.6194 - lr: 1.0000e-04\n",
            "Epoch 31/100\n",
            "1436/1436 [==============================] - 879s 612ms/step - loss: 0.5957 - accuracy: 0.8227 - val_loss: 1.3085 - val_accuracy: 0.6168 - lr: 1.0000e-04\n",
            "Epoch 32/100\n",
            "1436/1436 [==============================] - 878s 612ms/step - loss: 0.5763 - accuracy: 0.8275 - val_loss: 1.3536 - val_accuracy: 0.6177 - lr: 1.0000e-04\n",
            "Epoch 33/100\n",
            "1436/1436 [==============================] - 880s 613ms/step - loss: 0.5682 - accuracy: 0.8300 - val_loss: 1.3943 - val_accuracy: 0.6163 - lr: 1.0000e-04\n",
            "Epoch 34/100\n",
            "1436/1436 [==============================] - 882s 614ms/step - loss: 0.5534 - accuracy: 0.8375 - val_loss: 1.4140 - val_accuracy: 0.6264 - lr: 1.0000e-04\n",
            "Epoch 35/100\n",
            "1436/1436 [==============================] - 891s 621ms/step - loss: 0.5413 - accuracy: 0.8392 - val_loss: 1.3419 - val_accuracy: 0.6241 - lr: 1.0000e-04\n",
            "Epoch 36/100\n",
            "1436/1436 [==============================] - 899s 626ms/step - loss: 0.5240 - accuracy: 0.8478 - val_loss: 1.4250 - val_accuracy: 0.6191 - lr: 1.0000e-04\n"
          ]
        }
      ],
      "source": [
        "from tensorflow.keras.applications import VGG16\n",
        "from tensorflow.keras.models import Model\n",
        "from tensorflow.keras.layers import Dense,Flatten\n",
        "from tensorflow.keras.optimizers import Adam\n",
        "from tensorflow.keras.regularizers import l2\n",
        "from tensorflow.keras.layers import Dropout\n",
        "from tensorflow.keras.callbacks import EarlyStopping\n",
        "from tensorflow.keras.callbacks import ReduceLROnPlateau\n",
        "\n",
        "base_model = VGG16(weights='imagenet', include_top=False, input_shape=(224, 224, 3))\n",
        "for layer in base_model.layers:\n",
        "    layer.trainable = False\n",
        "for layer in base_model.layers[-4:]:\n",
        "    layer.trainable = True\n",
        "x = base_model.output\n",
        "x = Flatten()(x)\n",
        "x = Dense(1024, activation='relu', kernel_regularizer=l2(0.001))(x)\n",
        "x = Dropout(0.5)(x)\n",
        "x = Dense(512, activation='relu', kernel_regularizer=l2(0.001))(x)\n",
        "x = Dropout(0.5)(x)\n",
        "x = Dense(256, activation='relu', kernel_regularizer=l2(0.001))(x)\n",
        "x = Dropout(0.5)(x)\n",
        "predictions = Dense(7, activation='softmax')(x)\n",
        "model_1 = Model(inputs=base_model.input, outputs=predictions)\n",
        "model_1.compile(optimizer=Adam(learning_rate=0.0001), loss='categorical_crossentropy', metrics=['accuracy'])\n",
        "reduce_lr = ReduceLROnPlateau(monitor='val_loss', factor=0.2, patience=5, min_lr=0.0001)\n",
        "early_stopping = EarlyStopping(monitor='val_loss', patience=10, restore_best_weights=True, start_from_epoch=25)\n",
        "vgg_history = model_1.fit(train_generator, validation_data=validation_generator, epochs=100,callbacks=[early_stopping,reduce_lr])"
      ]
    },
    {
      "cell_type": "code",
      "execution_count": null,
      "metadata": {
        "colab": {
          "base_uri": "https://localhost:8080/",
          "height": 239
        },
        "id": "1b_-J6vKTD-n",
        "outputId": "dccce19b-47bd-4221-9cd6-85048e799e3a"
      },
      "outputs": [
        {
          "data": {
            "image/png": "[encoded data removed]",
            "text/plain": [
              "<Figure size 1200x400 with 2 Axes>"
            ]
          },
          "metadata": {},
          "output_type": "display_data"
        }
      ],
      "source": [
        "import matplotlib.pyplot as plt\n",
        "\n",
        "# vgg_history is the history object returned by model.fit()\n",
        "history = vgg_history.history\n",
        "\n",
        "# Plotting training & validation accuracy values\n",
        "plt.figure(figsize=(12, 4))\n",
        "plt.subplot(1, 2, 1)\n",
        "plt.plot(history['accuracy'], label='Training Accuracy')\n",
        "plt.plot(history['val_accuracy'], label='Validation Accuracy')\n",
        "plt.title('Model Accuracy')\n",
        "plt.xlabel('Epoch')\n",
        "plt.ylabel('Accuracy')\n",
        "plt.legend(loc='upper left')\n",
        "\n",
        "# Plotting training & validation loss values\n",
        "plt.subplot(1, 2, 2)\n",
        "plt.plot(history['loss'], label='Training Loss')\n",
        "plt.plot(history['val_loss'], label='Validation Loss')\n",
        "plt.title('Model Loss')\n",
        "plt.xlabel('Epoch')\n",
        "plt.ylabel('Loss')\n",
        "plt.legend(loc='upper left')\n",
        "\n",
        "plt.tight_layout()\n",
        "plt.show()"
      ]
    },
    {
      "cell_type": "code",
      "execution_count": null,
      "metadata": {
        "colab": {
          "base_uri": "https://localhost:8080/"
        },
        "id": "g1SCOFNwTzon",
        "outputId": "f86c898a-0d6d-4839-cece-7ee4d5eddcff"
      },
      "outputs": [
        {
          "name": "stdout",
          "output_type": "stream",
          "text": [
            "1/1 [==============================] - 0s 85ms/step\n",
            "[[2.7655115e-04 5.4590632e-08 8.1866160e-03 4.1107929e-04 2.8052281e-03\n",
            "  1.0803201e-04 9.8821241e-01]]\n"
          ]
        }
      ],
      "source": [
        "import tensorflow as tf\n",
        "from tensorflow.keras.preprocessing.image import load_img, img_to_array\n",
        "\n",
        "# Loading and preprocess the image\n",
        "image_path = '/content/dataset/test/surprise/PrivateTest_10072988.jpg'\n",
        "image = load_img(image_path, target_size=(224, 224))  # Resize the image to match model's input size\n",
        "image_array = img_to_array(image)  # Convert the image to a numpy array\n",
        "image_array = image_array / 255.0  # Rescale the image\n",
        "\n",
        "# adding an extra dimension to include batch size\n",
        "image_array = tf.expand_dims(image_array, axis=0)\n",
        "\n",
        "# image_array as input to model for prediction\n",
        "predictions = model_1.predict(image_array)\n",
        "print(predictions)"
      ]
    },
    {
      "cell_type": "code",
      "execution_count": null,
      "metadata": {
        "colab": {
          "base_uri": "https://localhost:8080/"
        },
        "id": "fhuqRTjaUNP0",
        "outputId": "b68e6f14-3125-4ca2-944e-879c40a5bcbb"
      },
      "outputs": [
        {
          "name": "stdout",
          "output_type": "stream",
          "text": [
            "The predicted class is: surprise\n"
          ]
        }
      ],
      "source": [
        "import numpy as np\n",
        "\n",
        "predictions = np.array(predictions)\n",
        "# Get the index of the highest value\n",
        "predicted_class_index = np.argmax(predictions)\n",
        "# Mappinng the index to the class name\n",
        "class_names = ['Angry', 'disgust', 'fear', 'happy', 'neutral', 'sad', 'surprise']\n",
        "predicted_class = class_names[predicted_class_index]\n",
        "\n",
        "print(f\"The predicted class is: {predicted_class}\")"
      ]
    },
    {
      "cell_type": "code",
      "execution_count": null,
      "metadata": {
        "colab": {
          "base_uri": "https://localhost:8080/"
        },
        "id": "DX3TKQXKVAb5",
        "outputId": "0da8fe47-e9a3-4c5c-ad68-d151ac7ee568"
      },
      "outputs": [
        {
          "name": "stderr",
          "output_type": "stream",
          "text": [
            "/usr/local/lib/python3.10/dist-packages/keras/src/engine/training.py:3103: UserWarning: You are saving your model as an HDF5 file via `model.save()`. This file format is considered legacy. We recommend using instead the native Keras format, e.g. `model.save('my_model.keras')`.\n",
            "  saving_api.save_model(\n"
          ]
        }
      ],
      "source": [
        "#save  the vgg model\n",
        "model_1.save('vgg_model.h5')"
      ]
    },
    {
      "cell_type": "code",
      "execution_count": null,
      "metadata": {
        "colab": {
          "base_uri": "https://localhost:8080/",
          "height": 17
        },
        "id": "DJzIhGScVY9M",
        "outputId": "62d52bd0-b0bf-4e7e-b303-cce5a7986bd0"
      },
      "outputs": [
        {
          "data": {
            "application/javascript": "\n    async function download(id, filename, size) {\n      if (!google.colab.kernel.accessAllowed) {\n        return;\n      }\n      const div = document.createElement('div');\n      const label = document.createElement('label');\n      label.textContent = `Downloading \"${filename}\": `;\n      div.appendChild(label);\n      const progress = document.createElement('progress');\n      progress.max = size;\n      div.appendChild(progress);\n      document.body.appendChild(div);\n\n      const buffers = [];\n      let downloaded = 0;\n\n      const channel = await google.colab.kernel.comms.open(id);\n      // Send a message to notify the kernel that we're ready.\n      channel.send({})\n\n      for await (const message of channel.messages) {\n        // Send a message to notify the kernel that we're ready.\n        channel.send({})\n        if (message.buffers) {\n          for (const buffer of message.buffers) {\n            buffers.push(buffer);\n            downloaded += buffer.byteLength;\n            progress.value = downloaded;\n          }\n        }\n      }\n      const blob = new Blob(buffers, {type: 'application/binary'});\n      const a = document.createElement('a');\n      a.href = window.URL.createObjectURL(blob);\n      a.download = filename;\n      div.appendChild(a);\n      a.click();\n      div.remove();\n    }\n  ",
            "text/plain": [
              "<IPython.core.display.Javascript object>"
            ]
          },
          "metadata": {},
          "output_type": "display_data"
        },
        {
          "data": {
            "application/javascript": "download(\"download_9536de45-3a5c-4bb2-be76-7d80ed639b38\", \"vgg_model.h5\", 431803040)",
            "text/plain": [
              "<IPython.core.display.Javascript object>"
            ]
          },
          "metadata": {},
          "output_type": "display_data"
        }
      ],
      "source": [
        "#Download the saved model\n",
        "from google.colab import files\n",
        "files.download('vgg_model.h5')"
      ]
    },
    {
      "cell_type": "code",
      "execution_count": null,
      "metadata": {
        "colab": {
          "base_uri": "https://localhost:8080/"
        },
        "id": "Wh3eyp3aSByJ",
        "outputId": "84ac3b32-46df-4ee1-8f4d-51cd69d136d0"
      },
      "outputs": [
        {
          "name": "stdout",
          "output_type": "stream",
          "text": [
            "Found 22968 images belonging to 7 classes.\n",
            "Found 5741 images belonging to 7 classes.\n"
          ]
        }
      ],
      "source": [
        "from tensorflow.keras.preprocessing.image import ImageDataGenerator\n",
        "\n",
        "# Data augmentation and rescaling\n",
        "train_datagen = ImageDataGenerator(\n",
        "    rescale=1./255,\n",
        "    shear_range=0.2,\n",
        "    zoom_range=0.2,\n",
        "    horizontal_flip=True,\n",
        "    fill_mode='nearest',\n",
        "    validation_split=0.2,\n",
        "    rotation_range=20,\n",
        "    width_shift_range=0.2,\n",
        "    height_shift_range=0.2,\n",
        "     brightness_range=[0.8, 1.2]\n",
        ")\n",
        "\n",
        "# Load images from directories for Training\n",
        "train_generator = train_datagen.flow_from_directory(\n",
        "    train_path,\n",
        "    target_size=(224, 224),\n",
        "    subset='training',\n",
        "    batch_size=32,\n",
        "    shuffle=True,\n",
        "    class_mode='categorical'\n",
        ")\n",
        "\n",
        "# Load images from directories for Validation\n",
        "validation_generator = train_datagen.flow_from_directory(\n",
        "    train_path,\n",
        "    target_size=(224, 224),\n",
        "    subset='validation',\n",
        "    batch_size=32,\n",
        "    shuffle=True,\n",
        "    class_mode='categorical'\n",
        ")"
      ]
    },
    {
      "cell_type": "code",
      "execution_count": null,
      "metadata": {
        "id": "neQbI2dJVmIh"
      },
      "outputs": [],
      "source": [
        "#Pretrained Resnet Model\n",
        "from tensorflow.keras.applications import ResNet50\n",
        "from tensorflow.keras.models import Model\n",
        "from tensorflow.keras.layers import Conv2D,Dense,GlobalAveragePooling2D, BatchNormalization\n",
        "from tensorflow.keras.optimizers import Adam\n",
        "from tensorflow.keras.regularizers import l2\n",
        "from tensorflow.keras.layers import Dropout\n",
        "\n",
        "base_model = ResNet50(weights='imagenet', include_top=False, input_shape=(224, 224, 3))\n",
        "for layer in base_model.layers[:-20]:\n",
        "    layer.trainable = False\n",
        "x = base_model.output\n",
        "#x = Conv2D(512, (3, 3), activation='relu', padding='same')(x)\n",
        "#x = BatchNormalization()(x)\n",
        "#x = Dropout(0.25)(x)\n",
        "x = Conv2D(256, (3, 3), activation='relu', padding='same')(x)\n",
        "x = BatchNormalization()(x)\n",
        "x = Dropout(0.25)(x)\n",
        "x = GlobalAveragePooling2D()(x)\n",
        "x = Dense(1024, activation='relu', kernel_regularizer=l2(0.0005))(x)\n",
        "x = Dropout(0.25)(x)\n",
        "x = Dense(512, activation='relu', kernel_regularizer=l2(0.0005))(x)\n",
        "x = BatchNormalization()(x)\n",
        "x = Dropout(0.25)(x)\n",
        "#x = Dense(256, activation='relu', kernel_regularizer=l2(0.0005))(x)\n",
        "#x = BatchNormalization()(x)\n",
        "#x = Dropout(0.25)(x)\n",
        "#x = Dense(128, activation='relu', kernel_regularizer=l2(0.0005))(x)\n",
        "#x = BatchNormalization()(x)\n",
        "#x = Dropout(0.5)(x)\n",
        "predictions = Dense(7, activation='softmax')(x)\n",
        "model_res = Model(inputs=base_model.input, outputs=predictions)\n",
        "model_res.compile(optimizer=Adam(learning_rate=0.000001), loss='categorical_crossentropy', metrics=['accuracy'])"
      ]
    },
    {
      "cell_type": "code",
      "execution_count": null,
      "metadata": {
        "colab": {
          "base_uri": "https://localhost:8080/"
        },
        "id": "jv-MySSIeLxH",
        "outputId": "7bbc08ce-34b2-46a0-ef97-9c82e8851564"
      },
      "outputs": [
        {
          "name": "stdout",
          "output_type": "stream",
          "text": [
            "Model: \"model_9\"\n",
            "__________________________________________________________________________________________________\n",
            " Layer (type)                Output Shape                 Param #   Connected to                  \n",
            "==================================================================================================\n",
            " input_10 (InputLayer)       [(None, 224, 224, 3)]        0         []                            \n",
            "                                                                                                  \n",
            " conv1_pad (ZeroPadding2D)   (None, 230, 230, 3)          0         ['input_10[0][0]']            \n",
            "                                                                                                  \n",
            " conv1_conv (Conv2D)         (None, 112, 112, 64)         9472      ['conv1_pad[0][0]']           \n",
            "                                                                                                  \n",
            " conv1_bn (BatchNormalizati  (None, 112, 112, 64)         256       ['conv1_conv[0][0]']          \n",
            " on)                                                                                              \n",
            "                                                                                                  \n",
            " conv1_relu (Activation)     (None, 112, 112, 64)         0         ['conv1_bn[0][0]']            \n",
            "                                                                                                  \n",
            " pool1_pad (ZeroPadding2D)   (None, 114, 114, 64)         0         ['conv1_relu[0][0]']          \n",
            "                                                                                                  \n",
            " pool1_pool (MaxPooling2D)   (None, 56, 56, 64)           0         ['pool1_pad[0][0]']           \n",
            "                                                                                                  \n",
            " conv2_block1_1_conv (Conv2  (None, 56, 56, 64)           4160      ['pool1_pool[0][0]']          \n",
            " D)                                                                                               \n",
            "                                                                                                  \n",
            " conv2_block1_1_bn (BatchNo  (None, 56, 56, 64)           256       ['conv2_block1_1_conv[0][0]'] \n",
            " rmalization)                                                                                     \n",
            "                                                                                                  \n",
            " conv2_block1_1_relu (Activ  (None, 56, 56, 64)           0         ['conv2_block1_1_bn[0][0]']   \n",
            " ation)                                                                                           \n",
            "                                                                                                  \n",
            " conv2_block1_2_conv (Conv2  (None, 56, 56, 64)           36928     ['conv2_block1_1_relu[0][0]'] \n",
            " D)                                                                                               \n",
            "                                                                                                  \n",
            " conv2_block1_2_bn (BatchNo  (None, 56, 56, 64)           256       ['conv2_block1_2_conv[0][0]'] \n",
            " rmalization)                                                                                     \n",
            "                                                                                                  \n",
            " conv2_block1_2_relu (Activ  (None, 56, 56, 64)           0         ['conv2_block1_2_bn[0][0]']   \n",
            " ation)                                                                                           \n",
            "                                                                                                  \n",
            " conv2_block1_0_conv (Conv2  (None, 56, 56, 256)          16640     ['pool1_pool[0][0]']          \n",
            " D)                                                                                               \n",
            "                                                                                                  \n",
            " conv2_block1_3_conv (Conv2  (None, 56, 56, 256)          16640     ['conv2_block1_2_relu[0][0]'] \n",
            " D)                                                                                               \n",
            "                                                                                                  \n",
            " conv2_block1_0_bn (BatchNo  (None, 56, 56, 256)          1024      ['conv2_block1_0_conv[0][0]'] \n",
            " rmalization)                                                                                     \n",
            "                                                                                                  \n",
            " conv2_block1_3_bn (BatchNo  (None, 56, 56, 256)          1024      ['conv2_block1_3_conv[0][0]'] \n",
            " rmalization)                                                                                     \n",
            "                                                                                                  \n",
            " conv2_block1_add (Add)      (None, 56, 56, 256)          0         ['conv2_block1_0_bn[0][0]',   \n",
            "                                                                     'conv2_block1_3_bn[0][0]']   \n",
            "                                                                                                  \n",
            " conv2_block1_out (Activati  (None, 56, 56, 256)          0         ['conv2_block1_add[0][0]']    \n",
            " on)                                                                                              \n",
            "                                                                                                  \n",
            " conv2_block2_1_conv (Conv2  (None, 56, 56, 64)           16448     ['conv2_block1_out[0][0]']    \n",
            " D)                                                                                               \n",
            "                                                                                                  \n",
            " conv2_block2_1_bn (BatchNo  (None, 56, 56, 64)           256       ['conv2_block2_1_conv[0][0]'] \n",
            " rmalization)                                                                                     \n",
            "                                                                                                  \n",
            " conv2_block2_1_relu (Activ  (None, 56, 56, 64)           0         ['conv2_block2_1_bn[0][0]']   \n",
            " ation)                                                                                           \n",
            "                                                                                                  \n",
            " conv2_block2_2_conv (Conv2  (None, 56, 56, 64)           36928     ['conv2_block2_1_relu[0][0]'] \n",
            " D)                                                                                               \n",
            "                                                                                                  \n",
            " conv2_block2_2_bn (BatchNo  (None, 56, 56, 64)           256       ['conv2_block2_2_conv[0][0]'] \n",
            " rmalization)                                                                                     \n",
            "                                                                                                  \n",
            " conv2_block2_2_relu (Activ  (None, 56, 56, 64)           0         ['conv2_block2_2_bn[0][0]']   \n",
            " ation)                                                                                           \n",
            "                                                                                                  \n",
            " conv2_block2_3_conv (Conv2  (None, 56, 56, 256)          16640     ['conv2_block2_2_relu[0][0]'] \n",
            " D)                                                                                               \n",
            "                                                                                                  \n",
            " conv2_block2_3_bn (BatchNo  (None, 56, 56, 256)          1024      ['conv2_block2_3_conv[0][0]'] \n",
            " rmalization)                                                                                     \n",
            "                                                                                                  \n",
            " conv2_block2_add (Add)      (None, 56, 56, 256)          0         ['conv2_block1_out[0][0]',    \n",
            "                                                                     'conv2_block2_3_bn[0][0]']   \n",
            "                                                                                                  \n",
            " conv2_block2_out (Activati  (None, 56, 56, 256)          0         ['conv2_block2_add[0][0]']    \n",
            " on)                                                                                              \n",
            "                                                                                                  \n",
            " conv2_block3_1_conv (Conv2  (None, 56, 56, 64)           16448     ['conv2_block2_out[0][0]']    \n",
            " D)                                                                                               \n",
            "                                                                                                  \n",
            " conv2_block3_1_bn (BatchNo  (None, 56, 56, 64)           256       ['conv2_block3_1_conv[0][0]'] \n",
            " rmalization)                                                                                     \n",
            "                                                                                                  \n",
            " conv2_block3_1_relu (Activ  (None, 56, 56, 64)           0         ['conv2_block3_1_bn[0][0]']   \n",
            " ation)                                                                                           \n",
            "                                                                                                  \n",
            " conv2_block3_2_conv (Conv2  (None, 56, 56, 64)           36928     ['conv2_block3_1_relu[0][0]'] \n",
            " D)                                                                                               \n",
            "                                                                                                  \n",
            " conv2_block3_2_bn (BatchNo  (None, 56, 56, 64)           256       ['conv2_block3_2_conv[0][0]'] \n",
            " rmalization)                                                                                     \n",
            "                                                                                                  \n",
            " conv2_block3_2_relu (Activ  (None, 56, 56, 64)           0         ['conv2_block3_2_bn[0][0]']   \n",
            " ation)                                                                                           \n",
            "                                                                                                  \n",
            " conv2_block3_3_conv (Conv2  (None, 56, 56, 256)          16640     ['conv2_block3_2_relu[0][0]'] \n",
            " D)                                                                                               \n",
            "                                                                                                  \n",
            " conv2_block3_3_bn (BatchNo  (None, 56, 56, 256)          1024      ['conv2_block3_3_conv[0][0]'] \n",
            " rmalization)                                                                                     \n",
            "                                                                                                  \n",
            " conv2_block3_add (Add)      (None, 56, 56, 256)          0         ['conv2_block2_out[0][0]',    \n",
            "                                                                     'conv2_block3_3_bn[0][0]']   \n",
            "                                                                                                  \n",
            " conv2_block3_out (Activati  (None, 56, 56, 256)          0         ['conv2_block3_add[0][0]']    \n",
            " on)                                                                                              \n",
            "                                                                                                  \n",
            " conv3_block1_1_conv (Conv2  (None, 28, 28, 128)          32896     ['conv2_block3_out[0][0]']    \n",
            " D)                                                                                               \n",
            "                                                                                                  \n",
            " conv3_block1_1_bn (BatchNo  (None, 28, 28, 128)          512       ['conv3_block1_1_conv[0][0]'] \n",
            " rmalization)                                                                                     \n",
            "                                                                                                  \n",
            " conv3_block1_1_relu (Activ  (None, 28, 28, 128)          0         ['conv3_block1_1_bn[0][0]']   \n",
            " ation)                                                                                           \n",
            "                                                                                                  \n",
            " conv3_block1_2_conv (Conv2  (None, 28, 28, 128)          147584    ['conv3_block1_1_relu[0][0]'] \n",
            " D)                                                                                               \n",
            "                                                                                                  \n",
            " conv3_block1_2_bn (BatchNo  (None, 28, 28, 128)          512       ['conv3_block1_2_conv[0][0]'] \n",
            " rmalization)                                                                                     \n",
            "                                                                                                  \n",
            " conv3_block1_2_relu (Activ  (None, 28, 28, 128)          0         ['conv3_block1_2_bn[0][0]']   \n",
            " ation)                                                                                           \n",
            "                                                                                                  \n",
            " conv3_block1_0_conv (Conv2  (None, 28, 28, 512)          131584    ['conv2_block3_out[0][0]']    \n",
            " D)                                                                                               \n",
            "                                                                                                  \n",
            " conv3_block1_3_conv (Conv2  (None, 28, 28, 512)          66048     ['conv3_block1_2_relu[0][0]'] \n",
            " D)                                                                                               \n",
            "                                                                                                  \n",
            " conv3_block1_0_bn (BatchNo  (None, 28, 28, 512)          2048      ['conv3_block1_0_conv[0][0]'] \n",
            " rmalization)                                                                                     \n",
            "                                                                                                  \n",
            " conv3_block1_3_bn (BatchNo  (None, 28, 28, 512)          2048      ['conv3_block1_3_conv[0][0]'] \n",
            " rmalization)                                                                                     \n",
            "                                                                                                  \n",
            " conv3_block1_add (Add)      (None, 28, 28, 512)          0         ['conv3_block1_0_bn[0][0]',   \n",
            "                                                                     'conv3_block1_3_bn[0][0]']   \n",
            "                                                                                                  \n",
            " conv3_block1_out (Activati  (None, 28, 28, 512)          0         ['conv3_block1_add[0][0]']    \n",
            " on)                                                                                              \n",
            "                                                                                                  \n",
            " conv3_block2_1_conv (Conv2  (None, 28, 28, 128)          65664     ['conv3_block1_out[0][0]']    \n",
            " D)                                                                                               \n",
            "                                                                                                  \n",
            " conv3_block2_1_bn (BatchNo  (None, 28, 28, 128)          512       ['conv3_block2_1_conv[0][0]'] \n",
            " rmalization)                                                                                     \n",
            "                                                                                                  \n",
            " conv3_block2_1_relu (Activ  (None, 28, 28, 128)          0         ['conv3_block2_1_bn[0][0]']   \n",
            " ation)                                                                                           \n",
            "                                                                                                  \n",
            " conv3_block2_2_conv (Conv2  (None, 28, 28, 128)          147584    ['conv3_block2_1_relu[0][0]'] \n",
            " D)                                                                                               \n",
            "                                                                                                  \n",
            " conv3_block2_2_bn (BatchNo  (None, 28, 28, 128)          512       ['conv3_block2_2_conv[0][0]'] \n",
            " rmalization)                                                                                     \n",
            "                                                                                                  \n",
            " conv3_block2_2_relu (Activ  (None, 28, 28, 128)          0         ['conv3_block2_2_bn[0][0]']   \n",
            " ation)                                                                                           \n",
            "                                                                                                  \n",
            " conv3_block2_3_conv (Conv2  (None, 28, 28, 512)          66048     ['conv3_block2_2_relu[0][0]'] \n",
            " D)                                                                                               \n",
            "                                                                                                  \n",
            " conv3_block2_3_bn (BatchNo  (None, 28, 28, 512)          2048      ['conv3_block2_3_conv[0][0]'] \n",
            " rmalization)                                                                                     \n",
            "                                                                                                  \n",
            " conv3_block2_add (Add)      (None, 28, 28, 512)          0         ['conv3_block1_out[0][0]',    \n",
            "                                                                     'conv3_block2_3_bn[0][0]']   \n",
            "                                                                                                  \n",
            " conv3_block2_out (Activati  (None, 28, 28, 512)          0         ['conv3_block2_add[0][0]']    \n",
            " on)                                                                                              \n",
            "                                                                                                  \n",
            " conv3_block3_1_conv (Conv2  (None, 28, 28, 128)          65664     ['conv3_block2_out[0][0]']    \n",
            " D)                                                                                               \n",
            "                                                                                                  \n",
            " conv3_block3_1_bn (BatchNo  (None, 28, 28, 128)          512       ['conv3_block3_1_conv[0][0]'] \n",
            " rmalization)                                                                                     \n",
            "                                                                                                  \n",
            " conv3_block3_1_relu (Activ  (None, 28, 28, 128)          0         ['conv3_block3_1_bn[0][0]']   \n",
            " ation)                                                                                           \n",
            "                                                                                                  \n",
            " conv3_block3_2_conv (Conv2  (None, 28, 28, 128)          147584    ['conv3_block3_1_relu[0][0]'] \n",
            " D)                                                                                               \n",
            "                                                                                                  \n",
            " conv3_block3_2_bn (BatchNo  (None, 28, 28, 128)          512       ['conv3_block3_2_conv[0][0]'] \n",
            " rmalization)                                                                                     \n",
            "                                                                                                  \n",
            " conv3_block3_2_relu (Activ  (None, 28, 28, 128)          0         ['conv3_block3_2_bn[0][0]']   \n",
            " ation)                                                                                           \n",
            "                                                                                                  \n",
            " conv3_block3_3_conv (Conv2  (None, 28, 28, 512)          66048     ['conv3_block3_2_relu[0][0]'] \n",
            " D)                                                                                               \n",
            "                                                                                                  \n",
            " conv3_block3_3_bn (BatchNo  (None, 28, 28, 512)          2048      ['conv3_block3_3_conv[0][0]'] \n",
            " rmalization)                                                                                     \n",
            "                                                                                                  \n",
            " conv3_block3_add (Add)      (None, 28, 28, 512)          0         ['conv3_block2_out[0][0]',    \n",
            "                                                                     'conv3_block3_3_bn[0][0]']   \n",
            "                                                                                                  \n",
            " conv3_block3_out (Activati  (None, 28, 28, 512)          0         ['conv3_block3_add[0][0]']    \n",
            " on)                                                                                              \n",
            "                                                                                                  \n",
            " conv3_block4_1_conv (Conv2  (None, 28, 28, 128)          65664     ['conv3_block3_out[0][0]']    \n",
            " D)                                                                                               \n",
            "                                                                                                  \n",
            " conv3_block4_1_bn (BatchNo  (None, 28, 28, 128)          512       ['conv3_block4_1_conv[0][0]'] \n",
            " rmalization)                                                                                     \n",
            "                                                                                                  \n",
            " conv3_block4_1_relu (Activ  (None, 28, 28, 128)          0         ['conv3_block4_1_bn[0][0]']   \n",
            " ation)                                                                                           \n",
            "                                                                                                  \n",
            " conv3_block4_2_conv (Conv2  (None, 28, 28, 128)          147584    ['conv3_block4_1_relu[0][0]'] \n",
            " D)                                                                                               \n",
            "                                                                                                  \n",
            " conv3_block4_2_bn (BatchNo  (None, 28, 28, 128)          512       ['conv3_block4_2_conv[0][0]'] \n",
            " rmalization)                                                                                     \n",
            "                                                                                                  \n",
            " conv3_block4_2_relu (Activ  (None, 28, 28, 128)          0         ['conv3_block4_2_bn[0][0]']   \n",
            " ation)                                                                                           \n",
            "                                                                                                  \n",
            " conv3_block4_3_conv (Conv2  (None, 28, 28, 512)          66048     ['conv3_block4_2_relu[0][0]'] \n",
            " D)                                                                                               \n",
            "                                                                                                  \n",
            " conv3_block4_3_bn (BatchNo  (None, 28, 28, 512)          2048      ['conv3_block4_3_conv[0][0]'] \n",
            " rmalization)                                                                                     \n",
            "                                                                                                  \n",
            " conv3_block4_add (Add)      (None, 28, 28, 512)          0         ['conv3_block3_out[0][0]',    \n",
            "                                                                     'conv3_block4_3_bn[0][0]']   \n",
            "                                                                                                  \n",
            " conv3_block4_out (Activati  (None, 28, 28, 512)          0         ['conv3_block4_add[0][0]']    \n",
            " on)                                                                                              \n",
            "                                                                                                  \n",
            " conv4_block1_1_conv (Conv2  (None, 14, 14, 256)          131328    ['conv3_block4_out[0][0]']    \n",
            " D)                                                                                               \n",
            "                                                                                                  \n",
            " conv4_block1_1_bn (BatchNo  (None, 14, 14, 256)          1024      ['conv4_block1_1_conv[0][0]'] \n",
            " rmalization)                                                                                     \n",
            "                                                                                                  \n",
            " conv4_block1_1_relu (Activ  (None, 14, 14, 256)          0         ['conv4_block1_1_bn[0][0]']   \n",
            " ation)                                                                                           \n",
            "                                                                                                  \n",
            " conv4_block1_2_conv (Conv2  (None, 14, 14, 256)          590080    ['conv4_block1_1_relu[0][0]'] \n",
            " D)                                                                                               \n",
            "                                                                                                  \n",
            " conv4_block1_2_bn (BatchNo  (None, 14, 14, 256)          1024      ['conv4_block1_2_conv[0][0]'] \n",
            " rmalization)                                                                                     \n",
            "                                                                                                  \n",
            " conv4_block1_2_relu (Activ  (None, 14, 14, 256)          0         ['conv4_block1_2_bn[0][0]']   \n",
            " ation)                                                                                           \n",
            "                                                                                                  \n",
            " conv4_block1_0_conv (Conv2  (None, 14, 14, 1024)         525312    ['conv3_block4_out[0][0]']    \n",
            " D)                                                                                               \n",
            "                                                                                                  \n",
            " conv4_block1_3_conv (Conv2  (None, 14, 14, 1024)         263168    ['conv4_block1_2_relu[0][0]'] \n",
            " D)                                                                                               \n",
            "                                                                                                  \n",
            " conv4_block1_0_bn (BatchNo  (None, 14, 14, 1024)         4096      ['conv4_block1_0_conv[0][0]'] \n",
            " rmalization)                                                                                     \n",
            "                                                                                                  \n",
            " conv4_block1_3_bn (BatchNo  (None, 14, 14, 1024)         4096      ['conv4_block1_3_conv[0][0]'] \n",
            " rmalization)                                                                                     \n",
            "                                                                                                  \n",
            " conv4_block1_add (Add)      (None, 14, 14, 1024)         0         ['conv4_block1_0_bn[0][0]',   \n",
            "                                                                     'conv4_block1_3_bn[0][0]']   \n",
            "                                                                                                  \n",
            " conv4_block1_out (Activati  (None, 14, 14, 1024)         0         ['conv4_block1_add[0][0]']    \n",
            " on)                                                                                              \n",
            "                                                                                                  \n",
            " conv4_block2_1_conv (Conv2  (None, 14, 14, 256)          262400    ['conv4_block1_out[0][0]']    \n",
            " D)                                                                                               \n",
            "                                                                                                  \n",
            " conv4_block2_1_bn (BatchNo  (None, 14, 14, 256)          1024      ['conv4_block2_1_conv[0][0]'] \n",
            " rmalization)                                                                                     \n",
            "                                                                                                  \n",
            " conv4_block2_1_relu (Activ  (None, 14, 14, 256)          0         ['conv4_block2_1_bn[0][0]']   \n",
            " ation)                                                                                           \n",
            "                                                                                                  \n",
            " conv4_block2_2_conv (Conv2  (None, 14, 14, 256)          590080    ['conv4_block2_1_relu[0][0]'] \n",
            " D)                                                                                               \n",
            "                                                                                                  \n",
            " conv4_block2_2_bn (BatchNo  (None, 14, 14, 256)          1024      ['conv4_block2_2_conv[0][0]'] \n",
            " rmalization)                                                                                     \n",
            "                                                                                                  \n",
            " conv4_block2_2_relu (Activ  (None, 14, 14, 256)          0         ['conv4_block2_2_bn[0][0]']   \n",
            " ation)                                                                                           \n",
            "                                                                                                  \n",
            " conv4_block2_3_conv (Conv2  (None, 14, 14, 1024)         263168    ['conv4_block2_2_relu[0][0]'] \n",
            " D)                                                                                               \n",
            "                                                                                                  \n",
            " conv4_block2_3_bn (BatchNo  (None, 14, 14, 1024)         4096      ['conv4_block2_3_conv[0][0]'] \n",
            " rmalization)                                                                                     \n",
            "                                                                                                  \n",
            " conv4_block2_add (Add)      (None, 14, 14, 1024)         0         ['conv4_block1_out[0][0]',    \n",
            "                                                                     'conv4_block2_3_bn[0][0]']   \n",
            "                                                                                                  \n",
            " conv4_block2_out (Activati  (None, 14, 14, 1024)         0         ['conv4_block2_add[0][0]']    \n",
            " on)                                                                                              \n",
            "                                                                                                  \n",
            " conv4_block3_1_conv (Conv2  (None, 14, 14, 256)          262400    ['conv4_block2_out[0][0]']    \n",
            " D)                                                                                               \n",
            "                                                                                                  \n",
            " conv4_block3_1_bn (BatchNo  (None, 14, 14, 256)          1024      ['conv4_block3_1_conv[0][0]'] \n",
            " rmalization)                                                                                     \n",
            "                                                                                                  \n",
            " conv4_block3_1_relu (Activ  (None, 14, 14, 256)          0         ['conv4_block3_1_bn[0][0]']   \n",
            " ation)                                                                                           \n",
            "                                                                                                  \n",
            " conv4_block3_2_conv (Conv2  (None, 14, 14, 256)          590080    ['conv4_block3_1_relu[0][0]'] \n",
            " D)                                                                                               \n",
            "                                                                                                  \n",
            " conv4_block3_2_bn (BatchNo  (None, 14, 14, 256)          1024      ['conv4_block3_2_conv[0][0]'] \n",
            " rmalization)                                                                                     \n",
            "                                                                                                  \n",
            " conv4_block3_2_relu (Activ  (None, 14, 14, 256)          0         ['conv4_block3_2_bn[0][0]']   \n",
            " ation)                                                                                           \n",
            "                                                                                                  \n",
            " conv4_block3_3_conv (Conv2  (None, 14, 14, 1024)         263168    ['conv4_block3_2_relu[0][0]'] \n",
            " D)                                                                                               \n",
            "                                                                                                  \n",
            " conv4_block3_3_bn (BatchNo  (None, 14, 14, 1024)         4096      ['conv4_block3_3_conv[0][0]'] \n",
            " rmalization)                                                                                     \n",
            "                                                                                                  \n",
            " conv4_block3_add (Add)      (None, 14, 14, 1024)         0         ['conv4_block2_out[0][0]',    \n",
            "                                                                     'conv4_block3_3_bn[0][0]']   \n",
            "                                                                                                  \n",
            " conv4_block3_out (Activati  (None, 14, 14, 1024)         0         ['conv4_block3_add[0][0]']    \n",
            " on)                                                                                              \n",
            "                                                                                                  \n",
            " conv4_block4_1_conv (Conv2  (None, 14, 14, 256)          262400    ['conv4_block3_out[0][0]']    \n",
            " D)                                                                                               \n",
            "                                                                                                  \n",
            " conv4_block4_1_bn (BatchNo  (None, 14, 14, 256)          1024      ['conv4_block4_1_conv[0][0]'] \n",
            " rmalization)                                                                                     \n",
            "                                                                                                  \n",
            " conv4_block4_1_relu (Activ  (None, 14, 14, 256)          0         ['conv4_block4_1_bn[0][0]']   \n",
            " ation)                                                                                           \n",
            "                                                                                                  \n",
            " conv4_block4_2_conv (Conv2  (None, 14, 14, 256)          590080    ['conv4_block4_1_relu[0][0]'] \n",
            " D)                                                                                               \n",
            "                                                                                                  \n",
            " conv4_block4_2_bn (BatchNo  (None, 14, 14, 256)          1024      ['conv4_block4_2_conv[0][0]'] \n",
            " rmalization)                                                                                     \n",
            "                                                                                                  \n",
            " conv4_block4_2_relu (Activ  (None, 14, 14, 256)          0         ['conv4_block4_2_bn[0][0]']   \n",
            " ation)                                                                                           \n",
            "                                                                                                  \n",
            " conv4_block4_3_conv (Conv2  (None, 14, 14, 1024)         263168    ['conv4_block4_2_relu[0][0]'] \n",
            " D)                                                                                               \n",
            "                                                                                                  \n",
            " conv4_block4_3_bn (BatchNo  (None, 14, 14, 1024)         4096      ['conv4_block4_3_conv[0][0]'] \n",
            " rmalization)                                                                                     \n",
            "                                                                                                  \n",
            " conv4_block4_add (Add)      (None, 14, 14, 1024)         0         ['conv4_block3_out[0][0]',    \n",
            "                                                                     'conv4_block4_3_bn[0][0]']   \n",
            "                                                                                                  \n",
            " conv4_block4_out (Activati  (None, 14, 14, 1024)         0         ['conv4_block4_add[0][0]']    \n",
            " on)                                                                                              \n",
            "                                                                                                  \n",
            " conv4_block5_1_conv (Conv2  (None, 14, 14, 256)          262400    ['conv4_block4_out[0][0]']    \n",
            " D)                                                                                               \n",
            "                                                                                                  \n",
            " conv4_block5_1_bn (BatchNo  (None, 14, 14, 256)          1024      ['conv4_block5_1_conv[0][0]'] \n",
            " rmalization)                                                                                     \n",
            "                                                                                                  \n",
            " conv4_block5_1_relu (Activ  (None, 14, 14, 256)          0         ['conv4_block5_1_bn[0][0]']   \n",
            " ation)                                                                                           \n",
            "                                                                                                  \n",
            " conv4_block5_2_conv (Conv2  (None, 14, 14, 256)          590080    ['conv4_block5_1_relu[0][0]'] \n",
            " D)                                                                                               \n",
            "                                                                                                  \n",
            " conv4_block5_2_bn (BatchNo  (None, 14, 14, 256)          1024      ['conv4_block5_2_conv[0][0]'] \n",
            " rmalization)                                                                                     \n",
            "                                                                                                  \n",
            " conv4_block5_2_relu (Activ  (None, 14, 14, 256)          0         ['conv4_block5_2_bn[0][0]']   \n",
            " ation)                                                                                           \n",
            "                                                                                                  \n",
            " conv4_block5_3_conv (Conv2  (None, 14, 14, 1024)         263168    ['conv4_block5_2_relu[0][0]'] \n",
            " D)                                                                                               \n",
            "                                                                                                  \n",
            " conv4_block5_3_bn (BatchNo  (None, 14, 14, 1024)         4096      ['conv4_block5_3_conv[0][0]'] \n",
            " rmalization)                                                                                     \n",
            "                                                                                                  \n",
            " conv4_block5_add (Add)      (None, 14, 14, 1024)         0         ['conv4_block4_out[0][0]',    \n",
            "                                                                     'conv4_block5_3_bn[0][0]']   \n",
            "                                                                                                  \n",
            " conv4_block5_out (Activati  (None, 14, 14, 1024)         0         ['conv4_block5_add[0][0]']    \n",
            " on)                                                                                              \n",
            "                                                                                                  \n",
            " conv4_block6_1_conv (Conv2  (None, 14, 14, 256)          262400    ['conv4_block5_out[0][0]']    \n",
            " D)                                                                                               \n",
            "                                                                                                  \n",
            " conv4_block6_1_bn (BatchNo  (None, 14, 14, 256)          1024      ['conv4_block6_1_conv[0][0]'] \n",
            " rmalization)                                                                                     \n",
            "                                                                                                  \n",
            " conv4_block6_1_relu (Activ  (None, 14, 14, 256)          0         ['conv4_block6_1_bn[0][0]']   \n",
            " ation)                                                                                           \n",
            "                                                                                                  \n",
            " conv4_block6_2_conv (Conv2  (None, 14, 14, 256)          590080    ['conv4_block6_1_relu[0][0]'] \n",
            " D)                                                                                               \n",
            "                                                                                                  \n",
            " conv4_block6_2_bn (BatchNo  (None, 14, 14, 256)          1024      ['conv4_block6_2_conv[0][0]'] \n",
            " rmalization)                                                                                     \n",
            "                                                                                                  \n",
            " conv4_block6_2_relu (Activ  (None, 14, 14, 256)          0         ['conv4_block6_2_bn[0][0]']   \n",
            " ation)                                                                                           \n",
            "                                                                                                  \n",
            " conv4_block6_3_conv (Conv2  (None, 14, 14, 1024)         263168    ['conv4_block6_2_relu[0][0]'] \n",
            " D)                                                                                               \n",
            "                                                                                                  \n",
            " conv4_block6_3_bn (BatchNo  (None, 14, 14, 1024)         4096      ['conv4_block6_3_conv[0][0]'] \n",
            " rmalization)                                                                                     \n",
            "                                                                                                  \n",
            " conv4_block6_add (Add)      (None, 14, 14, 1024)         0         ['conv4_block5_out[0][0]',    \n",
            "                                                                     'conv4_block6_3_bn[0][0]']   \n",
            "                                                                                                  \n",
            " conv4_block6_out (Activati  (None, 14, 14, 1024)         0         ['conv4_block6_add[0][0]']    \n",
            " on)                                                                                              \n",
            "                                                                                                  \n",
            " conv5_block1_1_conv (Conv2  (None, 7, 7, 512)            524800    ['conv4_block6_out[0][0]']    \n",
            " D)                                                                                               \n",
            "                                                                                                  \n",
            " conv5_block1_1_bn (BatchNo  (None, 7, 7, 512)            2048      ['conv5_block1_1_conv[0][0]'] \n",
            " rmalization)                                                                                     \n",
            "                                                                                                  \n",
            " conv5_block1_1_relu (Activ  (None, 7, 7, 512)            0         ['conv5_block1_1_bn[0][0]']   \n",
            " ation)                                                                                           \n",
            "                                                                                                  \n",
            " conv5_block1_2_conv (Conv2  (None, 7, 7, 512)            2359808   ['conv5_block1_1_relu[0][0]'] \n",
            " D)                                                                                               \n",
            "                                                                                                  \n",
            " conv5_block1_2_bn (BatchNo  (None, 7, 7, 512)            2048      ['conv5_block1_2_conv[0][0]'] \n",
            " rmalization)                                                                                     \n",
            "                                                                                                  \n",
            " conv5_block1_2_relu (Activ  (None, 7, 7, 512)            0         ['conv5_block1_2_bn[0][0]']   \n",
            " ation)                                                                                           \n",
            "                                                                                                  \n",
            " conv5_block1_0_conv (Conv2  (None, 7, 7, 2048)           2099200   ['conv4_block6_out[0][0]']    \n",
            " D)                                                                                               \n",
            "                                                                                                  \n",
            " conv5_block1_3_conv (Conv2  (None, 7, 7, 2048)           1050624   ['conv5_block1_2_relu[0][0]'] \n",
            " D)                                                                                               \n",
            "                                                                                                  \n",
            " conv5_block1_0_bn (BatchNo  (None, 7, 7, 2048)           8192      ['conv5_block1_0_conv[0][0]'] \n",
            " rmalization)                                                                                     \n",
            "                                                                                                  \n",
            " conv5_block1_3_bn (BatchNo  (None, 7, 7, 2048)           8192      ['conv5_block1_3_conv[0][0]'] \n",
            " rmalization)                                                                                     \n",
            "                                                                                                  \n",
            " conv5_block1_add (Add)      (None, 7, 7, 2048)           0         ['conv5_block1_0_bn[0][0]',   \n",
            "                                                                     'conv5_block1_3_bn[0][0]']   \n",
            "                                                                                                  \n",
            " conv5_block1_out (Activati  (None, 7, 7, 2048)           0         ['conv5_block1_add[0][0]']    \n",
            " on)                                                                                              \n",
            "                                                                                                  \n",
            " conv5_block2_1_conv (Conv2  (None, 7, 7, 512)            1049088   ['conv5_block1_out[0][0]']    \n",
            " D)                                                                                               \n",
            "                                                                                                  \n",
            " conv5_block2_1_bn (BatchNo  (None, 7, 7, 512)            2048      ['conv5_block2_1_conv[0][0]'] \n",
            " rmalization)                                                                                     \n",
            "                                                                                                  \n",
            " conv5_block2_1_relu (Activ  (None, 7, 7, 512)            0         ['conv5_block2_1_bn[0][0]']   \n",
            " ation)                                                                                           \n",
            "                                                                                                  \n",
            " conv5_block2_2_conv (Conv2  (None, 7, 7, 512)            2359808   ['conv5_block2_1_relu[0][0]'] \n",
            " D)                                                                                               \n",
            "                                                                                                  \n",
            " conv5_block2_2_bn (BatchNo  (None, 7, 7, 512)            2048      ['conv5_block2_2_conv[0][0]'] \n",
            " rmalization)                                                                                     \n",
            "                                                                                                  \n",
            " conv5_block2_2_relu (Activ  (None, 7, 7, 512)            0         ['conv5_block2_2_bn[0][0]']   \n",
            " ation)                                                                                           \n",
            "                                                                                                  \n",
            " conv5_block2_3_conv (Conv2  (None, 7, 7, 2048)           1050624   ['conv5_block2_2_relu[0][0]'] \n",
            " D)                                                                                               \n",
            "                                                                                                  \n",
            " conv5_block2_3_bn (BatchNo  (None, 7, 7, 2048)           8192      ['conv5_block2_3_conv[0][0]'] \n",
            " rmalization)                                                                                     \n",
            "                                                                                                  \n",
            " conv5_block2_add (Add)      (None, 7, 7, 2048)           0         ['conv5_block1_out[0][0]',    \n",
            "                                                                     'conv5_block2_3_bn[0][0]']   \n",
            "                                                                                                  \n",
            " conv5_block2_out (Activati  (None, 7, 7, 2048)           0         ['conv5_block2_add[0][0]']    \n",
            " on)                                                                                              \n",
            "                                                                                                  \n",
            " conv5_block3_1_conv (Conv2  (None, 7, 7, 512)            1049088   ['conv5_block2_out[0][0]']    \n",
            " D)                                                                                               \n",
            "                                                                                                  \n",
            " conv5_block3_1_bn (BatchNo  (None, 7, 7, 512)            2048      ['conv5_block3_1_conv[0][0]'] \n",
            " rmalization)                                                                                     \n",
            "                                                                                                  \n",
            " conv5_block3_1_relu (Activ  (None, 7, 7, 512)            0         ['conv5_block3_1_bn[0][0]']   \n",
            " ation)                                                                                           \n",
            "                                                                                                  \n",
            " conv5_block3_2_conv (Conv2  (None, 7, 7, 512)            2359808   ['conv5_block3_1_relu[0][0]'] \n",
            " D)                                                                                               \n",
            "                                                                                                  \n",
            " conv5_block3_2_bn (BatchNo  (None, 7, 7, 512)            2048      ['conv5_block3_2_conv[0][0]'] \n",
            " rmalization)                                                                                     \n",
            "                                                                                                  \n",
            " conv5_block3_2_relu (Activ  (None, 7, 7, 512)            0         ['conv5_block3_2_bn[0][0]']   \n",
            " ation)                                                                                           \n",
            "                                                                                                  \n",
            " conv5_block3_3_conv (Conv2  (None, 7, 7, 2048)           1050624   ['conv5_block3_2_relu[0][0]'] \n",
            " D)                                                                                               \n",
            "                                                                                                  \n",
            " conv5_block3_3_bn (BatchNo  (None, 7, 7, 2048)           8192      ['conv5_block3_3_conv[0][0]'] \n",
            " rmalization)                                                                                     \n",
            "                                                                                                  \n",
            " conv5_block3_add (Add)      (None, 7, 7, 2048)           0         ['conv5_block2_out[0][0]',    \n",
            "                                                                     'conv5_block3_3_bn[0][0]']   \n",
            "                                                                                                  \n",
            " conv5_block3_out (Activati  (None, 7, 7, 2048)           0         ['conv5_block3_add[0][0]']    \n",
            " on)                                                                                              \n",
            "                                                                                                  \n",
            " conv2d (Conv2D)             (None, 7, 7, 128)            6553728   ['conv5_block3_out[0][0]']    \n",
            "                                                                                                  \n",
            " batch_normalization_14 (Ba  (None, 7, 7, 128)            512       ['conv2d[0][0]']              \n",
            " tchNormalization)                                                                                \n",
            "                                                                                                  \n",
            " dropout_22 (Dropout)        (None, 7, 7, 128)            0         ['batch_normalization_14[0][0]\n",
            "                                                                    ']                            \n",
            "                                                                                                  \n",
            " conv2d_1 (Conv2D)           (None, 7, 7, 512)            590336    ['dropout_22[0][0]']          \n",
            "                                                                                                  \n",
            " batch_normalization_15 (Ba  (None, 7, 7, 512)            2048      ['conv2d_1[0][0]']            \n",
            " tchNormalization)                                                                                \n",
            "                                                                                                  \n",
            " dropout_23 (Dropout)        (None, 7, 7, 512)            0         ['batch_normalization_15[0][0]\n",
            "                                                                    ']                            \n",
            "                                                                                                  \n",
            " global_average_pooling2d_9  (None, 512)                  0         ['dropout_23[0][0]']          \n",
            "  (GlobalAveragePooling2D)                                                                        \n",
            "                                                                                                  \n",
            " dense_31 (Dense)            (None, 256)                  131328    ['global_average_pooling2d_9[0\n",
            "                                                                    ][0]']                        \n",
            "                                                                                                  \n",
            " batch_normalization_16 (Ba  (None, 256)                  1024      ['dense_31[0][0]']            \n",
            " tchNormalization)                                                                                \n",
            "                                                                                                  \n",
            " dropout_24 (Dropout)        (None, 256)                  0         ['batch_normalization_16[0][0]\n",
            "                                                                    ']                            \n",
            "                                                                                                  \n",
            " dense_32 (Dense)            (None, 512)                  131584    ['dropout_24[0][0]']          \n",
            "                                                                                                  \n",
            " batch_normalization_17 (Ba  (None, 512)                  2048      ['dense_32[0][0]']            \n",
            " tchNormalization)                                                                                \n",
            "                                                                                                  \n",
            " dropout_25 (Dropout)        (None, 512)                  0         ['batch_normalization_17[0][0]\n",
            "                                                                    ']                            \n",
            "                                                                                                  \n",
            " dense_33 (Dense)            (None, 7)                    3591      ['dropout_25[0][0]']          \n",
            "                                                                                                  \n",
            "==================================================================================================\n",
            "Total params: 31003911 (118.27 MB)\n",
            "Trainable params: 8468103 (32.30 MB)\n",
            "Non-trainable params: 22535808 (85.97 MB)\n",
            "__________________________________________________________________________________________________\n"
          ]
        }
      ],
      "source": [
        "model_res.summary()"
      ]
    },
    {
      "cell_type": "code",
      "execution_count": null,
      "metadata": {
        "colab": {
          "base_uri": "https://localhost:8080/",
          "height": 426
        },
        "id": "34b53fX_YEhK",
        "outputId": "597e60e1-67d0-4db9-f2fc-634b56bd8132"
      },
      "outputs": [
        {
          "name": "stdout",
          "output_type": "stream",
          "text": [
            "Epoch 1/100\n",
            "340/718 [=============>................] - ETA: 5:19 - loss: 3.0585 - accuracy: 0.1517"
          ]
        },
        {
          "ename": "KeyboardInterrupt",
          "evalue": "",
          "output_type": "error",
          "traceback": [
            "\u001b[0;31m---------------------------------------------------------------------------\u001b[0m",
            "\u001b[0;31mKeyboardInterrupt\u001b[0m                         Traceback (most recent call last)",
            "\u001b[0;32m<ipython-input-43-88464b7498bf>\u001b[0m in \u001b[0;36m<cell line: 5>\u001b[0;34m()\u001b[0m\n\u001b[1;32m      3\u001b[0m \u001b[0mreduce_lr\u001b[0m \u001b[0;34m=\u001b[0m \u001b[0mReduceLROnPlateau\u001b[0m\u001b[0;34m(\u001b[0m\u001b[0mmonitor\u001b[0m\u001b[0;34m=\u001b[0m\u001b[0;34m'val_loss'\u001b[0m\u001b[0;34m,\u001b[0m \u001b[0mfactor\u001b[0m\u001b[0;34m=\u001b[0m\u001b[0;36m0.2\u001b[0m\u001b[0;34m,\u001b[0m \u001b[0mpatience\u001b[0m\u001b[0;34m=\u001b[0m\u001b[0;36m5\u001b[0m\u001b[0;34m,\u001b[0m \u001b[0mmin_lr\u001b[0m\u001b[0;34m=\u001b[0m\u001b[0;36m0.000001\u001b[0m\u001b[0;34m)\u001b[0m\u001b[0;34m\u001b[0m\u001b[0;34m\u001b[0m\u001b[0m\n\u001b[1;32m      4\u001b[0m \u001b[0mearly_stopping\u001b[0m \u001b[0;34m=\u001b[0m \u001b[0mEarlyStopping\u001b[0m\u001b[0;34m(\u001b[0m\u001b[0mmonitor\u001b[0m\u001b[0;34m=\u001b[0m\u001b[0;34m'val_loss'\u001b[0m\u001b[0;34m,\u001b[0m \u001b[0mpatience\u001b[0m\u001b[0;34m=\u001b[0m\u001b[0;36m15\u001b[0m\u001b[0;34m,\u001b[0m \u001b[0mrestore_best_weights\u001b[0m\u001b[0;34m=\u001b[0m\u001b[0;32mTrue\u001b[0m\u001b[0;34m,\u001b[0m \u001b[0mstart_from_epoch\u001b[0m\u001b[0;34m=\u001b[0m\u001b[0;36m25\u001b[0m\u001b[0;34m)\u001b[0m\u001b[0;34m\u001b[0m\u001b[0;34m\u001b[0m\u001b[0m\n\u001b[0;32m----> 5\u001b[0;31m \u001b[0mres_history\u001b[0m \u001b[0;34m=\u001b[0m \u001b[0mmodel_res\u001b[0m\u001b[0;34m.\u001b[0m\u001b[0mfit\u001b[0m\u001b[0;34m(\u001b[0m\u001b[0mtrain_generator\u001b[0m\u001b[0;34m,\u001b[0m \u001b[0mvalidation_data\u001b[0m\u001b[0;34m=\u001b[0m\u001b[0mvalidation_generator\u001b[0m\u001b[0;34m,\u001b[0m \u001b[0mepochs\u001b[0m\u001b[0;34m=\u001b[0m\u001b[0;36m100\u001b[0m\u001b[0;34m,\u001b[0m\u001b[0mcallbacks\u001b[0m\u001b[0;34m=\u001b[0m\u001b[0;34m[\u001b[0m\u001b[0mearly_stopping\u001b[0m\u001b[0;34m,\u001b[0m\u001b[0mreduce_lr\u001b[0m\u001b[0;34m]\u001b[0m\u001b[0;34m)\u001b[0m\u001b[0;34m\u001b[0m\u001b[0;34m\u001b[0m\u001b[0m\n\u001b[0m",
            "\u001b[0;32m/usr/local/lib/python3.10/dist-packages/keras/src/utils/traceback_utils.py\u001b[0m in \u001b[0;36merror_handler\u001b[0;34m(*args, **kwargs)\u001b[0m\n\u001b[1;32m     63\u001b[0m         \u001b[0mfiltered_tb\u001b[0m \u001b[0;34m=\u001b[0m \u001b[0;32mNone\u001b[0m\u001b[0;34m\u001b[0m\u001b[0;34m\u001b[0m\u001b[0m\n\u001b[1;32m     64\u001b[0m         \u001b[0;32mtry\u001b[0m\u001b[0;34m:\u001b[0m\u001b[0;34m\u001b[0m\u001b[0;34m\u001b[0m\u001b[0m\n\u001b[0;32m---> 65\u001b[0;31m             \u001b[0;32mreturn\u001b[0m \u001b[0mfn\u001b[0m\u001b[0;34m(\u001b[0m\u001b[0;34m*\u001b[0m\u001b[0margs\u001b[0m\u001b[0;34m,\u001b[0m \u001b[0;34m**\u001b[0m\u001b[0mkwargs\u001b[0m\u001b[0;34m)\u001b[0m\u001b[0;34m\u001b[0m\u001b[0;34m\u001b[0m\u001b[0m\n\u001b[0m\u001b[1;32m     66\u001b[0m         \u001b[0;32mexcept\u001b[0m \u001b[0mException\u001b[0m \u001b[0;32mas\u001b[0m \u001b[0me\u001b[0m\u001b[0;34m:\u001b[0m\u001b[0;34m\u001b[0m\u001b[0;34m\u001b[0m\u001b[0m\n\u001b[1;32m     67\u001b[0m             \u001b[0mfiltered_tb\u001b[0m \u001b[0;34m=\u001b[0m \u001b[0m_process_traceback_frames\u001b[0m\u001b[0;34m(\u001b[0m\u001b[0me\u001b[0m\u001b[0;34m.\u001b[0m\u001b[0m__traceback__\u001b[0m\u001b[0;34m)\u001b[0m\u001b[0;34m\u001b[0m\u001b[0;34m\u001b[0m\u001b[0m\n",
            "\u001b[0;32m/usr/local/lib/python3.10/dist-packages/keras/src/engine/training.py\u001b[0m in \u001b[0;36mfit\u001b[0;34m(self, x, y, batch_size, epochs, verbose, callbacks, validation_split, validation_data, shuffle, class_weight, sample_weight, initial_epoch, steps_per_epoch, validation_steps, validation_batch_size, validation_freq, max_queue_size, workers, use_multiprocessing)\u001b[0m\n\u001b[1;32m   1805\u001b[0m                         ):\n\u001b[1;32m   1806\u001b[0m                             \u001b[0mcallbacks\u001b[0m\u001b[0;34m.\u001b[0m\u001b[0mon_train_batch_begin\u001b[0m\u001b[0;34m(\u001b[0m\u001b[0mstep\u001b[0m\u001b[0;34m)\u001b[0m\u001b[0;34m\u001b[0m\u001b[0;34m\u001b[0m\u001b[0m\n\u001b[0;32m-> 1807\u001b[0;31m                             \u001b[0mtmp_logs\u001b[0m \u001b[0;34m=\u001b[0m \u001b[0mself\u001b[0m\u001b[0;34m.\u001b[0m\u001b[0mtrain_function\u001b[0m\u001b[0;34m(\u001b[0m\u001b[0miterator\u001b[0m\u001b[0;34m)\u001b[0m\u001b[0;34m\u001b[0m\u001b[0;34m\u001b[0m\u001b[0m\n\u001b[0m\u001b[1;32m   1808\u001b[0m                             \u001b[0;32mif\u001b[0m \u001b[0mdata_handler\u001b[0m\u001b[0;34m.\u001b[0m\u001b[0mshould_sync\u001b[0m\u001b[0;34m:\u001b[0m\u001b[0;34m\u001b[0m\u001b[0;34m\u001b[0m\u001b[0m\n\u001b[1;32m   1809\u001b[0m                                 \u001b[0mcontext\u001b[0m\u001b[0;34m.\u001b[0m\u001b[0masync_wait\u001b[0m\u001b[0;34m(\u001b[0m\u001b[0;34m)\u001b[0m\u001b[0;34m\u001b[0m\u001b[0;34m\u001b[0m\u001b[0m\n",
            "\u001b[0;32m/usr/local/lib/python3.10/dist-packages/tensorflow/python/util/traceback_utils.py\u001b[0m in \u001b[0;36merror_handler\u001b[0;34m(*args, **kwargs)\u001b[0m\n\u001b[1;32m    148\u001b[0m     \u001b[0mfiltered_tb\u001b[0m \u001b[0;34m=\u001b[0m \u001b[0;32mNone\u001b[0m\u001b[0;34m\u001b[0m\u001b[0;34m\u001b[0m\u001b[0m\n\u001b[1;32m    149\u001b[0m     \u001b[0;32mtry\u001b[0m\u001b[0;34m:\u001b[0m\u001b[0;34m\u001b[0m\u001b[0;34m\u001b[0m\u001b[0m\n\u001b[0;32m--> 150\u001b[0;31m       \u001b[0;32mreturn\u001b[0m \u001b[0mfn\u001b[0m\u001b[0;34m(\u001b[0m\u001b[0;34m*\u001b[0m\u001b[0margs\u001b[0m\u001b[0;34m,\u001b[0m \u001b[0;34m**\u001b[0m\u001b[0mkwargs\u001b[0m\u001b[0;34m)\u001b[0m\u001b[0;34m\u001b[0m\u001b[0;34m\u001b[0m\u001b[0m\n\u001b[0m\u001b[1;32m    151\u001b[0m     \u001b[0;32mexcept\u001b[0m \u001b[0mException\u001b[0m \u001b[0;32mas\u001b[0m \u001b[0me\u001b[0m\u001b[0;34m:\u001b[0m\u001b[0;34m\u001b[0m\u001b[0;34m\u001b[0m\u001b[0m\n\u001b[1;32m    152\u001b[0m       \u001b[0mfiltered_tb\u001b[0m \u001b[0;34m=\u001b[0m \u001b[0m_process_traceback_frames\u001b[0m\u001b[0;34m(\u001b[0m\u001b[0me\u001b[0m\u001b[0;34m.\u001b[0m\u001b[0m__traceback__\u001b[0m\u001b[0;34m)\u001b[0m\u001b[0;34m\u001b[0m\u001b[0;34m\u001b[0m\u001b[0m\n",
            "\u001b[0;32m/usr/local/lib/python3.10/dist-packages/tensorflow/python/eager/polymorphic_function/polymorphic_function.py\u001b[0m in \u001b[0;36m__call__\u001b[0;34m(self, *args, **kwds)\u001b[0m\n\u001b[1;32m    830\u001b[0m \u001b[0;34m\u001b[0m\u001b[0m\n\u001b[1;32m    831\u001b[0m       \u001b[0;32mwith\u001b[0m \u001b[0mOptionalXlaContext\u001b[0m\u001b[0;34m(\u001b[0m\u001b[0mself\u001b[0m\u001b[0;34m.\u001b[0m\u001b[0m_jit_compile\u001b[0m\u001b[0;34m)\u001b[0m\u001b[0;34m:\u001b[0m\u001b[0;34m\u001b[0m\u001b[0;34m\u001b[0m\u001b[0m\n\u001b[0;32m--> 832\u001b[0;31m         \u001b[0mresult\u001b[0m \u001b[0;34m=\u001b[0m \u001b[0mself\u001b[0m\u001b[0;34m.\u001b[0m\u001b[0m_call\u001b[0m\u001b[0;34m(\u001b[0m\u001b[0;34m*\u001b[0m\u001b[0margs\u001b[0m\u001b[0;34m,\u001b[0m \u001b[0;34m**\u001b[0m\u001b[0mkwds\u001b[0m\u001b[0;34m)\u001b[0m\u001b[0;34m\u001b[0m\u001b[0;34m\u001b[0m\u001b[0m\n\u001b[0m\u001b[1;32m    833\u001b[0m \u001b[0;34m\u001b[0m\u001b[0m\n\u001b[1;32m    834\u001b[0m       \u001b[0mnew_tracing_count\u001b[0m \u001b[0;34m=\u001b[0m \u001b[0mself\u001b[0m\u001b[0;34m.\u001b[0m\u001b[0mexperimental_get_tracing_count\u001b[0m\u001b[0;34m(\u001b[0m\u001b[0;34m)\u001b[0m\u001b[0;34m\u001b[0m\u001b[0;34m\u001b[0m\u001b[0m\n",
            "\u001b[0;32m/usr/local/lib/python3.10/dist-packages/tensorflow/python/eager/polymorphic_function/polymorphic_function.py\u001b[0m in \u001b[0;36m_call\u001b[0;34m(self, *args, **kwds)\u001b[0m\n\u001b[1;32m    866\u001b[0m       \u001b[0;31m# In this case we have created variables on the first call, so we run the\u001b[0m\u001b[0;34m\u001b[0m\u001b[0;34m\u001b[0m\u001b[0m\n\u001b[1;32m    867\u001b[0m       \u001b[0;31m# defunned version which is guaranteed to never create variables.\u001b[0m\u001b[0;34m\u001b[0m\u001b[0;34m\u001b[0m\u001b[0m\n\u001b[0;32m--> 868\u001b[0;31m       return tracing_compilation.call_function(\n\u001b[0m\u001b[1;32m    869\u001b[0m           \u001b[0margs\u001b[0m\u001b[0;34m,\u001b[0m \u001b[0mkwds\u001b[0m\u001b[0;34m,\u001b[0m \u001b[0mself\u001b[0m\u001b[0;34m.\u001b[0m\u001b[0m_no_variable_creation_config\u001b[0m\u001b[0;34m\u001b[0m\u001b[0;34m\u001b[0m\u001b[0m\n\u001b[1;32m    870\u001b[0m       )\n",
            "\u001b[0;32m/usr/local/lib/python3.10/dist-packages/tensorflow/python/eager/polymorphic_function/tracing_compilation.py\u001b[0m in \u001b[0;36mcall_function\u001b[0;34m(args, kwargs, tracing_options)\u001b[0m\n\u001b[1;32m    137\u001b[0m   \u001b[0mbound_args\u001b[0m \u001b[0;34m=\u001b[0m \u001b[0mfunction\u001b[0m\u001b[0;34m.\u001b[0m\u001b[0mfunction_type\u001b[0m\u001b[0;34m.\u001b[0m\u001b[0mbind\u001b[0m\u001b[0;34m(\u001b[0m\u001b[0;34m*\u001b[0m\u001b[0margs\u001b[0m\u001b[0;34m,\u001b[0m \u001b[0;34m**\u001b[0m\u001b[0mkwargs\u001b[0m\u001b[0;34m)\u001b[0m\u001b[0;34m\u001b[0m\u001b[0;34m\u001b[0m\u001b[0m\n\u001b[1;32m    138\u001b[0m   \u001b[0mflat_inputs\u001b[0m \u001b[0;34m=\u001b[0m \u001b[0mfunction\u001b[0m\u001b[0;34m.\u001b[0m\u001b[0mfunction_type\u001b[0m\u001b[0;34m.\u001b[0m\u001b[0munpack_inputs\u001b[0m\u001b[0;34m(\u001b[0m\u001b[0mbound_args\u001b[0m\u001b[0;34m)\u001b[0m\u001b[0;34m\u001b[0m\u001b[0;34m\u001b[0m\u001b[0m\n\u001b[0;32m--> 139\u001b[0;31m   return function._call_flat(  # pylint: disable=protected-access\n\u001b[0m\u001b[1;32m    140\u001b[0m       \u001b[0mflat_inputs\u001b[0m\u001b[0;34m,\u001b[0m \u001b[0mcaptured_inputs\u001b[0m\u001b[0;34m=\u001b[0m\u001b[0mfunction\u001b[0m\u001b[0;34m.\u001b[0m\u001b[0mcaptured_inputs\u001b[0m\u001b[0;34m\u001b[0m\u001b[0;34m\u001b[0m\u001b[0m\n\u001b[1;32m    141\u001b[0m   )\n",
            "\u001b[0;32m/usr/local/lib/python3.10/dist-packages/tensorflow/python/eager/polymorphic_function/concrete_function.py\u001b[0m in \u001b[0;36m_call_flat\u001b[0;34m(self, tensor_inputs, captured_inputs)\u001b[0m\n\u001b[1;32m   1321\u001b[0m         and executing_eagerly):\n\u001b[1;32m   1322\u001b[0m       \u001b[0;31m# No tape is watching; skip to running the function.\u001b[0m\u001b[0;34m\u001b[0m\u001b[0;34m\u001b[0m\u001b[0m\n\u001b[0;32m-> 1323\u001b[0;31m       \u001b[0;32mreturn\u001b[0m \u001b[0mself\u001b[0m\u001b[0;34m.\u001b[0m\u001b[0m_inference_function\u001b[0m\u001b[0;34m.\u001b[0m\u001b[0mcall_preflattened\u001b[0m\u001b[0;34m(\u001b[0m\u001b[0margs\u001b[0m\u001b[0;34m)\u001b[0m\u001b[0;34m\u001b[0m\u001b[0;34m\u001b[0m\u001b[0m\n\u001b[0m\u001b[1;32m   1324\u001b[0m     forward_backward = self._select_forward_and_backward_functions(\n\u001b[1;32m   1325\u001b[0m         \u001b[0margs\u001b[0m\u001b[0;34m,\u001b[0m\u001b[0;34m\u001b[0m\u001b[0;34m\u001b[0m\u001b[0m\n",
            "\u001b[0;32m/usr/local/lib/python3.10/dist-packages/tensorflow/python/eager/polymorphic_function/atomic_function.py\u001b[0m in \u001b[0;36mcall_preflattened\u001b[0;34m(self, args)\u001b[0m\n\u001b[1;32m    214\u001b[0m   \u001b[0;32mdef\u001b[0m \u001b[0mcall_preflattened\u001b[0m\u001b[0;34m(\u001b[0m\u001b[0mself\u001b[0m\u001b[0;34m,\u001b[0m \u001b[0margs\u001b[0m\u001b[0;34m:\u001b[0m \u001b[0mSequence\u001b[0m\u001b[0;34m[\u001b[0m\u001b[0mcore\u001b[0m\u001b[0;34m.\u001b[0m\u001b[0mTensor\u001b[0m\u001b[0;34m]\u001b[0m\u001b[0;34m)\u001b[0m \u001b[0;34m->\u001b[0m \u001b[0mAny\u001b[0m\u001b[0;34m:\u001b[0m\u001b[0;34m\u001b[0m\u001b[0;34m\u001b[0m\u001b[0m\n\u001b[1;32m    215\u001b[0m     \u001b[0;34m\"\"\"Calls with flattened tensor inputs and returns the structured output.\"\"\"\u001b[0m\u001b[0;34m\u001b[0m\u001b[0;34m\u001b[0m\u001b[0m\n\u001b[0;32m--> 216\u001b[0;31m     \u001b[0mflat_outputs\u001b[0m \u001b[0;34m=\u001b[0m \u001b[0mself\u001b[0m\u001b[0;34m.\u001b[0m\u001b[0mcall_flat\u001b[0m\u001b[0;34m(\u001b[0m\u001b[0;34m*\u001b[0m\u001b[0margs\u001b[0m\u001b[0;34m)\u001b[0m\u001b[0;34m\u001b[0m\u001b[0;34m\u001b[0m\u001b[0m\n\u001b[0m\u001b[1;32m    217\u001b[0m     \u001b[0;32mreturn\u001b[0m \u001b[0mself\u001b[0m\u001b[0;34m.\u001b[0m\u001b[0mfunction_type\u001b[0m\u001b[0;34m.\u001b[0m\u001b[0mpack_output\u001b[0m\u001b[0;34m(\u001b[0m\u001b[0mflat_outputs\u001b[0m\u001b[0;34m)\u001b[0m\u001b[0;34m\u001b[0m\u001b[0;34m\u001b[0m\u001b[0m\n\u001b[1;32m    218\u001b[0m \u001b[0;34m\u001b[0m\u001b[0m\n",
            "\u001b[0;32m/usr/local/lib/python3.10/dist-packages/tensorflow/python/eager/polymorphic_function/atomic_function.py\u001b[0m in \u001b[0;36mcall_flat\u001b[0;34m(self, *args)\u001b[0m\n\u001b[1;32m    249\u001b[0m         \u001b[0;32mwith\u001b[0m \u001b[0mrecord\u001b[0m\u001b[0;34m.\u001b[0m\u001b[0mstop_recording\u001b[0m\u001b[0;34m(\u001b[0m\u001b[0;34m)\u001b[0m\u001b[0;34m:\u001b[0m\u001b[0;34m\u001b[0m\u001b[0;34m\u001b[0m\u001b[0m\n\u001b[1;32m    250\u001b[0m           \u001b[0;32mif\u001b[0m \u001b[0mself\u001b[0m\u001b[0;34m.\u001b[0m\u001b[0m_bound_context\u001b[0m\u001b[0;34m.\u001b[0m\u001b[0mexecuting_eagerly\u001b[0m\u001b[0;34m(\u001b[0m\u001b[0;34m)\u001b[0m\u001b[0;34m:\u001b[0m\u001b[0;34m\u001b[0m\u001b[0;34m\u001b[0m\u001b[0m\n\u001b[0;32m--> 251\u001b[0;31m             outputs = self._bound_context.call_function(\n\u001b[0m\u001b[1;32m    252\u001b[0m                 \u001b[0mself\u001b[0m\u001b[0;34m.\u001b[0m\u001b[0mname\u001b[0m\u001b[0;34m,\u001b[0m\u001b[0;34m\u001b[0m\u001b[0;34m\u001b[0m\u001b[0m\n\u001b[1;32m    253\u001b[0m                 \u001b[0mlist\u001b[0m\u001b[0;34m(\u001b[0m\u001b[0margs\u001b[0m\u001b[0;34m)\u001b[0m\u001b[0;34m,\u001b[0m\u001b[0;34m\u001b[0m\u001b[0;34m\u001b[0m\u001b[0m\n",
            "\u001b[0;32m/usr/local/lib/python3.10/dist-packages/tensorflow/python/eager/context.py\u001b[0m in \u001b[0;36mcall_function\u001b[0;34m(self, name, tensor_inputs, num_outputs)\u001b[0m\n\u001b[1;32m   1484\u001b[0m     \u001b[0mcancellation_context\u001b[0m \u001b[0;34m=\u001b[0m \u001b[0mcancellation\u001b[0m\u001b[0;34m.\u001b[0m\u001b[0mcontext\u001b[0m\u001b[0;34m(\u001b[0m\u001b[0;34m)\u001b[0m\u001b[0;34m\u001b[0m\u001b[0;34m\u001b[0m\u001b[0m\n\u001b[1;32m   1485\u001b[0m     \u001b[0;32mif\u001b[0m \u001b[0mcancellation_context\u001b[0m \u001b[0;32mis\u001b[0m \u001b[0;32mNone\u001b[0m\u001b[0;34m:\u001b[0m\u001b[0;34m\u001b[0m\u001b[0;34m\u001b[0m\u001b[0m\n\u001b[0;32m-> 1486\u001b[0;31m       outputs = execute.execute(\n\u001b[0m\u001b[1;32m   1487\u001b[0m           \u001b[0mname\u001b[0m\u001b[0;34m.\u001b[0m\u001b[0mdecode\u001b[0m\u001b[0;34m(\u001b[0m\u001b[0;34m\"utf-8\"\u001b[0m\u001b[0;34m)\u001b[0m\u001b[0;34m,\u001b[0m\u001b[0;34m\u001b[0m\u001b[0;34m\u001b[0m\u001b[0m\n\u001b[1;32m   1488\u001b[0m           \u001b[0mnum_outputs\u001b[0m\u001b[0;34m=\u001b[0m\u001b[0mnum_outputs\u001b[0m\u001b[0;34m,\u001b[0m\u001b[0;34m\u001b[0m\u001b[0;34m\u001b[0m\u001b[0m\n",
            "\u001b[0;32m/usr/local/lib/python3.10/dist-packages/tensorflow/python/eager/execute.py\u001b[0m in \u001b[0;36mquick_execute\u001b[0;34m(op_name, num_outputs, inputs, attrs, ctx, name)\u001b[0m\n\u001b[1;32m     51\u001b[0m   \u001b[0;32mtry\u001b[0m\u001b[0;34m:\u001b[0m\u001b[0;34m\u001b[0m\u001b[0;34m\u001b[0m\u001b[0m\n\u001b[1;32m     52\u001b[0m     \u001b[0mctx\u001b[0m\u001b[0;34m.\u001b[0m\u001b[0mensure_initialized\u001b[0m\u001b[0;34m(\u001b[0m\u001b[0;34m)\u001b[0m\u001b[0;34m\u001b[0m\u001b[0;34m\u001b[0m\u001b[0m\n\u001b[0;32m---> 53\u001b[0;31m     tensors = pywrap_tfe.TFE_Py_Execute(ctx._handle, device_name, op_name,\n\u001b[0m\u001b[1;32m     54\u001b[0m                                         inputs, attrs, num_outputs)\n\u001b[1;32m     55\u001b[0m   \u001b[0;32mexcept\u001b[0m \u001b[0mcore\u001b[0m\u001b[0;34m.\u001b[0m\u001b[0m_NotOkStatusException\u001b[0m \u001b[0;32mas\u001b[0m \u001b[0me\u001b[0m\u001b[0;34m:\u001b[0m\u001b[0;34m\u001b[0m\u001b[0;34m\u001b[0m\u001b[0m\n",
            "\u001b[0;31mKeyboardInterrupt\u001b[0m: "
          ]
        }
      ],
      "source": [
        "from tensorflow.keras.callbacks import EarlyStopping\n",
        "from tensorflow.keras.callbacks import ReduceLROnPlateau\n",
        "reduce_lr = ReduceLROnPlateau(monitor='val_loss', factor=0.2, patience=5, min_lr=0.000001)\n",
        "early_stopping = EarlyStopping(monitor='val_loss', patience=15, restore_best_weights=True, start_from_epoch=25)\n",
        "res_history = model_res.fit(train_generator, validation_data=validation_generator, epochs=100,callbacks=[early_stopping,reduce_lr])"
      ]
    },
    {
      "cell_type": "code",
      "execution_count": null,
      "metadata": {
        "colab": {
          "base_uri": "https://localhost:8080/",
          "height": 619
        },
        "id": "UHsR9O0YUVRD",
        "outputId": "73893fde-e04a-49f5-d271-f964a98f3353"
      },
      "outputs": [
        {
          "name": "stdout",
          "output_type": "stream",
          "text": [
            "Found 22968 images belonging to 7 classes.\n",
            "Found 5741 images belonging to 7 classes.\n",
            "Epoch 1/100\n",
            "718/718 [==============================] - 657s 908ms/step - loss: 2.5197 - accuracy: 0.2496 - val_loss: 2.3642 - val_accuracy: 0.2581 - lr: 1.0000e-04\n",
            "Epoch 2/100\n",
            "718/718 [==============================] - 644s 897ms/step - loss: 2.2574 - accuracy: 0.3252 - val_loss: 3.7978 - val_accuracy: 0.2538 - lr: 1.0000e-04\n",
            "Epoch 3/100\n",
            "718/718 [==============================] - 653s 909ms/step - loss: 2.1597 - accuracy: 0.3543 - val_loss: 5.0409 - val_accuracy: 0.2857 - lr: 1.0000e-04\n",
            "Epoch 4/100\n",
            "718/718 [==============================] - 656s 913ms/step - loss: 2.1114 - accuracy: 0.3693 - val_loss: 7.9494 - val_accuracy: 0.2513 - lr: 1.0000e-04\n",
            "Epoch 5/100\n",
            "220/718 [========>.....................] - ETA: 6:18 - loss: 2.0737 - accuracy: 0.3753"
          ]
        },
        {
          "ename": "KeyboardInterrupt",
          "evalue": "",
          "output_type": "error",
          "traceback": [
            "\u001b[0;31m---------------------------------------------------------------------------\u001b[0m",
            "\u001b[0;31mKeyboardInterrupt\u001b[0m                         Traceback (most recent call last)",
            "\u001b[0;32m<ipython-input-44-4ce7060e41ed>\u001b[0m in \u001b[0;36m<cell line: 50>\u001b[0;34m()\u001b[0m\n\u001b[1;32m     48\u001b[0m \u001b[0mearly_stopping\u001b[0m \u001b[0;34m=\u001b[0m \u001b[0mEarlyStopping\u001b[0m\u001b[0;34m(\u001b[0m\u001b[0mmonitor\u001b[0m\u001b[0;34m=\u001b[0m\u001b[0;34m'val_loss'\u001b[0m\u001b[0;34m,\u001b[0m \u001b[0mpatience\u001b[0m\u001b[0;34m=\u001b[0m\u001b[0;36m10\u001b[0m\u001b[0;34m,\u001b[0m \u001b[0mrestore_best_weights\u001b[0m\u001b[0;34m=\u001b[0m\u001b[0;32mTrue\u001b[0m\u001b[0;34m,\u001b[0m \u001b[0mstart_from_epoch\u001b[0m\u001b[0;34m=\u001b[0m\u001b[0;36m25\u001b[0m\u001b[0;34m)\u001b[0m\u001b[0;34m\u001b[0m\u001b[0;34m\u001b[0m\u001b[0m\n\u001b[1;32m     49\u001b[0m \u001b[0;34m\u001b[0m\u001b[0m\n\u001b[0;32m---> 50\u001b[0;31m \u001b[0mres_history\u001b[0m \u001b[0;34m=\u001b[0m \u001b[0mmodel_res\u001b[0m\u001b[0;34m.\u001b[0m\u001b[0mfit\u001b[0m\u001b[0;34m(\u001b[0m\u001b[0mtrain_generator\u001b[0m\u001b[0;34m,\u001b[0m \u001b[0mvalidation_data\u001b[0m\u001b[0;34m=\u001b[0m\u001b[0mvalidation_generator\u001b[0m\u001b[0;34m,\u001b[0m \u001b[0mepochs\u001b[0m\u001b[0;34m=\u001b[0m\u001b[0;36m100\u001b[0m\u001b[0;34m,\u001b[0m \u001b[0mcallbacks\u001b[0m\u001b[0;34m=\u001b[0m\u001b[0;34m[\u001b[0m\u001b[0mearly_stopping\u001b[0m\u001b[0;34m,\u001b[0m \u001b[0mreduce_lr\u001b[0m\u001b[0;34m]\u001b[0m\u001b[0;34m)\u001b[0m\u001b[0;34m\u001b[0m\u001b[0;34m\u001b[0m\u001b[0m\n\u001b[0m",
            "\u001b[0;32m/usr/local/lib/python3.10/dist-packages/keras/src/utils/traceback_utils.py\u001b[0m in \u001b[0;36merror_handler\u001b[0;34m(*args, **kwargs)\u001b[0m\n\u001b[1;32m     63\u001b[0m         \u001b[0mfiltered_tb\u001b[0m \u001b[0;34m=\u001b[0m \u001b[0;32mNone\u001b[0m\u001b[0;34m\u001b[0m\u001b[0;34m\u001b[0m\u001b[0m\n\u001b[1;32m     64\u001b[0m         \u001b[0;32mtry\u001b[0m\u001b[0;34m:\u001b[0m\u001b[0;34m\u001b[0m\u001b[0;34m\u001b[0m\u001b[0m\n\u001b[0;32m---> 65\u001b[0;31m             \u001b[0;32mreturn\u001b[0m \u001b[0mfn\u001b[0m\u001b[0;34m(\u001b[0m\u001b[0;34m*\u001b[0m\u001b[0margs\u001b[0m\u001b[0;34m,\u001b[0m \u001b[0;34m**\u001b[0m\u001b[0mkwargs\u001b[0m\u001b[0;34m)\u001b[0m\u001b[0;34m\u001b[0m\u001b[0;34m\u001b[0m\u001b[0m\n\u001b[0m\u001b[1;32m     66\u001b[0m         \u001b[0;32mexcept\u001b[0m \u001b[0mException\u001b[0m \u001b[0;32mas\u001b[0m \u001b[0me\u001b[0m\u001b[0;34m:\u001b[0m\u001b[0;34m\u001b[0m\u001b[0;34m\u001b[0m\u001b[0m\n\u001b[1;32m     67\u001b[0m             \u001b[0mfiltered_tb\u001b[0m \u001b[0;34m=\u001b[0m \u001b[0m_process_traceback_frames\u001b[0m\u001b[0;34m(\u001b[0m\u001b[0me\u001b[0m\u001b[0;34m.\u001b[0m\u001b[0m__traceback__\u001b[0m\u001b[0;34m)\u001b[0m\u001b[0;34m\u001b[0m\u001b[0;34m\u001b[0m\u001b[0m\n",
            "\u001b[0;32m/usr/local/lib/python3.10/dist-packages/keras/src/engine/training.py\u001b[0m in \u001b[0;36mfit\u001b[0;34m(self, x, y, batch_size, epochs, verbose, callbacks, validation_split, validation_data, shuffle, class_weight, sample_weight, initial_epoch, steps_per_epoch, validation_steps, validation_batch_size, validation_freq, max_queue_size, workers, use_multiprocessing)\u001b[0m\n\u001b[1;32m   1805\u001b[0m                         ):\n\u001b[1;32m   1806\u001b[0m                             \u001b[0mcallbacks\u001b[0m\u001b[0;34m.\u001b[0m\u001b[0mon_train_batch_begin\u001b[0m\u001b[0;34m(\u001b[0m\u001b[0mstep\u001b[0m\u001b[0;34m)\u001b[0m\u001b[0;34m\u001b[0m\u001b[0;34m\u001b[0m\u001b[0m\n\u001b[0;32m-> 1807\u001b[0;31m                             \u001b[0mtmp_logs\u001b[0m \u001b[0;34m=\u001b[0m \u001b[0mself\u001b[0m\u001b[0;34m.\u001b[0m\u001b[0mtrain_function\u001b[0m\u001b[0;34m(\u001b[0m\u001b[0miterator\u001b[0m\u001b[0;34m)\u001b[0m\u001b[0;34m\u001b[0m\u001b[0;34m\u001b[0m\u001b[0m\n\u001b[0m\u001b[1;32m   1808\u001b[0m                             \u001b[0;32mif\u001b[0m \u001b[0mdata_handler\u001b[0m\u001b[0;34m.\u001b[0m\u001b[0mshould_sync\u001b[0m\u001b[0;34m:\u001b[0m\u001b[0;34m\u001b[0m\u001b[0;34m\u001b[0m\u001b[0m\n\u001b[1;32m   1809\u001b[0m                                 \u001b[0mcontext\u001b[0m\u001b[0;34m.\u001b[0m\u001b[0masync_wait\u001b[0m\u001b[0;34m(\u001b[0m\u001b[0;34m)\u001b[0m\u001b[0;34m\u001b[0m\u001b[0;34m\u001b[0m\u001b[0m\n",
            "\u001b[0;32m/usr/local/lib/python3.10/dist-packages/tensorflow/python/util/traceback_utils.py\u001b[0m in \u001b[0;36merror_handler\u001b[0;34m(*args, **kwargs)\u001b[0m\n\u001b[1;32m    148\u001b[0m     \u001b[0mfiltered_tb\u001b[0m \u001b[0;34m=\u001b[0m \u001b[0;32mNone\u001b[0m\u001b[0;34m\u001b[0m\u001b[0;34m\u001b[0m\u001b[0m\n\u001b[1;32m    149\u001b[0m     \u001b[0;32mtry\u001b[0m\u001b[0;34m:\u001b[0m\u001b[0;34m\u001b[0m\u001b[0;34m\u001b[0m\u001b[0m\n\u001b[0;32m--> 150\u001b[0;31m       \u001b[0;32mreturn\u001b[0m \u001b[0mfn\u001b[0m\u001b[0;34m(\u001b[0m\u001b[0;34m*\u001b[0m\u001b[0margs\u001b[0m\u001b[0;34m,\u001b[0m \u001b[0;34m**\u001b[0m\u001b[0mkwargs\u001b[0m\u001b[0;34m)\u001b[0m\u001b[0;34m\u001b[0m\u001b[0;34m\u001b[0m\u001b[0m\n\u001b[0m\u001b[1;32m    151\u001b[0m     \u001b[0;32mexcept\u001b[0m \u001b[0mException\u001b[0m \u001b[0;32mas\u001b[0m \u001b[0me\u001b[0m\u001b[0;34m:\u001b[0m\u001b[0;34m\u001b[0m\u001b[0;34m\u001b[0m\u001b[0m\n\u001b[1;32m    152\u001b[0m       \u001b[0mfiltered_tb\u001b[0m \u001b[0;34m=\u001b[0m \u001b[0m_process_traceback_frames\u001b[0m\u001b[0;34m(\u001b[0m\u001b[0me\u001b[0m\u001b[0;34m.\u001b[0m\u001b[0m__traceback__\u001b[0m\u001b[0;34m)\u001b[0m\u001b[0;34m\u001b[0m\u001b[0;34m\u001b[0m\u001b[0m\n",
            "\u001b[0;32m/usr/local/lib/python3.10/dist-packages/tensorflow/python/eager/polymorphic_function/polymorphic_function.py\u001b[0m in \u001b[0;36m__call__\u001b[0;34m(self, *args, **kwds)\u001b[0m\n\u001b[1;32m    830\u001b[0m \u001b[0;34m\u001b[0m\u001b[0m\n\u001b[1;32m    831\u001b[0m       \u001b[0;32mwith\u001b[0m \u001b[0mOptionalXlaContext\u001b[0m\u001b[0;34m(\u001b[0m\u001b[0mself\u001b[0m\u001b[0;34m.\u001b[0m\u001b[0m_jit_compile\u001b[0m\u001b[0;34m)\u001b[0m\u001b[0;34m:\u001b[0m\u001b[0;34m\u001b[0m\u001b[0;34m\u001b[0m\u001b[0m\n\u001b[0;32m--> 832\u001b[0;31m         \u001b[0mresult\u001b[0m \u001b[0;34m=\u001b[0m \u001b[0mself\u001b[0m\u001b[0;34m.\u001b[0m\u001b[0m_call\u001b[0m\u001b[0;34m(\u001b[0m\u001b[0;34m*\u001b[0m\u001b[0margs\u001b[0m\u001b[0;34m,\u001b[0m \u001b[0;34m**\u001b[0m\u001b[0mkwds\u001b[0m\u001b[0;34m)\u001b[0m\u001b[0;34m\u001b[0m\u001b[0;34m\u001b[0m\u001b[0m\n\u001b[0m\u001b[1;32m    833\u001b[0m \u001b[0;34m\u001b[0m\u001b[0m\n\u001b[1;32m    834\u001b[0m       \u001b[0mnew_tracing_count\u001b[0m \u001b[0;34m=\u001b[0m \u001b[0mself\u001b[0m\u001b[0;34m.\u001b[0m\u001b[0mexperimental_get_tracing_count\u001b[0m\u001b[0;34m(\u001b[0m\u001b[0;34m)\u001b[0m\u001b[0;34m\u001b[0m\u001b[0;34m\u001b[0m\u001b[0m\n",
            "\u001b[0;32m/usr/local/lib/python3.10/dist-packages/tensorflow/python/eager/polymorphic_function/polymorphic_function.py\u001b[0m in \u001b[0;36m_call\u001b[0;34m(self, *args, **kwds)\u001b[0m\n\u001b[1;32m    866\u001b[0m       \u001b[0;31m# In this case we have created variables on the first call, so we run the\u001b[0m\u001b[0;34m\u001b[0m\u001b[0;34m\u001b[0m\u001b[0m\n\u001b[1;32m    867\u001b[0m       \u001b[0;31m# defunned version which is guaranteed to never create variables.\u001b[0m\u001b[0;34m\u001b[0m\u001b[0;34m\u001b[0m\u001b[0m\n\u001b[0;32m--> 868\u001b[0;31m       return tracing_compilation.call_function(\n\u001b[0m\u001b[1;32m    869\u001b[0m           \u001b[0margs\u001b[0m\u001b[0;34m,\u001b[0m \u001b[0mkwds\u001b[0m\u001b[0;34m,\u001b[0m \u001b[0mself\u001b[0m\u001b[0;34m.\u001b[0m\u001b[0m_no_variable_creation_config\u001b[0m\u001b[0;34m\u001b[0m\u001b[0;34m\u001b[0m\u001b[0m\n\u001b[1;32m    870\u001b[0m       )\n",
            "\u001b[0;32m/usr/local/lib/python3.10/dist-packages/tensorflow/python/eager/polymorphic_function/tracing_compilation.py\u001b[0m in \u001b[0;36mcall_function\u001b[0;34m(args, kwargs, tracing_options)\u001b[0m\n\u001b[1;32m    137\u001b[0m   \u001b[0mbound_args\u001b[0m \u001b[0;34m=\u001b[0m \u001b[0mfunction\u001b[0m\u001b[0;34m.\u001b[0m\u001b[0mfunction_type\u001b[0m\u001b[0;34m.\u001b[0m\u001b[0mbind\u001b[0m\u001b[0;34m(\u001b[0m\u001b[0;34m*\u001b[0m\u001b[0margs\u001b[0m\u001b[0;34m,\u001b[0m \u001b[0;34m**\u001b[0m\u001b[0mkwargs\u001b[0m\u001b[0;34m)\u001b[0m\u001b[0;34m\u001b[0m\u001b[0;34m\u001b[0m\u001b[0m\n\u001b[1;32m    138\u001b[0m   \u001b[0mflat_inputs\u001b[0m \u001b[0;34m=\u001b[0m \u001b[0mfunction\u001b[0m\u001b[0;34m.\u001b[0m\u001b[0mfunction_type\u001b[0m\u001b[0;34m.\u001b[0m\u001b[0munpack_inputs\u001b[0m\u001b[0;34m(\u001b[0m\u001b[0mbound_args\u001b[0m\u001b[0;34m)\u001b[0m\u001b[0;34m\u001b[0m\u001b[0;34m\u001b[0m\u001b[0m\n\u001b[0;32m--> 139\u001b[0;31m   return function._call_flat(  # pylint: disable=protected-access\n\u001b[0m\u001b[1;32m    140\u001b[0m       \u001b[0mflat_inputs\u001b[0m\u001b[0;34m,\u001b[0m \u001b[0mcaptured_inputs\u001b[0m\u001b[0;34m=\u001b[0m\u001b[0mfunction\u001b[0m\u001b[0;34m.\u001b[0m\u001b[0mcaptured_inputs\u001b[0m\u001b[0;34m\u001b[0m\u001b[0;34m\u001b[0m\u001b[0m\n\u001b[1;32m    141\u001b[0m   )\n",
            "\u001b[0;32m/usr/local/lib/python3.10/dist-packages/tensorflow/python/eager/polymorphic_function/concrete_function.py\u001b[0m in \u001b[0;36m_call_flat\u001b[0;34m(self, tensor_inputs, captured_inputs)\u001b[0m\n\u001b[1;32m   1321\u001b[0m         and executing_eagerly):\n\u001b[1;32m   1322\u001b[0m       \u001b[0;31m# No tape is watching; skip to running the function.\u001b[0m\u001b[0;34m\u001b[0m\u001b[0;34m\u001b[0m\u001b[0m\n\u001b[0;32m-> 1323\u001b[0;31m       \u001b[0;32mreturn\u001b[0m \u001b[0mself\u001b[0m\u001b[0;34m.\u001b[0m\u001b[0m_inference_function\u001b[0m\u001b[0;34m.\u001b[0m\u001b[0mcall_preflattened\u001b[0m\u001b[0;34m(\u001b[0m\u001b[0margs\u001b[0m\u001b[0;34m)\u001b[0m\u001b[0;34m\u001b[0m\u001b[0;34m\u001b[0m\u001b[0m\n\u001b[0m\u001b[1;32m   1324\u001b[0m     forward_backward = self._select_forward_and_backward_functions(\n\u001b[1;32m   1325\u001b[0m         \u001b[0margs\u001b[0m\u001b[0;34m,\u001b[0m\u001b[0;34m\u001b[0m\u001b[0;34m\u001b[0m\u001b[0m\n",
            "\u001b[0;32m/usr/local/lib/python3.10/dist-packages/tensorflow/python/eager/polymorphic_function/atomic_function.py\u001b[0m in \u001b[0;36mcall_preflattened\u001b[0;34m(self, args)\u001b[0m\n\u001b[1;32m    214\u001b[0m   \u001b[0;32mdef\u001b[0m \u001b[0mcall_preflattened\u001b[0m\u001b[0;34m(\u001b[0m\u001b[0mself\u001b[0m\u001b[0;34m,\u001b[0m \u001b[0margs\u001b[0m\u001b[0;34m:\u001b[0m \u001b[0mSequence\u001b[0m\u001b[0;34m[\u001b[0m\u001b[0mcore\u001b[0m\u001b[0;34m.\u001b[0m\u001b[0mTensor\u001b[0m\u001b[0;34m]\u001b[0m\u001b[0;34m)\u001b[0m \u001b[0;34m->\u001b[0m \u001b[0mAny\u001b[0m\u001b[0;34m:\u001b[0m\u001b[0;34m\u001b[0m\u001b[0;34m\u001b[0m\u001b[0m\n\u001b[1;32m    215\u001b[0m     \u001b[0;34m\"\"\"Calls with flattened tensor inputs and returns the structured output.\"\"\"\u001b[0m\u001b[0;34m\u001b[0m\u001b[0;34m\u001b[0m\u001b[0m\n\u001b[0;32m--> 216\u001b[0;31m     \u001b[0mflat_outputs\u001b[0m \u001b[0;34m=\u001b[0m \u001b[0mself\u001b[0m\u001b[0;34m.\u001b[0m\u001b[0mcall_flat\u001b[0m\u001b[0;34m(\u001b[0m\u001b[0;34m*\u001b[0m\u001b[0margs\u001b[0m\u001b[0;34m)\u001b[0m\u001b[0;34m\u001b[0m\u001b[0;34m\u001b[0m\u001b[0m\n\u001b[0m\u001b[1;32m    217\u001b[0m     \u001b[0;32mreturn\u001b[0m \u001b[0mself\u001b[0m\u001b[0;34m.\u001b[0m\u001b[0mfunction_type\u001b[0m\u001b[0;34m.\u001b[0m\u001b[0mpack_output\u001b[0m\u001b[0;34m(\u001b[0m\u001b[0mflat_outputs\u001b[0m\u001b[0;34m)\u001b[0m\u001b[0;34m\u001b[0m\u001b[0;34m\u001b[0m\u001b[0m\n\u001b[1;32m    218\u001b[0m \u001b[0;34m\u001b[0m\u001b[0m\n",
            "\u001b[0;32m/usr/local/lib/python3.10/dist-packages/tensorflow/python/eager/polymorphic_function/atomic_function.py\u001b[0m in \u001b[0;36mcall_flat\u001b[0;34m(self, *args)\u001b[0m\n\u001b[1;32m    249\u001b[0m         \u001b[0;32mwith\u001b[0m \u001b[0mrecord\u001b[0m\u001b[0;34m.\u001b[0m\u001b[0mstop_recording\u001b[0m\u001b[0;34m(\u001b[0m\u001b[0;34m)\u001b[0m\u001b[0;34m:\u001b[0m\u001b[0;34m\u001b[0m\u001b[0;34m\u001b[0m\u001b[0m\n\u001b[1;32m    250\u001b[0m           \u001b[0;32mif\u001b[0m \u001b[0mself\u001b[0m\u001b[0;34m.\u001b[0m\u001b[0m_bound_context\u001b[0m\u001b[0;34m.\u001b[0m\u001b[0mexecuting_eagerly\u001b[0m\u001b[0;34m(\u001b[0m\u001b[0;34m)\u001b[0m\u001b[0;34m:\u001b[0m\u001b[0;34m\u001b[0m\u001b[0;34m\u001b[0m\u001b[0m\n\u001b[0;32m--> 251\u001b[0;31m             outputs = self._bound_context.call_function(\n\u001b[0m\u001b[1;32m    252\u001b[0m                 \u001b[0mself\u001b[0m\u001b[0;34m.\u001b[0m\u001b[0mname\u001b[0m\u001b[0;34m,\u001b[0m\u001b[0;34m\u001b[0m\u001b[0;34m\u001b[0m\u001b[0m\n\u001b[1;32m    253\u001b[0m                 \u001b[0mlist\u001b[0m\u001b[0;34m(\u001b[0m\u001b[0margs\u001b[0m\u001b[0;34m)\u001b[0m\u001b[0;34m,\u001b[0m\u001b[0;34m\u001b[0m\u001b[0;34m\u001b[0m\u001b[0m\n",
            "\u001b[0;32m/usr/local/lib/python3.10/dist-packages/tensorflow/python/eager/context.py\u001b[0m in \u001b[0;36mcall_function\u001b[0;34m(self, name, tensor_inputs, num_outputs)\u001b[0m\n\u001b[1;32m   1484\u001b[0m     \u001b[0mcancellation_context\u001b[0m \u001b[0;34m=\u001b[0m \u001b[0mcancellation\u001b[0m\u001b[0;34m.\u001b[0m\u001b[0mcontext\u001b[0m\u001b[0;34m(\u001b[0m\u001b[0;34m)\u001b[0m\u001b[0;34m\u001b[0m\u001b[0;34m\u001b[0m\u001b[0m\n\u001b[1;32m   1485\u001b[0m     \u001b[0;32mif\u001b[0m \u001b[0mcancellation_context\u001b[0m \u001b[0;32mis\u001b[0m \u001b[0;32mNone\u001b[0m\u001b[0;34m:\u001b[0m\u001b[0;34m\u001b[0m\u001b[0;34m\u001b[0m\u001b[0m\n\u001b[0;32m-> 1486\u001b[0;31m       outputs = execute.execute(\n\u001b[0m\u001b[1;32m   1487\u001b[0m           \u001b[0mname\u001b[0m\u001b[0;34m.\u001b[0m\u001b[0mdecode\u001b[0m\u001b[0;34m(\u001b[0m\u001b[0;34m\"utf-8\"\u001b[0m\u001b[0;34m)\u001b[0m\u001b[0;34m,\u001b[0m\u001b[0;34m\u001b[0m\u001b[0;34m\u001b[0m\u001b[0m\n\u001b[1;32m   1488\u001b[0m           \u001b[0mnum_outputs\u001b[0m\u001b[0;34m=\u001b[0m\u001b[0mnum_outputs\u001b[0m\u001b[0;34m,\u001b[0m\u001b[0;34m\u001b[0m\u001b[0;34m\u001b[0m\u001b[0m\n",
            "\u001b[0;32m/usr/local/lib/python3.10/dist-packages/tensorflow/python/eager/execute.py\u001b[0m in \u001b[0;36mquick_execute\u001b[0;34m(op_name, num_outputs, inputs, attrs, ctx, name)\u001b[0m\n\u001b[1;32m     51\u001b[0m   \u001b[0;32mtry\u001b[0m\u001b[0;34m:\u001b[0m\u001b[0;34m\u001b[0m\u001b[0;34m\u001b[0m\u001b[0m\n\u001b[1;32m     52\u001b[0m     \u001b[0mctx\u001b[0m\u001b[0;34m.\u001b[0m\u001b[0mensure_initialized\u001b[0m\u001b[0;34m(\u001b[0m\u001b[0;34m)\u001b[0m\u001b[0;34m\u001b[0m\u001b[0;34m\u001b[0m\u001b[0m\n\u001b[0;32m---> 53\u001b[0;31m     tensors = pywrap_tfe.TFE_Py_Execute(ctx._handle, device_name, op_name,\n\u001b[0m\u001b[1;32m     54\u001b[0m                                         inputs, attrs, num_outputs)\n\u001b[1;32m     55\u001b[0m   \u001b[0;32mexcept\u001b[0m \u001b[0mcore\u001b[0m\u001b[0;34m.\u001b[0m\u001b[0m_NotOkStatusException\u001b[0m \u001b[0;32mas\u001b[0m \u001b[0me\u001b[0m\u001b[0;34m:\u001b[0m\u001b[0;34m\u001b[0m\u001b[0;34m\u001b[0m\u001b[0m\n",
            "\u001b[0;31mKeyboardInterrupt\u001b[0m: "
          ]
        }
      ],
      "source": [
        "from tensorflow.keras.preprocessing.image import ImageDataGenerator\n",
        "\n",
        "train_datagen = ImageDataGenerator(\n",
        "    rescale=1./255,\n",
        "    horizontal_flip=True,\n",
        "    zoom_range=0.2,\n",
        "    validation_split=0.2\n",
        ")\n",
        "\n",
        "train_generator = train_datagen.flow_from_directory(\n",
        "    train_path,\n",
        "    target_size=(224, 224),\n",
        "    subset='training',\n",
        "    batch_size=32,\n",
        "    shuffle=True,\n",
        "    class_mode='categorical'\n",
        ")\n",
        "\n",
        "validation_generator = train_datagen.flow_from_directory(\n",
        "    train_path,\n",
        "    target_size=(224, 224),\n",
        "    subset='validation',\n",
        "    batch_size=32,\n",
        "    shuffle=True,\n",
        "    class_mode='categorical'\n",
        ")\n",
        "\n",
        "base_model = ResNet50(weights='imagenet', include_top=False, input_shape=(224, 224, 3))\n",
        "for layer in base_model.layers[:-10]:\n",
        "    layer.trainable = False\n",
        "\n",
        "x = base_model.output\n",
        "x = Conv2D(256, (3, 3), activation='relu', padding='same')(x)\n",
        "x = BatchNormalization()(x)\n",
        "x = Dropout(0.25)(x)\n",
        "x = GlobalAveragePooling2D()(x)\n",
        "x = Dense(1024, activation='relu', kernel_regularizer=l2(0.0005))(x)\n",
        "x = Dropout(0.25)(x)\n",
        "x = Dense(512, activation='relu', kernel_regularizer=l2(0.0005))(x)\n",
        "x = BatchNormalization()(x)\n",
        "x = Dropout(0.25)(x)\n",
        "predictions = Dense(7, activation='softmax')(x)\n",
        "\n",
        "model_res = Model(inputs=base_model.input, outputs=predictions)\n",
        "model_res.compile(optimizer=Adam(learning_rate=0.0001), loss='categorical_crossentropy', metrics=['accuracy'])\n",
        "\n",
        "reduce_lr = ReduceLROnPlateau(monitor='val_loss', factor=0.2, patience=5, min_lr=0.000001)\n",
        "early_stopping = EarlyStopping(monitor='val_loss', patience=10, restore_best_weights=True, start_from_epoch=25)\n",
        "\n",
        "res_history = model_res.fit(train_generator, validation_data=validation_generator, epochs=100, callbacks=[early_stopping, reduce_lr])\n"
      ]
    },
    {
      "cell_type": "code",
      "execution_count": null,
      "metadata": {
        "colab": {
          "base_uri": "https://localhost:8080/"
        },
        "id": "sk64YRgKfNDt",
        "outputId": "9d210128-5083-4a95-d062-05be096c4f5c"
      },
      "outputs": [
        {
          "name": "stdout",
          "output_type": "stream",
          "text": [
            "Found 22968 images belonging to 7 classes.\n",
            "Found 5741 images belonging to 7 classes.\n",
            "Epoch 1/100\n",
            "359/359 [==============================] - 587s 2s/step - loss: 2.9175 - accuracy: 0.1684 - val_loss: 2.1773 - val_accuracy: 0.1771 - lr: 1.0000e-04\n",
            "Epoch 2/100\n",
            "359/359 [==============================] - 588s 2s/step - loss: 2.5804 - accuracy: 0.1971 - val_loss: 2.2127 - val_accuracy: 0.2782 - lr: 1.0000e-04\n",
            "Epoch 3/100\n",
            "359/359 [==============================] - 582s 2s/step - loss: 2.3779 - accuracy: 0.2385 - val_loss: 2.1323 - val_accuracy: 0.2662 - lr: 1.0000e-04\n",
            "Epoch 4/100\n",
            "359/359 [==============================] - 581s 2s/step - loss: 2.2585 - accuracy: 0.2825 - val_loss: 2.0200 - val_accuracy: 0.3353 - lr: 1.0000e-04\n",
            "Epoch 5/100\n",
            "359/359 [==============================] - 579s 2s/step - loss: 2.1799 - accuracy: 0.3015 - val_loss: 2.1902 - val_accuracy: 0.1918 - lr: 1.0000e-04\n",
            "Epoch 6/100\n",
            "359/359 [==============================] - 586s 2s/step - loss: 2.1002 - accuracy: 0.3236 - val_loss: 2.1030 - val_accuracy: 0.2709 - lr: 1.0000e-04\n",
            "Epoch 7/100\n",
            "359/359 [==============================] - 580s 2s/step - loss: 2.0918 - accuracy: 0.3302 - val_loss: 1.9466 - val_accuracy: 0.3369 - lr: 1.0000e-04\n",
            "Epoch 8/100\n",
            "359/359 [==============================] - 581s 2s/step - loss: 2.0336 - accuracy: 0.3456 - val_loss: 2.3404 - val_accuracy: 0.2993 - lr: 1.0000e-04\n",
            "Epoch 9/100\n",
            "359/359 [==============================] - 582s 2s/step - loss: 2.0181 - accuracy: 0.3493 - val_loss: 2.6894 - val_accuracy: 0.2700 - lr: 1.0000e-04\n",
            "Epoch 10/100\n",
            "359/359 [==============================] - 584s 2s/step - loss: 1.9813 - accuracy: 0.3676 - val_loss: 2.0511 - val_accuracy: 0.2789 - lr: 1.0000e-04\n",
            "Epoch 11/100\n",
            "359/359 [==============================] - 578s 2s/step - loss: 1.9674 - accuracy: 0.3701 - val_loss: 4.9221 - val_accuracy: 0.1113 - lr: 1.0000e-04\n",
            "Epoch 12/100\n",
            "359/359 [==============================] - 578s 2s/step - loss: 1.9427 - accuracy: 0.3715 - val_loss: 2.1835 - val_accuracy: 0.2484 - lr: 1.0000e-04\n",
            "Epoch 13/100\n",
            "359/359 [==============================] - 580s 2s/step - loss: 1.9083 - accuracy: 0.3856 - val_loss: 1.8326 - val_accuracy: 0.3830 - lr: 2.0000e-05\n",
            "Epoch 14/100\n",
            "359/359 [==============================] - 575s 2s/step - loss: 1.8986 - accuracy: 0.3926 - val_loss: 1.7905 - val_accuracy: 0.3963 - lr: 2.0000e-05\n",
            "Epoch 15/100\n",
            "359/359 [==============================] - 579s 2s/step - loss: 1.8798 - accuracy: 0.3961 - val_loss: 1.7870 - val_accuracy: 0.4029 - lr: 2.0000e-05\n",
            "Epoch 16/100\n",
            "359/359 [==============================] - 578s 2s/step - loss: 1.8679 - accuracy: 0.3990 - val_loss: 1.7866 - val_accuracy: 0.4092 - lr: 2.0000e-05\n",
            "Epoch 17/100\n",
            "359/359 [==============================] - 580s 2s/step - loss: 1.8646 - accuracy: 0.4013 - val_loss: 1.8605 - val_accuracy: 0.3590 - lr: 2.0000e-05\n",
            "Epoch 18/100\n",
            "359/359 [==============================] - 582s 2s/step - loss: 1.8554 - accuracy: 0.4082 - val_loss: 1.8354 - val_accuracy: 0.3782 - lr: 2.0000e-05\n",
            "Epoch 19/100\n",
            "359/359 [==============================] - 583s 2s/step - loss: 1.8469 - accuracy: 0.4057 - val_loss: 1.8027 - val_accuracy: 0.3963 - lr: 2.0000e-05\n",
            "Epoch 20/100\n",
            "359/359 [==============================] - 587s 2s/step - loss: 1.8392 - accuracy: 0.4060 - val_loss: 1.8159 - val_accuracy: 0.3843 - lr: 2.0000e-05\n",
            "Epoch 21/100\n",
            "359/359 [==============================] - 587s 2s/step - loss: 1.8330 - accuracy: 0.4080 - val_loss: 1.8021 - val_accuracy: 0.3759 - lr: 2.0000e-05\n",
            "Epoch 22/100\n",
            "359/359 [==============================] - 583s 2s/step - loss: 1.8320 - accuracy: 0.4106 - val_loss: 1.7359 - val_accuracy: 0.4339 - lr: 4.0000e-06\n",
            "Epoch 23/100\n",
            "359/359 [==============================] - 581s 2s/step - loss: 1.8270 - accuracy: 0.4122 - val_loss: 1.7360 - val_accuracy: 0.4153 - lr: 4.0000e-06\n",
            "Epoch 24/100\n",
            "359/359 [==============================] - 583s 2s/step - loss: 1.8143 - accuracy: 0.4141 - val_loss: 1.7350 - val_accuracy: 0.4221 - lr: 4.0000e-06\n",
            "Epoch 25/100\n",
            "359/359 [==============================] - 583s 2s/step - loss: 1.8197 - accuracy: 0.4121 - val_loss: 1.7156 - val_accuracy: 0.4299 - lr: 4.0000e-06\n",
            "Epoch 26/100\n",
            "359/359 [==============================] - 582s 2s/step - loss: 1.8092 - accuracy: 0.4185 - val_loss: 1.7216 - val_accuracy: 0.4234 - lr: 4.0000e-06\n",
            "Epoch 27/100\n",
            "359/359 [==============================] - 583s 2s/step - loss: 1.8173 - accuracy: 0.4141 - val_loss: 1.7304 - val_accuracy: 0.4269 - lr: 4.0000e-06\n",
            "Epoch 28/100\n",
            "359/359 [==============================] - 600s 2s/step - loss: 1.8076 - accuracy: 0.4205 - val_loss: 1.7534 - val_accuracy: 0.4106 - lr: 4.0000e-06\n",
            "Epoch 29/100\n",
            "359/359 [==============================] - 587s 2s/step - loss: 1.8141 - accuracy: 0.4105 - val_loss: 1.7214 - val_accuracy: 0.4273 - lr: 4.0000e-06\n",
            "Epoch 30/100\n",
            "359/359 [==============================] - 583s 2s/step - loss: 1.8037 - accuracy: 0.4177 - val_loss: 1.7222 - val_accuracy: 0.4290 - lr: 4.0000e-06\n",
            "Epoch 31/100\n",
            "359/359 [==============================] - 588s 2s/step - loss: 1.8057 - accuracy: 0.4168 - val_loss: 1.7208 - val_accuracy: 0.4250 - lr: 1.0000e-06\n",
            "Epoch 32/100\n",
            "359/359 [==============================] - 583s 2s/step - loss: 1.8010 - accuracy: 0.4162 - val_loss: 1.7142 - val_accuracy: 0.4335 - lr: 1.0000e-06\n",
            "Epoch 33/100\n",
            "359/359 [==============================] - 583s 2s/step - loss: 1.8097 - accuracy: 0.4164 - val_loss: 1.7306 - val_accuracy: 0.4261 - lr: 1.0000e-06\n",
            "Epoch 34/100\n",
            "359/359 [==============================] - 584s 2s/step - loss: 1.7924 - accuracy: 0.4191 - val_loss: 1.7192 - val_accuracy: 0.4262 - lr: 1.0000e-06\n",
            "Epoch 35/100\n",
            "359/359 [==============================] - 580s 2s/step - loss: 1.7955 - accuracy: 0.4171 - val_loss: 1.7156 - val_accuracy: 0.4323 - lr: 1.0000e-06\n",
            "Epoch 36/100\n",
            "359/359 [==============================] - 583s 2s/step - loss: 1.8025 - accuracy: 0.4249 - val_loss: 1.7187 - val_accuracy: 0.4301 - lr: 1.0000e-06\n",
            "Epoch 37/100\n",
            "359/359 [==============================] - 583s 2s/step - loss: 1.7873 - accuracy: 0.4153 - val_loss: 1.7182 - val_accuracy: 0.4278 - lr: 1.0000e-06\n",
            "Epoch 38/100\n",
            "359/359 [==============================] - 580s 2s/step - loss: 1.7931 - accuracy: 0.4220 - val_loss: 1.7178 - val_accuracy: 0.4283 - lr: 1.0000e-06\n",
            "Epoch 39/100\n",
            "359/359 [==============================] - 581s 2s/step - loss: 1.8019 - accuracy: 0.4184 - val_loss: 1.7167 - val_accuracy: 0.4273 - lr: 1.0000e-06\n",
            "Epoch 40/100\n",
            "359/359 [==============================] - 583s 2s/step - loss: 1.7999 - accuracy: 0.4168 - val_loss: 1.7191 - val_accuracy: 0.4276 - lr: 1.0000e-06\n",
            "Epoch 41/100\n",
            "359/359 [==============================] - 578s 2s/step - loss: 1.7978 - accuracy: 0.4143 - val_loss: 1.7109 - val_accuracy: 0.4290 - lr: 1.0000e-06\n",
            "Epoch 42/100\n",
            "359/359 [==============================] - 576s 2s/step - loss: 1.7990 - accuracy: 0.4178 - val_loss: 1.7078 - val_accuracy: 0.4320 - lr: 1.0000e-06\n",
            "Epoch 43/100\n",
            "359/359 [==============================] - 584s 2s/step - loss: 1.7969 - accuracy: 0.4187 - val_loss: 1.7160 - val_accuracy: 0.4315 - lr: 1.0000e-06\n",
            "Epoch 44/100\n",
            "359/359 [==============================] - 592s 2s/step - loss: 1.7955 - accuracy: 0.4193 - val_loss: 1.7066 - val_accuracy: 0.4355 - lr: 1.0000e-06\n",
            "Epoch 45/100\n",
            "359/359 [==============================] - 590s 2s/step - loss: 1.7904 - accuracy: 0.4201 - val_loss: 1.7192 - val_accuracy: 0.4344 - lr: 1.0000e-06\n",
            "Epoch 46/100\n",
            "359/359 [==============================] - 598s 2s/step - loss: 1.7992 - accuracy: 0.4207 - val_loss: 1.7053 - val_accuracy: 0.4315 - lr: 1.0000e-06\n",
            "Epoch 47/100\n",
            "359/359 [==============================] - 596s 2s/step - loss: 1.7854 - accuracy: 0.4191 - val_loss: 1.7090 - val_accuracy: 0.4344 - lr: 1.0000e-06\n",
            "Epoch 48/100\n",
            "359/359 [==============================] - 603s 2s/step - loss: 1.7928 - accuracy: 0.4204 - val_loss: 1.7130 - val_accuracy: 0.4297 - lr: 1.0000e-06\n",
            "Epoch 49/100\n",
            "359/359 [==============================] - 599s 2s/step - loss: 1.7808 - accuracy: 0.4232 - val_loss: 1.7127 - val_accuracy: 0.4306 - lr: 1.0000e-06\n",
            "Epoch 50/100\n",
            "359/359 [==============================] - 602s 2s/step - loss: 1.7937 - accuracy: 0.4199 - val_loss: 1.7119 - val_accuracy: 0.4369 - lr: 1.0000e-06\n",
            "Epoch 51/100\n",
            "359/359 [==============================] - 601s 2s/step - loss: 1.7879 - accuracy: 0.4217 - val_loss: 1.7161 - val_accuracy: 0.4295 - lr: 1.0000e-06\n",
            "Epoch 52/100\n",
            "359/359 [==============================] - 593s 2s/step - loss: 1.7870 - accuracy: 0.4193 - val_loss: 1.7141 - val_accuracy: 0.4325 - lr: 1.0000e-06\n",
            "Epoch 53/100\n",
            "359/359 [==============================] - 597s 2s/step - loss: 1.7947 - accuracy: 0.4235 - val_loss: 1.7078 - val_accuracy: 0.4402 - lr: 1.0000e-06\n",
            "Epoch 54/100\n",
            "359/359 [==============================] - 599s 2s/step - loss: 1.7962 - accuracy: 0.4191 - val_loss: 1.7012 - val_accuracy: 0.4386 - lr: 1.0000e-06\n",
            "Epoch 55/100\n",
            "359/359 [==============================] - 596s 2s/step - loss: 1.7830 - accuracy: 0.4263 - val_loss: 1.7182 - val_accuracy: 0.4276 - lr: 1.0000e-06\n",
            "Epoch 56/100\n",
            "359/359 [==============================] - 595s 2s/step - loss: 1.7854 - accuracy: 0.4233 - val_loss: 1.7128 - val_accuracy: 0.4348 - lr: 1.0000e-06\n",
            "Epoch 57/100\n",
            "359/359 [==============================] - 596s 2s/step - loss: 1.7930 - accuracy: 0.4193 - val_loss: 1.7265 - val_accuracy: 0.4342 - lr: 1.0000e-06\n",
            "Epoch 58/100\n",
            "359/359 [==============================] - 594s 2s/step - loss: 1.7828 - accuracy: 0.4230 - val_loss: 1.7094 - val_accuracy: 0.4346 - lr: 1.0000e-06\n",
            "Epoch 59/100\n",
            "359/359 [==============================] - 592s 2s/step - loss: 1.7886 - accuracy: 0.4232 - val_loss: 1.7136 - val_accuracy: 0.4332 - lr: 1.0000e-06\n",
            "Epoch 60/100\n",
            "359/359 [==============================] - 590s 2s/step - loss: 1.7831 - accuracy: 0.4212 - val_loss: 1.7091 - val_accuracy: 0.4278 - lr: 1.0000e-06\n",
            "Epoch 61/100\n",
            "359/359 [==============================] - 589s 2s/step - loss: 1.7830 - accuracy: 0.4252 - val_loss: 1.7131 - val_accuracy: 0.4349 - lr: 1.0000e-06\n",
            "Epoch 62/100\n",
            "359/359 [==============================] - 593s 2s/step - loss: 1.7826 - accuracy: 0.4243 - val_loss: 1.7061 - val_accuracy: 0.4292 - lr: 1.0000e-06\n",
            "Epoch 63/100\n",
            "359/359 [==============================] - 590s 2s/step - loss: 1.7823 - accuracy: 0.4248 - val_loss: 1.7087 - val_accuracy: 0.4403 - lr: 1.0000e-06\n",
            "Epoch 64/100\n",
            "359/359 [==============================] - 592s 2s/step - loss: 1.7848 - accuracy: 0.4197 - val_loss: 1.6975 - val_accuracy: 0.4374 - lr: 1.0000e-06\n",
            "Epoch 65/100\n",
            "359/359 [==============================] - 585s 2s/step - loss: 1.7869 - accuracy: 0.4228 - val_loss: 1.7099 - val_accuracy: 0.4318 - lr: 1.0000e-06\n",
            "Epoch 66/100\n",
            "359/359 [==============================] - 586s 2s/step - loss: 1.7894 - accuracy: 0.4209 - val_loss: 1.7046 - val_accuracy: 0.4320 - lr: 1.0000e-06\n",
            "Epoch 67/100\n",
            "359/359 [==============================] - 580s 2s/step - loss: 1.7844 - accuracy: 0.4225 - val_loss: 1.7129 - val_accuracy: 0.4360 - lr: 1.0000e-06\n",
            "Epoch 68/100\n",
            "359/359 [==============================] - 604s 2s/step - loss: 1.7803 - accuracy: 0.4220 - val_loss: 1.7152 - val_accuracy: 0.4261 - lr: 1.0000e-06\n",
            "Epoch 69/100\n",
            "359/359 [==============================] - 592s 2s/step - loss: 1.7908 - accuracy: 0.4204 - val_loss: 1.7161 - val_accuracy: 0.4316 - lr: 1.0000e-06\n",
            "Epoch 70/100\n",
            "359/359 [==============================] - 588s 2s/step - loss: 1.7805 - accuracy: 0.4226 - val_loss: 1.7025 - val_accuracy: 0.4402 - lr: 1.0000e-06\n",
            "Epoch 71/100\n",
            "359/359 [==============================] - 592s 2s/step - loss: 1.7770 - accuracy: 0.4225 - val_loss: 1.7129 - val_accuracy: 0.4288 - lr: 1.0000e-06\n",
            "Epoch 72/100\n",
            "359/359 [==============================] - 592s 2s/step - loss: 1.7864 - accuracy: 0.4232 - val_loss: 1.7040 - val_accuracy: 0.4306 - lr: 1.0000e-06\n",
            "Epoch 73/100\n",
            "359/359 [==============================] - 592s 2s/step - loss: 1.7803 - accuracy: 0.4277 - val_loss: 1.7150 - val_accuracy: 0.4389 - lr: 1.0000e-06\n",
            "Epoch 74/100\n",
            "359/359 [==============================] - 591s 2s/step - loss: 1.7823 - accuracy: 0.4250 - val_loss: 1.7071 - val_accuracy: 0.4301 - lr: 1.0000e-06\n",
            "Epoch 75/100\n",
            "359/359 [==============================] - 594s 2s/step - loss: 1.7841 - accuracy: 0.4242 - val_loss: 1.7098 - val_accuracy: 0.4288 - lr: 1.0000e-06\n",
            "Epoch 76/100\n",
            "359/359 [==============================] - 593s 2s/step - loss: 1.7839 - accuracy: 0.4215 - val_loss: 1.7026 - val_accuracy: 0.4402 - lr: 1.0000e-06\n",
            "Epoch 77/100\n",
            "359/359 [==============================] - 592s 2s/step - loss: 1.7753 - accuracy: 0.4242 - val_loss: 1.7147 - val_accuracy: 0.4348 - lr: 1.0000e-06\n",
            "Epoch 78/100\n",
            "359/359 [==============================] - 596s 2s/step - loss: 1.7787 - accuracy: 0.4223 - val_loss: 1.7141 - val_accuracy: 0.4365 - lr: 1.0000e-06\n",
            "Epoch 79/100\n",
            "359/359 [==============================] - 593s 2s/step - loss: 1.7712 - accuracy: 0.4225 - val_loss: 1.6995 - val_accuracy: 0.4398 - lr: 1.0000e-06\n"
          ]
        }
      ],
      "source": [
        "from tensorflow.keras.preprocessing.image import ImageDataGenerator\n",
        "from tensorflow.keras.applications import ResNet50\n",
        "from tensorflow.keras.models import Model\n",
        "from tensorflow.keras.layers import Conv2D,Dense,GlobalAveragePooling2D, BatchNormalization\n",
        "from tensorflow.keras.optimizers import Adam\n",
        "from tensorflow.keras.regularizers import l2\n",
        "from tensorflow.keras.layers import Dropout\n",
        "from tensorflow.keras.callbacks import EarlyStopping\n",
        "from tensorflow.keras.callbacks import ReduceLROnPlateau\n",
        "\n",
        "train_datagen = ImageDataGenerator(\n",
        "    rescale=1./255,\n",
        "    horizontal_flip=True,\n",
        "    zoom_range=0.2,\n",
        "    validation_split=0.2,\n",
        "    fill_mode='nearest'\n",
        ")\n",
        "\n",
        "train_generator = train_datagen.flow_from_directory(\n",
        "    train_path,\n",
        "    target_size=(224, 224),\n",
        "    subset='training',\n",
        "    batch_size=64,\n",
        "    shuffle=True,\n",
        "    class_mode='categorical'\n",
        ")\n",
        "\n",
        "validation_generator = train_datagen.flow_from_directory(\n",
        "    train_path,\n",
        "    target_size=(224, 224),\n",
        "    subset='validation',\n",
        "    batch_size=64,\n",
        "    shuffle=True,\n",
        "    class_mode='categorical'\n",
        ")\n",
        "\n",
        "base_model = ResNet50(weights='imagenet', include_top=False, input_shape=(224, 224, 3))\n",
        "for layer in base_model.layers[:-10]:\n",
        "    layer.trainable = False\n",
        "\n",
        "x = base_model.output\n",
        "x = Conv2D(128, (3, 3), activation='relu', padding='same')(x)\n",
        "x = BatchNormalization()(x)\n",
        "x = Dropout(0.5)(x)\n",
        "x = GlobalAveragePooling2D()(x)\n",
        "x = Dense(512, activation='relu', kernel_regularizer=l2(0.0005))(x)\n",
        "x = Dropout(0.5)(x)\n",
        "x = Dense(256, activation='relu', kernel_regularizer=l2(0.0005))(x)\n",
        "x = BatchNormalization()(x)\n",
        "x = Dropout(0.5)(x)\n",
        "predictions = Dense(7, activation='softmax')(x)\n",
        "\n",
        "model_res = Model(inputs=base_model.input, outputs=predictions)\n",
        "model_res.compile(optimizer=Adam(learning_rate=0.0001), loss='categorical_crossentropy', metrics=['accuracy'])\n",
        "\n",
        "reduce_lr = ReduceLROnPlateau(monitor='val_loss', factor=0.2, patience=5, min_lr=0.000001)\n",
        "early_stopping = EarlyStopping(monitor='val_loss', patience=15, restore_best_weights=True, start_from_epoch=25)\n",
        "\n",
        "res_history = model_res.fit(train_generator, validation_data=validation_generator, epochs=100, callbacks=[early_stopping, reduce_lr])\n"
      ]
    },
    {
      "cell_type": "code",
      "execution_count": null,
      "metadata": {
        "colab": {
          "base_uri": "https://localhost:8080/",
          "height": 239
        },
        "id": "4d2i9ilUZXf-",
        "outputId": "a438adf7-bf11-4466-aa11-290dca15e1b5"
      },
      "outputs": [
        {
          "data": {
            "image/png": "[encoded data removed]",
            "text/plain": [
              "<Figure size 1200x400 with 2 Axes>"
            ]
          },
          "metadata": {},
          "output_type": "display_data"
        }
      ],
      "source": [
        "import matplotlib.pyplot as plt\n",
        "\n",
        "# res_history is the history object returned by model.fit()\n",
        "history = res_history.history\n",
        "\n",
        "# Plotting training & validation accuracy values\n",
        "plt.figure(figsize=(12, 4))\n",
        "plt.subplot(1, 2, 1)\n",
        "plt.plot(history['accuracy'], label='Training Accuracy')\n",
        "plt.plot(history['val_accuracy'], label='Validation Accuracy')\n",
        "plt.title('Model Accuracy')\n",
        "plt.xlabel('Epoch')\n",
        "plt.ylabel('Accuracy')\n",
        "plt.legend(loc='upper left')\n",
        "\n",
        "# Plotting training & validation loss values\n",
        "plt.subplot(1, 2, 2)\n",
        "plt.plot(history['loss'], label='Training Loss')\n",
        "plt.plot(history['val_loss'], label='Validation Loss')\n",
        "plt.title('Model Loss')\n",
        "plt.xlabel('Epoch')\n",
        "plt.ylabel('Loss')\n",
        "plt.legend(loc='upper left')\n",
        "\n",
        "plt.tight_layout()\n",
        "plt.show()\n"
      ]
    },
    {
      "cell_type": "code",
      "execution_count": null,
      "metadata": {
        "colab": {
          "base_uri": "https://localhost:8080/"
        },
        "id": "UnYfgIy4ZrLL",
        "outputId": "319f3ef2-2aca-40d4-e5b7-89c132f623bc"
      },
      "outputs": [
        {
          "name": "stdout",
          "output_type": "stream",
          "text": [
            "1/1 [==============================] - 1s 989ms/step\n",
            "[[0.02377843 0.00604509 0.20543946 0.01202283 0.00995727 0.01424771\n",
            "  0.7285092 ]]\n"
          ]
        }
      ],
      "source": [
        "import tensorflow as tf\n",
        "from tensorflow.keras.preprocessing.image import load_img, img_to_array\n",
        "\n",
        "# Loading and preprocess the image\n",
        "image_path = '/content/dataset/test/surprise/PrivateTest_10072988.jpg'\n",
        "image = load_img(image_path, target_size=(224, 224))  # Resize the image to match model's input size\n",
        "image_array = img_to_array(image)  # Convert the image to a numpy array\n",
        "image_array = image_array / 255.0  # Rescale the image\n",
        "\n",
        "# adding an extra dimension to include batch size\n",
        "image_array = tf.expand_dims(image_array, axis=0)\n",
        "\n",
        "# image_array as input to model for prediction\n",
        "predictions = model_res.predict(image_array)\n",
        "print(predictions)"
      ]
    },
    {
      "cell_type": "code",
      "execution_count": null,
      "metadata": {
        "colab": {
          "base_uri": "https://localhost:8080/"
        },
        "id": "jObD47uOZvdY",
        "outputId": "3ff7b00e-1c12-45a8-f05e-2de7a5030429"
      },
      "outputs": [
        {
          "name": "stdout",
          "output_type": "stream",
          "text": [
            "The predicted class is: surprise\n"
          ]
        }
      ],
      "source": [
        "import numpy as np\n",
        "\n",
        "predictions = np.array(predictions)\n",
        "# Get the index of the highest value\n",
        "predicted_class_index = np.argmax(predictions)\n",
        "# Mappinng the index to the class name\n",
        "class_names = ['Angry', 'disgust', 'fear', 'happy', 'neutral', 'sad', 'surprise']\n",
        "predicted_class = class_names[predicted_class_index]\n",
        "\n",
        "print(f\"The predicted class is: {predicted_class}\")"
      ]
    },
    {
      "cell_type": "code",
      "execution_count": null,
      "metadata": {
        "colab": {
          "base_uri": "https://localhost:8080/"
        },
        "id": "60R1CYUWZ9op",
        "outputId": "d3378fad-3f55-4e6d-e59a-e6782dd63595"
      },
      "outputs": [
        {
          "name": "stderr",
          "output_type": "stream",
          "text": [
            "/usr/local/lib/python3.10/dist-packages/keras/src/engine/training.py:3103: UserWarning: You are saving your model as an HDF5 file via `model.save()`. This file format is considered legacy. We recommend using instead the native Keras format, e.g. `model.save('my_model.keras')`.\n",
            "  saving_api.save_model(\n"
          ]
        }
      ],
      "source": [
        "#save  the resnet model\n",
        "model_res.save('resnet_model.h5')"
      ]
    },
    {
      "cell_type": "code",
      "execution_count": null,
      "metadata": {
        "colab": {
          "base_uri": "https://localhost:8080/",
          "height": 17
        },
        "id": "-XY9_VB6aIy8",
        "outputId": "2753fc99-e2f8-4c35-9b35-4efdc6b1d02b"
      },
      "outputs": [
        {
          "data": {
            "application/javascript": "\n    async function download(id, filename, size) {\n      if (!google.colab.kernel.accessAllowed) {\n        return;\n      }\n      const div = document.createElement('div');\n      const label = document.createElement('label');\n      label.textContent = `Downloading \"${filename}\": `;\n      div.appendChild(label);\n      const progress = document.createElement('progress');\n      progress.max = size;\n      div.appendChild(progress);\n      document.body.appendChild(div);\n\n      const buffers = [];\n      let downloaded = 0;\n\n      const channel = await google.colab.kernel.comms.open(id);\n      // Send a message to notify the kernel that we're ready.\n      channel.send({})\n\n      for await (const message of channel.messages) {\n        // Send a message to notify the kernel that we're ready.\n        channel.send({})\n        if (message.buffers) {\n          for (const buffer of message.buffers) {\n            buffers.push(buffer);\n            downloaded += buffer.byteLength;\n            progress.value = downloaded;\n          }\n        }\n      }\n      const blob = new Blob(buffers, {type: 'application/binary'});\n      const a = document.createElement('a');\n      a.href = window.URL.createObjectURL(blob);\n      a.download = filename;\n      div.appendChild(a);\n      a.click();\n      div.remove();\n    }\n  ",
            "text/plain": [
              "<IPython.core.display.Javascript object>"
            ]
          },
          "metadata": {},
          "output_type": "display_data"
        },
        {
          "data": {
            "application/javascript": "download(\"download_4d3cf823-d498-4d63-94ed-71fcab1cf43c\", \"resnet_model.h5\", 161401856)",
            "text/plain": [
              "<IPython.core.display.Javascript object>"
            ]
          },
          "metadata": {},
          "output_type": "display_data"
        }
      ],
      "source": [
        "#Download the saved model\n",
        "from google.colab import files\n",
        "files.download('resnet_model.h5')"
      ]
    },
    {
      "cell_type": "code",
      "execution_count": null,
      "metadata": {
        "colab": {
          "base_uri": "https://localhost:8080/"
        },
        "id": "3SkgD2QmfEpQ",
        "outputId": "95b09a28-6639-48df-dbc1-51b1ae89c10d"
      },
      "outputs": [
        {
          "name": "stdout",
          "output_type": "stream",
          "text": [
            "Found 22968 images belonging to 7 classes.\n",
            "Found 5741 images belonging to 7 classes.\n",
            "Downloading data from https://storage.googleapis.com/tensorflow/keras-applications/inception_v3/inception_v3_weights_tf_dim_ordering_tf_kernels_notop.h5\n",
            "87910968/87910968 [==============================] - 0s 0us/step\n",
            "Epoch 1/100\n",
            "359/359 [==============================] - 369s 1s/step - loss: 2.7329 - accuracy: 0.2761 - val_loss: 1.8682 - val_accuracy: 0.4125 - lr: 1.0000e-04\n",
            "Epoch 2/100\n",
            "359/359 [==============================] - 359s 1s/step - loss: 2.3156 - accuracy: 0.3518 - val_loss: 1.7901 - val_accuracy: 0.4470 - lr: 1.0000e-04\n",
            "Epoch 3/100\n",
            "359/359 [==============================] - 362s 1s/step - loss: 2.1591 - accuracy: 0.3897 - val_loss: 1.7759 - val_accuracy: 0.4487 - lr: 1.0000e-04\n",
            "Epoch 4/100\n",
            "359/359 [==============================] - 362s 1s/step - loss: 2.0197 - accuracy: 0.4102 - val_loss: 1.7311 - val_accuracy: 0.4729 - lr: 1.0000e-04\n",
            "Epoch 5/100\n",
            "359/359 [==============================] - 362s 1s/step - loss: 1.9501 - accuracy: 0.4220 - val_loss: 1.7106 - val_accuracy: 0.4806 - lr: 1.0000e-04\n",
            "Epoch 6/100\n",
            "359/359 [==============================] - 362s 1s/step - loss: 1.8945 - accuracy: 0.4316 - val_loss: 1.6654 - val_accuracy: 0.4853 - lr: 1.0000e-04\n",
            "Epoch 7/100\n",
            "359/359 [==============================] - 360s 1s/step - loss: 1.8134 - accuracy: 0.4534 - val_loss: 1.6350 - val_accuracy: 0.4828 - lr: 1.0000e-04\n",
            "Epoch 8/100\n",
            "359/359 [==============================] - 360s 1s/step - loss: 1.7847 - accuracy: 0.4579 - val_loss: 1.6246 - val_accuracy: 0.4950 - lr: 1.0000e-04\n",
            "Epoch 9/100\n",
            "359/359 [==============================] - 361s 1s/step - loss: 1.7328 - accuracy: 0.4711 - val_loss: 1.6168 - val_accuracy: 0.4973 - lr: 1.0000e-04\n",
            "Epoch 10/100\n",
            "359/359 [==============================] - 363s 1s/step - loss: 1.7059 - accuracy: 0.4757 - val_loss: 1.6650 - val_accuracy: 0.4856 - lr: 1.0000e-04\n",
            "Epoch 11/100\n",
            "359/359 [==============================] - 362s 1s/step - loss: 1.6796 - accuracy: 0.4803 - val_loss: 1.5747 - val_accuracy: 0.5037 - lr: 1.0000e-04\n",
            "Epoch 12/100\n",
            "359/359 [==============================] - 362s 1s/step - loss: 1.6422 - accuracy: 0.4914 - val_loss: 1.5878 - val_accuracy: 0.4888 - lr: 1.0000e-04\n",
            "Epoch 13/100\n",
            "359/359 [==============================] - 363s 1s/step - loss: 1.6085 - accuracy: 0.4997 - val_loss: 1.5913 - val_accuracy: 0.4830 - lr: 1.0000e-04\n",
            "Epoch 14/100\n",
            "359/359 [==============================] - 362s 1s/step - loss: 1.5932 - accuracy: 0.5035 - val_loss: 1.5591 - val_accuracy: 0.5062 - lr: 1.0000e-04\n",
            "Epoch 15/100\n",
            "359/359 [==============================] - 360s 1s/step - loss: 1.5577 - accuracy: 0.5131 - val_loss: 1.5474 - val_accuracy: 0.5112 - lr: 1.0000e-04\n",
            "Epoch 16/100\n",
            "359/359 [==============================] - 362s 1s/step - loss: 1.5529 - accuracy: 0.5142 - val_loss: 1.5448 - val_accuracy: 0.5037 - lr: 1.0000e-04\n",
            "Epoch 17/100\n",
            "359/359 [==============================] - 362s 1s/step - loss: 1.5202 - accuracy: 0.5230 - val_loss: 1.5160 - val_accuracy: 0.5105 - lr: 1.0000e-04\n",
            "Epoch 18/100\n",
            "359/359 [==============================] - 357s 993ms/step - loss: 1.5052 - accuracy: 0.5242 - val_loss: 1.5181 - val_accuracy: 0.5142 - lr: 1.0000e-04\n",
            "Epoch 19/100\n",
            "359/359 [==============================] - 361s 1s/step - loss: 1.4855 - accuracy: 0.5320 - val_loss: 1.4880 - val_accuracy: 0.5210 - lr: 1.0000e-04\n",
            "Epoch 20/100\n",
            "359/359 [==============================] - 360s 1s/step - loss: 1.4610 - accuracy: 0.5392 - val_loss: 1.4978 - val_accuracy: 0.5229 - lr: 1.0000e-04\n",
            "Epoch 21/100\n",
            "359/359 [==============================] - 364s 1s/step - loss: 1.4446 - accuracy: 0.5472 - val_loss: 1.4877 - val_accuracy: 0.5187 - lr: 1.0000e-04\n",
            "Epoch 22/100\n",
            "359/359 [==============================] - 364s 1s/step - loss: 1.4253 - accuracy: 0.5421 - val_loss: 1.4781 - val_accuracy: 0.5194 - lr: 1.0000e-04\n",
            "Epoch 23/100\n",
            "359/359 [==============================] - 363s 1s/step - loss: 1.4006 - accuracy: 0.5554 - val_loss: 1.4745 - val_accuracy: 0.5269 - lr: 1.0000e-04\n",
            "Epoch 24/100\n",
            "359/359 [==============================] - 363s 1s/step - loss: 1.3981 - accuracy: 0.5571 - val_loss: 1.4651 - val_accuracy: 0.5233 - lr: 1.0000e-04\n",
            "Epoch 25/100\n",
            "359/359 [==============================] - 363s 1s/step - loss: 1.3817 - accuracy: 0.5603 - val_loss: 1.4599 - val_accuracy: 0.5252 - lr: 1.0000e-04\n",
            "Epoch 26/100\n",
            "359/359 [==============================] - 364s 1s/step - loss: 1.3611 - accuracy: 0.5624 - val_loss: 1.4796 - val_accuracy: 0.5177 - lr: 1.0000e-04\n",
            "Epoch 27/100\n",
            "359/359 [==============================] - 365s 1s/step - loss: 1.3454 - accuracy: 0.5716 - val_loss: 1.4558 - val_accuracy: 0.5233 - lr: 1.0000e-04\n",
            "Epoch 28/100\n",
            "359/359 [==============================] - 362s 1s/step - loss: 1.3281 - accuracy: 0.5739 - val_loss: 1.4671 - val_accuracy: 0.5191 - lr: 1.0000e-04\n",
            "Epoch 29/100\n",
            "359/359 [==============================] - 362s 1s/step - loss: 1.3075 - accuracy: 0.5768 - val_loss: 1.4523 - val_accuracy: 0.5302 - lr: 1.0000e-04\n",
            "Epoch 30/100\n",
            "359/359 [==============================] - 359s 1s/step - loss: 1.2937 - accuracy: 0.5824 - val_loss: 1.4399 - val_accuracy: 0.5271 - lr: 1.0000e-04\n",
            "Epoch 31/100\n",
            "359/359 [==============================] - 362s 1s/step - loss: 1.2783 - accuracy: 0.5859 - val_loss: 1.4171 - val_accuracy: 0.5307 - lr: 1.0000e-04\n",
            "Epoch 32/100\n",
            "359/359 [==============================] - 365s 1s/step - loss: 1.2737 - accuracy: 0.5868 - val_loss: 1.4519 - val_accuracy: 0.5177 - lr: 1.0000e-04\n",
            "Epoch 33/100\n",
            "359/359 [==============================] - 364s 1s/step - loss: 1.2551 - accuracy: 0.5928 - val_loss: 1.4256 - val_accuracy: 0.5234 - lr: 1.0000e-04\n",
            "Epoch 34/100\n",
            "359/359 [==============================] - 362s 1s/step - loss: 1.2382 - accuracy: 0.5982 - val_loss: 1.4634 - val_accuracy: 0.5161 - lr: 1.0000e-04\n",
            "Epoch 35/100\n",
            "359/359 [==============================] - 357s 994ms/step - loss: 1.2287 - accuracy: 0.5969 - val_loss: 1.4664 - val_accuracy: 0.5074 - lr: 1.0000e-04\n",
            "Epoch 36/100\n",
            "359/359 [==============================] - 364s 1s/step - loss: 1.2198 - accuracy: 0.6002 - val_loss: 1.3995 - val_accuracy: 0.5374 - lr: 1.0000e-04\n",
            "Epoch 37/100\n",
            "359/359 [==============================] - 360s 1s/step - loss: 1.1983 - accuracy: 0.6069 - val_loss: 1.4227 - val_accuracy: 0.5306 - lr: 1.0000e-04\n",
            "Epoch 38/100\n",
            "359/359 [==============================] - 360s 1s/step - loss: 1.1843 - accuracy: 0.6144 - val_loss: 1.4015 - val_accuracy: 0.5342 - lr: 1.0000e-04\n",
            "Epoch 39/100\n",
            "359/359 [==============================] - 361s 1s/step - loss: 1.1775 - accuracy: 0.6140 - val_loss: 1.3887 - val_accuracy: 0.5300 - lr: 1.0000e-04\n",
            "Epoch 40/100\n",
            "359/359 [==============================] - 362s 1s/step - loss: 1.1678 - accuracy: 0.6172 - val_loss: 1.4159 - val_accuracy: 0.5245 - lr: 1.0000e-04\n",
            "Epoch 41/100\n",
            "359/359 [==============================] - 363s 1s/step - loss: 1.1482 - accuracy: 0.6201 - val_loss: 1.4070 - val_accuracy: 0.5335 - lr: 1.0000e-04\n",
            "Epoch 42/100\n",
            "359/359 [==============================] - 363s 1s/step - loss: 1.1449 - accuracy: 0.6219 - val_loss: 1.4261 - val_accuracy: 0.5332 - lr: 1.0000e-04\n",
            "Epoch 43/100\n",
            "359/359 [==============================] - 362s 1s/step - loss: 1.1354 - accuracy: 0.6250 - val_loss: 1.4153 - val_accuracy: 0.5440 - lr: 1.0000e-04\n",
            "Epoch 44/100\n",
            "359/359 [==============================] - 357s 995ms/step - loss: 1.1116 - accuracy: 0.6317 - val_loss: 1.4147 - val_accuracy: 0.5407 - lr: 1.0000e-04\n",
            "Epoch 45/100\n",
            "359/359 [==============================] - 360s 1s/step - loss: 1.0815 - accuracy: 0.6464 - val_loss: 1.3507 - val_accuracy: 0.5546 - lr: 2.0000e-05\n",
            "Epoch 46/100\n",
            "359/359 [==============================] - 361s 1s/step - loss: 1.0488 - accuracy: 0.6581 - val_loss: 1.3555 - val_accuracy: 0.5553 - lr: 2.0000e-05\n",
            "Epoch 47/100\n",
            "359/359 [==============================] - 363s 1s/step - loss: 1.0440 - accuracy: 0.6573 - val_loss: 1.3528 - val_accuracy: 0.5590 - lr: 2.0000e-05\n",
            "Epoch 48/100\n",
            "359/359 [==============================] - 363s 1s/step - loss: 1.0382 - accuracy: 0.6624 - val_loss: 1.3671 - val_accuracy: 0.5543 - lr: 2.0000e-05\n",
            "Epoch 49/100\n",
            "359/359 [==============================] - 361s 1s/step - loss: 1.0314 - accuracy: 0.6661 - val_loss: 1.3565 - val_accuracy: 0.5508 - lr: 2.0000e-05\n",
            "Epoch 50/100\n",
            "359/359 [==============================] - 362s 1s/step - loss: 1.0272 - accuracy: 0.6646 - val_loss: 1.3680 - val_accuracy: 0.5482 - lr: 2.0000e-05\n",
            "Epoch 51/100\n",
            "359/359 [==============================] - 361s 1s/step - loss: 1.0192 - accuracy: 0.6685 - val_loss: 1.3637 - val_accuracy: 0.5539 - lr: 4.0000e-06\n",
            "Epoch 52/100\n",
            "359/359 [==============================] - 358s 997ms/step - loss: 1.0174 - accuracy: 0.6697 - val_loss: 1.3674 - val_accuracy: 0.5492 - lr: 4.0000e-06\n",
            "Epoch 53/100\n",
            "359/359 [==============================] - 358s 997ms/step - loss: 1.0134 - accuracy: 0.6690 - val_loss: 1.3613 - val_accuracy: 0.5530 - lr: 4.0000e-06\n",
            "Epoch 54/100\n",
            "359/359 [==============================] - 363s 1s/step - loss: 1.0195 - accuracy: 0.6683 - val_loss: 1.3541 - val_accuracy: 0.5572 - lr: 4.0000e-06\n",
            "Epoch 55/100\n",
            "359/359 [==============================] - 362s 1s/step - loss: 1.0058 - accuracy: 0.6750 - val_loss: 1.3635 - val_accuracy: 0.5593 - lr: 4.0000e-06\n",
            "Epoch 56/100\n",
            "359/359 [==============================] - 358s 997ms/step - loss: 1.0005 - accuracy: 0.6713 - val_loss: 1.3561 - val_accuracy: 0.5577 - lr: 1.0000e-06\n",
            "Epoch 57/100\n",
            "359/359 [==============================] - 361s 1s/step - loss: 1.0106 - accuracy: 0.6716 - val_loss: 1.3461 - val_accuracy: 0.5525 - lr: 1.0000e-06\n",
            "Epoch 58/100\n",
            "359/359 [==============================] - 363s 1s/step - loss: 1.0125 - accuracy: 0.6692 - val_loss: 1.3535 - val_accuracy: 0.5588 - lr: 1.0000e-06\n",
            "Epoch 59/100\n",
            "359/359 [==============================] - 362s 1s/step - loss: 1.0042 - accuracy: 0.6772 - val_loss: 1.3520 - val_accuracy: 0.5523 - lr: 1.0000e-06\n",
            "Epoch 60/100\n",
            "359/359 [==============================] - 364s 1s/step - loss: 1.0067 - accuracy: 0.6703 - val_loss: 1.3552 - val_accuracy: 0.5605 - lr: 1.0000e-06\n",
            "Epoch 61/100\n",
            "359/359 [==============================] - 363s 1s/step - loss: 1.0038 - accuracy: 0.6708 - val_loss: 1.3510 - val_accuracy: 0.5541 - lr: 1.0000e-06\n",
            "Epoch 62/100\n",
            "359/359 [==============================] - 364s 1s/step - loss: 1.0077 - accuracy: 0.6717 - val_loss: 1.3430 - val_accuracy: 0.5614 - lr: 1.0000e-06\n",
            "Epoch 63/100\n",
            "359/359 [==============================] - 358s 997ms/step - loss: 1.0019 - accuracy: 0.6743 - val_loss: 1.3675 - val_accuracy: 0.5548 - lr: 1.0000e-06\n",
            "Epoch 64/100\n",
            "359/359 [==============================] - 362s 1s/step - loss: 1.0125 - accuracy: 0.6723 - val_loss: 1.3597 - val_accuracy: 0.5562 - lr: 1.0000e-06\n",
            "Epoch 65/100\n",
            "359/359 [==============================] - 363s 1s/step - loss: 1.0017 - accuracy: 0.6755 - val_loss: 1.3526 - val_accuracy: 0.5665 - lr: 1.0000e-06\n",
            "Epoch 66/100\n",
            "359/359 [==============================] - 359s 998ms/step - loss: 0.9974 - accuracy: 0.6769 - val_loss: 1.3485 - val_accuracy: 0.5483 - lr: 1.0000e-06\n",
            "Epoch 67/100\n",
            "359/359 [==============================] - 360s 1s/step - loss: 1.0085 - accuracy: 0.6722 - val_loss: 1.3474 - val_accuracy: 0.5509 - lr: 1.0000e-06\n",
            "Epoch 68/100\n",
            "359/359 [==============================] - 362s 1s/step - loss: 1.0032 - accuracy: 0.6728 - val_loss: 1.3444 - val_accuracy: 0.5612 - lr: 1.0000e-06\n",
            "Epoch 69/100\n",
            "359/359 [==============================] - 362s 1s/step - loss: 1.0026 - accuracy: 0.6768 - val_loss: 1.3558 - val_accuracy: 0.5544 - lr: 1.0000e-06\n",
            "Epoch 70/100\n",
            "359/359 [==============================] - 361s 1s/step - loss: 1.0028 - accuracy: 0.6734 - val_loss: 1.3545 - val_accuracy: 0.5558 - lr: 1.0000e-06\n",
            "Epoch 71/100\n",
            "359/359 [==============================] - 363s 1s/step - loss: 1.0042 - accuracy: 0.6705 - val_loss: 1.3548 - val_accuracy: 0.5534 - lr: 1.0000e-06\n",
            "Epoch 72/100\n",
            "359/359 [==============================] - 357s 995ms/step - loss: 1.0002 - accuracy: 0.6767 - val_loss: 1.3539 - val_accuracy: 0.5537 - lr: 1.0000e-06\n",
            "Epoch 73/100\n",
            "359/359 [==============================] - 362s 1s/step - loss: 0.9939 - accuracy: 0.6773 - val_loss: 1.3533 - val_accuracy: 0.5563 - lr: 1.0000e-06\n",
            "Epoch 74/100\n",
            "359/359 [==============================] - 361s 1s/step - loss: 1.0022 - accuracy: 0.6720 - val_loss: 1.3523 - val_accuracy: 0.5539 - lr: 1.0000e-06\n",
            "Epoch 75/100\n",
            "359/359 [==============================] - 361s 1s/step - loss: 1.0076 - accuracy: 0.6748 - val_loss: 1.3735 - val_accuracy: 0.5499 - lr: 1.0000e-06\n",
            "Epoch 76/100\n",
            "359/359 [==============================] - 364s 1s/step - loss: 0.9902 - accuracy: 0.6792 - val_loss: 1.3707 - val_accuracy: 0.5496 - lr: 1.0000e-06\n",
            "Epoch 77/100\n",
            "359/359 [==============================] - 362s 1s/step - loss: 0.9985 - accuracy: 0.6726 - val_loss: 1.3444 - val_accuracy: 0.5562 - lr: 1.0000e-06\n"
          ]
        }
      ],
      "source": [
        "#Pretrained Inception Model\n",
        "from tensorflow.keras.preprocessing.image import ImageDataGenerator\n",
        "from tensorflow.keras.applications import InceptionV3\n",
        "from tensorflow.keras.models import Model\n",
        "from tensorflow.keras.layers import Conv2D,Dense,GlobalAveragePooling2D, BatchNormalization\n",
        "from tensorflow.keras.optimizers import Adam\n",
        "from tensorflow.keras.regularizers import l2\n",
        "from tensorflow.keras.layers import Dropout\n",
        "from tensorflow.keras.callbacks import EarlyStopping\n",
        "from tensorflow.keras.callbacks import ReduceLROnPlateau\n",
        "\n",
        "train_datagen = ImageDataGenerator(\n",
        "    rescale=1./255,\n",
        "    horizontal_flip=True,\n",
        "    zoom_range=0.2,\n",
        "    validation_split=0.2,\n",
        "    fill_mode='nearest'\n",
        ")\n",
        "\n",
        "train_generator = train_datagen.flow_from_directory(\n",
        "    train_path,\n",
        "    target_size=(224, 224),\n",
        "    subset='training',\n",
        "    batch_size=64,\n",
        "    shuffle=True,\n",
        "    class_mode='categorical'\n",
        ")\n",
        "\n",
        "validation_generator = train_datagen.flow_from_directory(\n",
        "    train_path,\n",
        "    target_size=(224, 224),\n",
        "    subset='validation',\n",
        "    batch_size=64,\n",
        "    shuffle=True,\n",
        "    class_mode='categorical'\n",
        ")\n",
        "\n",
        "base_model = InceptionV3(weights='imagenet', include_top=False, input_shape=(224, 224, 3))\n",
        "for layer in base_model.layers[:-10]:\n",
        "    layer.trainable = False\n",
        "\n",
        "x = base_model.output\n",
        "x = Conv2D(128, (3, 3), activation='relu', padding='same')(x)\n",
        "x = BatchNormalization()(x)\n",
        "x = Dropout(0.5)(x)\n",
        "x = GlobalAveragePooling2D()(x)\n",
        "x = Dense(512, activation='relu', kernel_regularizer=l2(0.0005))(x)\n",
        "x = Dropout(0.5)(x)\n",
        "x = Dense(256, activation='relu', kernel_regularizer=l2(0.0005))(x)\n",
        "x = BatchNormalization()(x)\n",
        "x = Dropout(0.5)(x)\n",
        "predictions = Dense(7, activation='softmax')(x)\n",
        "\n",
        "model_inc= Model(inputs=base_model.input, outputs=predictions)\n",
        "model_inc.compile(optimizer=Adam(learning_rate=0.0001), loss='categorical_crossentropy', metrics=['accuracy'])\n",
        "\n",
        "reduce_lr = ReduceLROnPlateau(monitor='val_loss', factor=0.2, patience=5, min_lr=0.000001)\n",
        "early_stopping = EarlyStopping(monitor='val_loss', patience=15, restore_best_weights=True, start_from_epoch=25)\n",
        "\n",
        "inc_history = model_inc.fit(train_generator, validation_data=validation_generator, epochs=100, callbacks=[early_stopping, reduce_lr])\n"
      ]
    },
    {
      "cell_type": "code",
      "execution_count": null,
      "metadata": {
        "colab": {
          "base_uri": "https://localhost:8080/",
          "height": 239
        },
        "id": "5XPdbFCwJ99n",
        "outputId": "2c5480a4-cedc-4f15-c43a-877f538c42af"
      },
      "outputs": [
        {
          "data": {
            "image/png": "[encoded data removed]",
            "text/plain": [
              "<Figure size 1200x400 with 2 Axes>"
            ]
          },
          "metadata": {},
          "output_type": "display_data"
        }
      ],
      "source": [
        "import matplotlib.pyplot as plt\n",
        "\n",
        "# inc_history is the history object returned by model.fit()\n",
        "history = inc_history.history\n",
        "\n",
        "# Plotting training & validation accuracy values\n",
        "plt.figure(figsize=(12, 4))\n",
        "plt.subplot(1, 2, 1)\n",
        "plt.plot(history['accuracy'], label='Training Accuracy')\n",
        "plt.plot(history['val_accuracy'], label='Validation Accuracy')\n",
        "plt.title('Model Accuracy')\n",
        "plt.xlabel('Epoch')\n",
        "plt.ylabel('Accuracy')\n",
        "plt.legend(loc='upper left')\n",
        "\n",
        "# Plotting training & validation loss values\n",
        "plt.subplot(1, 2, 2)\n",
        "plt.plot(history['loss'], label='Training Loss')\n",
        "plt.plot(history['val_loss'], label='Validation Loss')\n",
        "plt.title('Model Loss')\n",
        "plt.xlabel('Epoch')\n",
        "plt.ylabel('Loss')\n",
        "plt.legend(loc='upper left')\n",
        "\n",
        "plt.tight_layout()\n",
        "plt.show()\n"
      ]
    },
    {
      "cell_type": "code",
      "execution_count": null,
      "metadata": {
        "colab": {
          "base_uri": "https://localhost:8080/"
        },
        "id": "_upL30GNKHem",
        "outputId": "406245d1-6992-4e90-9baa-98307c5efc75"
      },
      "outputs": [
        {
          "name": "stdout",
          "output_type": "stream",
          "text": [
            "1/1 [==============================] - 1s 1s/step\n",
            "[[7.3474941e-05 5.0013656e-05 8.1835771e-03 3.4150584e-05 4.6461755e-05\n",
            "  3.2941072e-05 9.9157941e-01]]\n"
          ]
        }
      ],
      "source": [
        "import tensorflow as tf\n",
        "from tensorflow.keras.preprocessing.image import load_img, img_to_array\n",
        "\n",
        "# Loading and preprocess the image\n",
        "image_path = '/content/dataset/test/surprise/PrivateTest_10072988.jpg'\n",
        "image = load_img(image_path, target_size=(224, 224))  # Resize the image to match model's input size\n",
        "image_array = img_to_array(image)  # Convert the image to a numpy array\n",
        "image_array = image_array / 255.0  # Rescale the image\n",
        "\n",
        "# adding an extra dimension to include batch size\n",
        "image_array = tf.expand_dims(image_array, axis=0)\n",
        "\n",
        "# image_array as input to model for prediction\n",
        "predictions = model_inc.predict(image_array)\n",
        "print(predictions)"
      ]
    },
    {
      "cell_type": "code",
      "execution_count": null,
      "metadata": {
        "colab": {
          "base_uri": "https://localhost:8080/"
        },
        "id": "_vWkLuN1KPwX",
        "outputId": "6fa314ce-80a8-4585-ae27-ff80096499a4"
      },
      "outputs": [
        {
          "name": "stdout",
          "output_type": "stream",
          "text": [
            "The predicted class is: surprise\n"
          ]
        }
      ],
      "source": [
        "import numpy as np\n",
        "\n",
        "predictions = np.array(predictions)\n",
        "# Get the index of the highest value\n",
        "predicted_class_index = np.argmax(predictions)\n",
        "# Mappinng the index to the class name\n",
        "class_names = ['Angry', 'disgust', 'fear', 'happy', 'neutral', 'sad', 'surprise']\n",
        "predicted_class = class_names[predicted_class_index]\n",
        "\n",
        "print(f\"The predicted class is: {predicted_class}\")"
      ]
    },
    {
      "cell_type": "code",
      "execution_count": null,
      "metadata": {
        "colab": {
          "base_uri": "https://localhost:8080/"
        },
        "id": "pX2W-3MMKc_Z",
        "outputId": "049e79fb-9614-435d-c9a0-fa305a84d1fe"
      },
      "outputs": [
        {
          "name": "stderr",
          "output_type": "stream",
          "text": [
            "/usr/local/lib/python3.10/dist-packages/keras/src/engine/training.py:3103: UserWarning: You are saving your model as an HDF5 file via `model.save()`. This file format is considered legacy. We recommend using instead the native Keras format, e.g. `model.save('my_model.keras')`.\n",
            "  saving_api.save_model(\n"
          ]
        }
      ],
      "source": [
        "#save  the Inception model\n",
        "model_inc.save('inception_model.h5')"
      ]
    },
    {
      "cell_type": "code",
      "execution_count": null,
      "metadata": {
        "colab": {
          "base_uri": "https://localhost:8080/",
          "height": 34
        },
        "id": "PJyhfqWuKpe6",
        "outputId": "dc8dc2a0-f720-4a9d-9f74-e3ccf1e1c440"
      },
      "outputs": [
        {
          "data": {
            "application/javascript": "\n    async function download(id, filename, size) {\n      if (!google.colab.kernel.accessAllowed) {\n        return;\n      }\n      const div = document.createElement('div');\n      const label = document.createElement('label');\n      label.textContent = `Downloading \"${filename}\": `;\n      div.appendChild(label);\n      const progress = document.createElement('progress');\n      progress.max = size;\n      div.appendChild(progress);\n      document.body.appendChild(div);\n\n      const buffers = [];\n      let downloaded = 0;\n\n      const channel = await google.colab.kernel.comms.open(id);\n      // Send a message to notify the kernel that we're ready.\n      channel.send({})\n\n      for await (const message of channel.messages) {\n        // Send a message to notify the kernel that we're ready.\n        channel.send({})\n        if (message.buffers) {\n          for (const buffer of message.buffers) {\n            buffers.push(buffer);\n            downloaded += buffer.byteLength;\n            progress.value = downloaded;\n          }\n        }\n      }\n      const blob = new Blob(buffers, {type: 'application/binary'});\n      const a = document.createElement('a');\n      a.href = window.URL.createObjectURL(blob);\n      a.download = filename;\n      div.appendChild(a);\n      a.click();\n      div.remove();\n    }\n  ",
            "text/plain": [
              "<IPython.core.display.Javascript object>"
            ]
          },
          "metadata": {},
          "output_type": "display_data"
        },
        {
          "data": {
            "application/javascript": "download(\"download_d154048e-738d-4ee0-a163-fb8fa0424af2\", \"inception_model.h5\", 118878176)",
            "text/plain": [
              "<IPython.core.display.Javascript object>"
            ]
          },
          "metadata": {},
          "output_type": "display_data"
        }
      ],
      "source": [
        "#download the\n",
        "from google.colab import files\n",
        "files.download('inception_model.h5')"
      ]
    },
    {
      "cell_type": "code",
      "execution_count": null,
      "metadata": {
        "colab": {
          "base_uri": "https://localhost:8080/"
        },
        "id": "iQ-kGfRX6hyC",
        "outputId": "a851b2f1-e05a-4b42-9015-a0ee00b5e36a"
      },
      "outputs": [
        {
          "name": "stdout",
          "output_type": "stream",
          "text": [
            "Found 22968 images belonging to 7 classes.\n",
            "Found 5741 images belonging to 7 classes.\n"
          ]
        }
      ],
      "source": [
        "from tensorflow.keras.preprocessing.image import ImageDataGenerator\n",
        "\n",
        "train_datagen = ImageDataGenerator(\n",
        "    rescale=1./255,\n",
        "    horizontal_flip=True,\n",
        "    zoom_range=0.2,\n",
        "    validation_split=0.2,\n",
        "    fill_mode='nearest'\n",
        ")\n",
        "\n",
        "train_generator = train_datagen.flow_from_directory(\n",
        "    train_path,\n",
        "    target_size=(224, 224),\n",
        "    subset='training',\n",
        "    batch_size=16,\n",
        "    shuffle=True,\n",
        "    class_mode='categorical'\n",
        ")\n",
        "\n",
        "validation_generator = train_datagen.flow_from_directory(\n",
        "    train_path,\n",
        "    target_size=(224, 224),\n",
        "    subset='validation',\n",
        "    batch_size=16,\n",
        "    shuffle=True,\n",
        "    class_mode='categorical'\n",
        ")"
      ]
    },
    {
      "cell_type": "code",
      "execution_count": null,
      "metadata": {
        "colab": {
          "base_uri": "https://localhost:8080/"
        },
        "id": "e3lCmFL6nPgV",
        "outputId": "b5f5e3db-e4e3-4277-fd7b-604850e33f84"
      },
      "outputs": [
        {
          "name": "stdout",
          "output_type": "stream",
          "text": [
            "Found 25841 images belonging to 7 classes.\n",
            "Found 2868 images belonging to 7 classes.\n"
          ]
        }
      ],
      "source": [
        "from tensorflow.keras.preprocessing.image import ImageDataGenerator\n",
        "\n",
        "# Data augmentation and rescaling\n",
        "train_datagen = ImageDataGenerator(\n",
        "    rescale=1./255,\n",
        "    shear_range=0.1,\n",
        "    zoom_range=0.1,\n",
        "    horizontal_flip=True,\n",
        "    fill_mode='nearest',\n",
        "    validation_split=0.1,\n",
        "    rotation_range=10,\n",
        "    width_shift_range=0.1,\n",
        "    height_shift_range=0.1,\n",
        "     brightness_range=[0.8, 1.2]\n",
        ")\n",
        "\n",
        "# Load images from directories\n",
        "train_generator = train_datagen.flow_from_directory(\n",
        "    train_path,\n",
        "    target_size=(224, 224),\n",
        "    subset='training',\n",
        "    batch_size=64,\n",
        "    shuffle=True,\n",
        "    class_mode='categorical'\n",
        ")\n",
        "\n",
        "validation_generator = train_datagen.flow_from_directory(\n",
        "    train_path,\n",
        "    target_size=(224, 224),\n",
        "    subset='validation',\n",
        "    batch_size=64,\n",
        "    shuffle=True,\n",
        "    class_mode='categorical'\n",
        ")"
      ]
    },
    {
      "cell_type": "code",
      "execution_count": null,
      "metadata": {
        "colab": {
          "base_uri": "https://localhost:8080/",
          "height": 373
        },
        "id": "cB2Megk36hi9",
        "outputId": "ee23af5c-cae6-47a7-f1a9-e464b8704e07"
      },
      "outputs": [
        {
          "name": "stdout",
          "output_type": "stream",
          "text": [
            "Epoch 1/100\n",
            "  9/404 [..............................] - ETA: 21:50 - loss: 2.1213 - accuracy: 0.2361"
          ]
        },
        {
          "ename": "KeyboardInterrupt",
          "evalue": "",
          "output_type": "error",
          "traceback": [
            "\u001b[0;31m---------------------------------------------------------------------------\u001b[0m",
            "\u001b[0;31mKeyboardInterrupt\u001b[0m                         Traceback (most recent call last)",
            "\u001b[0;32m<ipython-input-33-96ec959569e4>\u001b[0m in \u001b[0;36m<cell line: 38>\u001b[0;34m()\u001b[0m\n\u001b[1;32m     36\u001b[0m \u001b[0;34m\u001b[0m\u001b[0m\n\u001b[1;32m     37\u001b[0m \u001b[0memotion_cnn\u001b[0m \u001b[0;34m=\u001b[0m \u001b[0mEmotionCNN\u001b[0m\u001b[0;34m(\u001b[0m\u001b[0;34m)\u001b[0m\u001b[0;34m\u001b[0m\u001b[0;34m\u001b[0m\u001b[0m\n\u001b[0;32m---> 38\u001b[0;31m \u001b[0mhist\u001b[0m\u001b[0;34m=\u001b[0m\u001b[0memotion_cnn\u001b[0m\u001b[0;34m.\u001b[0m\u001b[0mtrain\u001b[0m\u001b[0;34m(\u001b[0m\u001b[0mtrain_generator\u001b[0m\u001b[0;34m,\u001b[0m \u001b[0mvalidation_generator\u001b[0m\u001b[0;34m)\u001b[0m\u001b[0;34m\u001b[0m\u001b[0;34m\u001b[0m\u001b[0m\n\u001b[0m",
            "\u001b[0;32m<ipython-input-33-96ec959569e4>\u001b[0m in \u001b[0;36mtrain\u001b[0;34m(self, train_generator, validation_generator, epochs)\u001b[0m\n\u001b[1;32m     32\u001b[0m         \u001b[0mearly_stopping\u001b[0m \u001b[0;34m=\u001b[0m \u001b[0mtf\u001b[0m\u001b[0;34m.\u001b[0m\u001b[0mkeras\u001b[0m\u001b[0;34m.\u001b[0m\u001b[0mcallbacks\u001b[0m\u001b[0;34m.\u001b[0m\u001b[0mEarlyStopping\u001b[0m\u001b[0;34m(\u001b[0m\u001b[0mmonitor\u001b[0m\u001b[0;34m=\u001b[0m\u001b[0;34m'val_loss'\u001b[0m\u001b[0;34m,\u001b[0m \u001b[0mpatience\u001b[0m\u001b[0;34m=\u001b[0m\u001b[0;36m15\u001b[0m\u001b[0;34m,\u001b[0m \u001b[0mrestore_best_weights\u001b[0m\u001b[0;34m=\u001b[0m\u001b[0;32mTrue\u001b[0m\u001b[0;34m,\u001b[0m\u001b[0mstart_from_epoch\u001b[0m\u001b[0;34m=\u001b[0m\u001b[0;36m40\u001b[0m\u001b[0;34m)\u001b[0m\u001b[0;34m\u001b[0m\u001b[0;34m\u001b[0m\u001b[0m\n\u001b[1;32m     33\u001b[0m         \u001b[0mreduce_lr\u001b[0m \u001b[0;34m=\u001b[0m \u001b[0mtf\u001b[0m\u001b[0;34m.\u001b[0m\u001b[0mkeras\u001b[0m\u001b[0;34m.\u001b[0m\u001b[0mcallbacks\u001b[0m\u001b[0;34m.\u001b[0m\u001b[0mReduceLROnPlateau\u001b[0m\u001b[0;34m(\u001b[0m\u001b[0mmonitor\u001b[0m\u001b[0;34m=\u001b[0m\u001b[0;34m'val_loss'\u001b[0m\u001b[0;34m,\u001b[0m \u001b[0mfactor\u001b[0m\u001b[0;34m=\u001b[0m\u001b[0;36m0.2\u001b[0m\u001b[0;34m,\u001b[0m \u001b[0mpatience\u001b[0m\u001b[0;34m=\u001b[0m\u001b[0;36m5\u001b[0m\u001b[0;34m,\u001b[0m \u001b[0mmin_lr\u001b[0m\u001b[0;34m=\u001b[0m\u001b[0;36m0.0001\u001b[0m\u001b[0;34m)\u001b[0m\u001b[0;34m\u001b[0m\u001b[0;34m\u001b[0m\u001b[0m\n\u001b[0;32m---> 34\u001b[0;31m         \u001b[0mhist_1\u001b[0m\u001b[0;34m=\u001b[0m\u001b[0mself\u001b[0m\u001b[0;34m.\u001b[0m\u001b[0mmodel\u001b[0m\u001b[0;34m.\u001b[0m\u001b[0mfit\u001b[0m\u001b[0;34m(\u001b[0m\u001b[0mtrain_generator\u001b[0m\u001b[0;34m,\u001b[0m \u001b[0mvalidation_data\u001b[0m\u001b[0;34m=\u001b[0m\u001b[0mvalidation_generator\u001b[0m\u001b[0;34m,\u001b[0m \u001b[0mepochs\u001b[0m\u001b[0;34m=\u001b[0m\u001b[0mepochs\u001b[0m\u001b[0;34m,\u001b[0m\u001b[0mcallbacks\u001b[0m\u001b[0;34m=\u001b[0m\u001b[0;34m[\u001b[0m\u001b[0mearly_stopping\u001b[0m\u001b[0;34m,\u001b[0m\u001b[0mreduce_lr\u001b[0m\u001b[0;34m]\u001b[0m\u001b[0;34m)\u001b[0m\u001b[0;34m\u001b[0m\u001b[0;34m\u001b[0m\u001b[0m\n\u001b[0m\u001b[1;32m     35\u001b[0m         \u001b[0;32mreturn\u001b[0m \u001b[0mhist_1\u001b[0m\u001b[0;34m\u001b[0m\u001b[0;34m\u001b[0m\u001b[0m\n\u001b[1;32m     36\u001b[0m \u001b[0;34m\u001b[0m\u001b[0m\n",
            "\u001b[0;32m/usr/local/lib/python3.10/dist-packages/keras/src/utils/traceback_utils.py\u001b[0m in \u001b[0;36merror_handler\u001b[0;34m(*args, **kwargs)\u001b[0m\n\u001b[1;32m     63\u001b[0m         \u001b[0mfiltered_tb\u001b[0m \u001b[0;34m=\u001b[0m \u001b[0;32mNone\u001b[0m\u001b[0;34m\u001b[0m\u001b[0;34m\u001b[0m\u001b[0m\n\u001b[1;32m     64\u001b[0m         \u001b[0;32mtry\u001b[0m\u001b[0;34m:\u001b[0m\u001b[0;34m\u001b[0m\u001b[0;34m\u001b[0m\u001b[0m\n\u001b[0;32m---> 65\u001b[0;31m             \u001b[0;32mreturn\u001b[0m \u001b[0mfn\u001b[0m\u001b[0;34m(\u001b[0m\u001b[0;34m*\u001b[0m\u001b[0margs\u001b[0m\u001b[0;34m,\u001b[0m \u001b[0;34m**\u001b[0m\u001b[0mkwargs\u001b[0m\u001b[0;34m)\u001b[0m\u001b[0;34m\u001b[0m\u001b[0;34m\u001b[0m\u001b[0m\n\u001b[0m\u001b[1;32m     66\u001b[0m         \u001b[0;32mexcept\u001b[0m \u001b[0mException\u001b[0m \u001b[0;32mas\u001b[0m \u001b[0me\u001b[0m\u001b[0;34m:\u001b[0m\u001b[0;34m\u001b[0m\u001b[0;34m\u001b[0m\u001b[0m\n\u001b[1;32m     67\u001b[0m             \u001b[0mfiltered_tb\u001b[0m \u001b[0;34m=\u001b[0m \u001b[0m_process_traceback_frames\u001b[0m\u001b[0;34m(\u001b[0m\u001b[0me\u001b[0m\u001b[0;34m.\u001b[0m\u001b[0m__traceback__\u001b[0m\u001b[0;34m)\u001b[0m\u001b[0;34m\u001b[0m\u001b[0;34m\u001b[0m\u001b[0m\n",
            "\u001b[0;32m/usr/local/lib/python3.10/dist-packages/keras/src/engine/training.py\u001b[0m in \u001b[0;36mfit\u001b[0;34m(self, x, y, batch_size, epochs, verbose, callbacks, validation_split, validation_data, shuffle, class_weight, sample_weight, initial_epoch, steps_per_epoch, validation_steps, validation_batch_size, validation_freq, max_queue_size, workers, use_multiprocessing)\u001b[0m\n\u001b[1;32m   1805\u001b[0m                         ):\n\u001b[1;32m   1806\u001b[0m                             \u001b[0mcallbacks\u001b[0m\u001b[0;34m.\u001b[0m\u001b[0mon_train_batch_begin\u001b[0m\u001b[0;34m(\u001b[0m\u001b[0mstep\u001b[0m\u001b[0;34m)\u001b[0m\u001b[0;34m\u001b[0m\u001b[0;34m\u001b[0m\u001b[0m\n\u001b[0;32m-> 1807\u001b[0;31m                             \u001b[0mtmp_logs\u001b[0m \u001b[0;34m=\u001b[0m \u001b[0mself\u001b[0m\u001b[0;34m.\u001b[0m\u001b[0mtrain_function\u001b[0m\u001b[0;34m(\u001b[0m\u001b[0miterator\u001b[0m\u001b[0;34m)\u001b[0m\u001b[0;34m\u001b[0m\u001b[0;34m\u001b[0m\u001b[0m\n\u001b[0m\u001b[1;32m   1808\u001b[0m                             \u001b[0;32mif\u001b[0m \u001b[0mdata_handler\u001b[0m\u001b[0;34m.\u001b[0m\u001b[0mshould_sync\u001b[0m\u001b[0;34m:\u001b[0m\u001b[0;34m\u001b[0m\u001b[0;34m\u001b[0m\u001b[0m\n\u001b[1;32m   1809\u001b[0m                                 \u001b[0mcontext\u001b[0m\u001b[0;34m.\u001b[0m\u001b[0masync_wait\u001b[0m\u001b[0;34m(\u001b[0m\u001b[0;34m)\u001b[0m\u001b[0;34m\u001b[0m\u001b[0;34m\u001b[0m\u001b[0m\n",
            "\u001b[0;32m/usr/local/lib/python3.10/dist-packages/tensorflow/python/util/traceback_utils.py\u001b[0m in \u001b[0;36merror_handler\u001b[0;34m(*args, **kwargs)\u001b[0m\n\u001b[1;32m    148\u001b[0m     \u001b[0mfiltered_tb\u001b[0m \u001b[0;34m=\u001b[0m \u001b[0;32mNone\u001b[0m\u001b[0;34m\u001b[0m\u001b[0;34m\u001b[0m\u001b[0m\n\u001b[1;32m    149\u001b[0m     \u001b[0;32mtry\u001b[0m\u001b[0;34m:\u001b[0m\u001b[0;34m\u001b[0m\u001b[0;34m\u001b[0m\u001b[0m\n\u001b[0;32m--> 150\u001b[0;31m       \u001b[0;32mreturn\u001b[0m \u001b[0mfn\u001b[0m\u001b[0;34m(\u001b[0m\u001b[0;34m*\u001b[0m\u001b[0margs\u001b[0m\u001b[0;34m,\u001b[0m \u001b[0;34m**\u001b[0m\u001b[0mkwargs\u001b[0m\u001b[0;34m)\u001b[0m\u001b[0;34m\u001b[0m\u001b[0;34m\u001b[0m\u001b[0m\n\u001b[0m\u001b[1;32m    151\u001b[0m     \u001b[0;32mexcept\u001b[0m \u001b[0mException\u001b[0m \u001b[0;32mas\u001b[0m \u001b[0me\u001b[0m\u001b[0;34m:\u001b[0m\u001b[0;34m\u001b[0m\u001b[0;34m\u001b[0m\u001b[0m\n\u001b[1;32m    152\u001b[0m       \u001b[0mfiltered_tb\u001b[0m \u001b[0;34m=\u001b[0m \u001b[0m_process_traceback_frames\u001b[0m\u001b[0;34m(\u001b[0m\u001b[0me\u001b[0m\u001b[0;34m.\u001b[0m\u001b[0m__traceback__\u001b[0m\u001b[0;34m)\u001b[0m\u001b[0;34m\u001b[0m\u001b[0;34m\u001b[0m\u001b[0m\n",
            "\u001b[0;32m/usr/local/lib/python3.10/dist-packages/tensorflow/python/eager/polymorphic_function/polymorphic_function.py\u001b[0m in \u001b[0;36m__call__\u001b[0;34m(self, *args, **kwds)\u001b[0m\n\u001b[1;32m    830\u001b[0m \u001b[0;34m\u001b[0m\u001b[0m\n\u001b[1;32m    831\u001b[0m       \u001b[0;32mwith\u001b[0m \u001b[0mOptionalXlaContext\u001b[0m\u001b[0;34m(\u001b[0m\u001b[0mself\u001b[0m\u001b[0;34m.\u001b[0m\u001b[0m_jit_compile\u001b[0m\u001b[0;34m)\u001b[0m\u001b[0;34m:\u001b[0m\u001b[0;34m\u001b[0m\u001b[0;34m\u001b[0m\u001b[0m\n\u001b[0;32m--> 832\u001b[0;31m         \u001b[0mresult\u001b[0m \u001b[0;34m=\u001b[0m \u001b[0mself\u001b[0m\u001b[0;34m.\u001b[0m\u001b[0m_call\u001b[0m\u001b[0;34m(\u001b[0m\u001b[0;34m*\u001b[0m\u001b[0margs\u001b[0m\u001b[0;34m,\u001b[0m \u001b[0;34m**\u001b[0m\u001b[0mkwds\u001b[0m\u001b[0;34m)\u001b[0m\u001b[0;34m\u001b[0m\u001b[0;34m\u001b[0m\u001b[0m\n\u001b[0m\u001b[1;32m    833\u001b[0m \u001b[0;34m\u001b[0m\u001b[0m\n\u001b[1;32m    834\u001b[0m       \u001b[0mnew_tracing_count\u001b[0m \u001b[0;34m=\u001b[0m \u001b[0mself\u001b[0m\u001b[0;34m.\u001b[0m\u001b[0mexperimental_get_tracing_count\u001b[0m\u001b[0;34m(\u001b[0m\u001b[0;34m)\u001b[0m\u001b[0;34m\u001b[0m\u001b[0;34m\u001b[0m\u001b[0m\n",
            "\u001b[0;32m/usr/local/lib/python3.10/dist-packages/tensorflow/python/eager/polymorphic_function/polymorphic_function.py\u001b[0m in \u001b[0;36m_call\u001b[0;34m(self, *args, **kwds)\u001b[0m\n\u001b[1;32m    866\u001b[0m       \u001b[0;31m# In this case we have created variables on the first call, so we run the\u001b[0m\u001b[0;34m\u001b[0m\u001b[0;34m\u001b[0m\u001b[0m\n\u001b[1;32m    867\u001b[0m       \u001b[0;31m# defunned version which is guaranteed to never create variables.\u001b[0m\u001b[0;34m\u001b[0m\u001b[0;34m\u001b[0m\u001b[0m\n\u001b[0;32m--> 868\u001b[0;31m       return tracing_compilation.call_function(\n\u001b[0m\u001b[1;32m    869\u001b[0m           \u001b[0margs\u001b[0m\u001b[0;34m,\u001b[0m \u001b[0mkwds\u001b[0m\u001b[0;34m,\u001b[0m \u001b[0mself\u001b[0m\u001b[0;34m.\u001b[0m\u001b[0m_no_variable_creation_config\u001b[0m\u001b[0;34m\u001b[0m\u001b[0;34m\u001b[0m\u001b[0m\n\u001b[1;32m    870\u001b[0m       )\n",
            "\u001b[0;32m/usr/local/lib/python3.10/dist-packages/tensorflow/python/eager/polymorphic_function/tracing_compilation.py\u001b[0m in \u001b[0;36mcall_function\u001b[0;34m(args, kwargs, tracing_options)\u001b[0m\n\u001b[1;32m    137\u001b[0m   \u001b[0mbound_args\u001b[0m \u001b[0;34m=\u001b[0m \u001b[0mfunction\u001b[0m\u001b[0;34m.\u001b[0m\u001b[0mfunction_type\u001b[0m\u001b[0;34m.\u001b[0m\u001b[0mbind\u001b[0m\u001b[0;34m(\u001b[0m\u001b[0;34m*\u001b[0m\u001b[0margs\u001b[0m\u001b[0;34m,\u001b[0m \u001b[0;34m**\u001b[0m\u001b[0mkwargs\u001b[0m\u001b[0;34m)\u001b[0m\u001b[0;34m\u001b[0m\u001b[0;34m\u001b[0m\u001b[0m\n\u001b[1;32m    138\u001b[0m   \u001b[0mflat_inputs\u001b[0m \u001b[0;34m=\u001b[0m \u001b[0mfunction\u001b[0m\u001b[0;34m.\u001b[0m\u001b[0mfunction_type\u001b[0m\u001b[0;34m.\u001b[0m\u001b[0munpack_inputs\u001b[0m\u001b[0;34m(\u001b[0m\u001b[0mbound_args\u001b[0m\u001b[0;34m)\u001b[0m\u001b[0;34m\u001b[0m\u001b[0;34m\u001b[0m\u001b[0m\n\u001b[0;32m--> 139\u001b[0;31m   return function._call_flat(  # pylint: disable=protected-access\n\u001b[0m\u001b[1;32m    140\u001b[0m       \u001b[0mflat_inputs\u001b[0m\u001b[0;34m,\u001b[0m \u001b[0mcaptured_inputs\u001b[0m\u001b[0;34m=\u001b[0m\u001b[0mfunction\u001b[0m\u001b[0;34m.\u001b[0m\u001b[0mcaptured_inputs\u001b[0m\u001b[0;34m\u001b[0m\u001b[0;34m\u001b[0m\u001b[0m\n\u001b[1;32m    141\u001b[0m   )\n",
            "\u001b[0;32m/usr/local/lib/python3.10/dist-packages/tensorflow/python/eager/polymorphic_function/concrete_function.py\u001b[0m in \u001b[0;36m_call_flat\u001b[0;34m(self, tensor_inputs, captured_inputs)\u001b[0m\n\u001b[1;32m   1321\u001b[0m         and executing_eagerly):\n\u001b[1;32m   1322\u001b[0m       \u001b[0;31m# No tape is watching; skip to running the function.\u001b[0m\u001b[0;34m\u001b[0m\u001b[0;34m\u001b[0m\u001b[0m\n\u001b[0;32m-> 1323\u001b[0;31m       \u001b[0;32mreturn\u001b[0m \u001b[0mself\u001b[0m\u001b[0;34m.\u001b[0m\u001b[0m_inference_function\u001b[0m\u001b[0;34m.\u001b[0m\u001b[0mcall_preflattened\u001b[0m\u001b[0;34m(\u001b[0m\u001b[0margs\u001b[0m\u001b[0;34m)\u001b[0m\u001b[0;34m\u001b[0m\u001b[0;34m\u001b[0m\u001b[0m\n\u001b[0m\u001b[1;32m   1324\u001b[0m     forward_backward = self._select_forward_and_backward_functions(\n\u001b[1;32m   1325\u001b[0m         \u001b[0margs\u001b[0m\u001b[0;34m,\u001b[0m\u001b[0;34m\u001b[0m\u001b[0;34m\u001b[0m\u001b[0m\n",
            "\u001b[0;32m/usr/local/lib/python3.10/dist-packages/tensorflow/python/eager/polymorphic_function/atomic_function.py\u001b[0m in \u001b[0;36mcall_preflattened\u001b[0;34m(self, args)\u001b[0m\n\u001b[1;32m    214\u001b[0m   \u001b[0;32mdef\u001b[0m \u001b[0mcall_preflattened\u001b[0m\u001b[0;34m(\u001b[0m\u001b[0mself\u001b[0m\u001b[0;34m,\u001b[0m \u001b[0margs\u001b[0m\u001b[0;34m:\u001b[0m \u001b[0mSequence\u001b[0m\u001b[0;34m[\u001b[0m\u001b[0mcore\u001b[0m\u001b[0;34m.\u001b[0m\u001b[0mTensor\u001b[0m\u001b[0;34m]\u001b[0m\u001b[0;34m)\u001b[0m \u001b[0;34m->\u001b[0m \u001b[0mAny\u001b[0m\u001b[0;34m:\u001b[0m\u001b[0;34m\u001b[0m\u001b[0;34m\u001b[0m\u001b[0m\n\u001b[1;32m    215\u001b[0m     \u001b[0;34m\"\"\"Calls with flattened tensor inputs and returns the structured output.\"\"\"\u001b[0m\u001b[0;34m\u001b[0m\u001b[0;34m\u001b[0m\u001b[0m\n\u001b[0;32m--> 216\u001b[0;31m     \u001b[0mflat_outputs\u001b[0m \u001b[0;34m=\u001b[0m \u001b[0mself\u001b[0m\u001b[0;34m.\u001b[0m\u001b[0mcall_flat\u001b[0m\u001b[0;34m(\u001b[0m\u001b[0;34m*\u001b[0m\u001b[0margs\u001b[0m\u001b[0;34m)\u001b[0m\u001b[0;34m\u001b[0m\u001b[0;34m\u001b[0m\u001b[0m\n\u001b[0m\u001b[1;32m    217\u001b[0m     \u001b[0;32mreturn\u001b[0m \u001b[0mself\u001b[0m\u001b[0;34m.\u001b[0m\u001b[0mfunction_type\u001b[0m\u001b[0;34m.\u001b[0m\u001b[0mpack_output\u001b[0m\u001b[0;34m(\u001b[0m\u001b[0mflat_outputs\u001b[0m\u001b[0;34m)\u001b[0m\u001b[0;34m\u001b[0m\u001b[0;34m\u001b[0m\u001b[0m\n\u001b[1;32m    218\u001b[0m \u001b[0;34m\u001b[0m\u001b[0m\n",
            "\u001b[0;32m/usr/local/lib/python3.10/dist-packages/tensorflow/python/eager/polymorphic_function/atomic_function.py\u001b[0m in \u001b[0;36mcall_flat\u001b[0;34m(self, *args)\u001b[0m\n\u001b[1;32m    249\u001b[0m         \u001b[0;32mwith\u001b[0m \u001b[0mrecord\u001b[0m\u001b[0;34m.\u001b[0m\u001b[0mstop_recording\u001b[0m\u001b[0;34m(\u001b[0m\u001b[0;34m)\u001b[0m\u001b[0;34m:\u001b[0m\u001b[0;34m\u001b[0m\u001b[0;34m\u001b[0m\u001b[0m\n\u001b[1;32m    250\u001b[0m           \u001b[0;32mif\u001b[0m \u001b[0mself\u001b[0m\u001b[0;34m.\u001b[0m\u001b[0m_bound_context\u001b[0m\u001b[0;34m.\u001b[0m\u001b[0mexecuting_eagerly\u001b[0m\u001b[0;34m(\u001b[0m\u001b[0;34m)\u001b[0m\u001b[0;34m:\u001b[0m\u001b[0;34m\u001b[0m\u001b[0;34m\u001b[0m\u001b[0m\n\u001b[0;32m--> 251\u001b[0;31m             outputs = self._bound_context.call_function(\n\u001b[0m\u001b[1;32m    252\u001b[0m                 \u001b[0mself\u001b[0m\u001b[0;34m.\u001b[0m\u001b[0mname\u001b[0m\u001b[0;34m,\u001b[0m\u001b[0;34m\u001b[0m\u001b[0;34m\u001b[0m\u001b[0m\n\u001b[1;32m    253\u001b[0m                 \u001b[0mlist\u001b[0m\u001b[0;34m(\u001b[0m\u001b[0margs\u001b[0m\u001b[0;34m)\u001b[0m\u001b[0;34m,\u001b[0m\u001b[0;34m\u001b[0m\u001b[0;34m\u001b[0m\u001b[0m\n",
            "\u001b[0;32m/usr/local/lib/python3.10/dist-packages/tensorflow/python/eager/context.py\u001b[0m in \u001b[0;36mcall_function\u001b[0;34m(self, name, tensor_inputs, num_outputs)\u001b[0m\n\u001b[1;32m   1484\u001b[0m     \u001b[0mcancellation_context\u001b[0m \u001b[0;34m=\u001b[0m \u001b[0mcancellation\u001b[0m\u001b[0;34m.\u001b[0m\u001b[0mcontext\u001b[0m\u001b[0;34m(\u001b[0m\u001b[0;34m)\u001b[0m\u001b[0;34m\u001b[0m\u001b[0;34m\u001b[0m\u001b[0m\n\u001b[1;32m   1485\u001b[0m     \u001b[0;32mif\u001b[0m \u001b[0mcancellation_context\u001b[0m \u001b[0;32mis\u001b[0m \u001b[0;32mNone\u001b[0m\u001b[0;34m:\u001b[0m\u001b[0;34m\u001b[0m\u001b[0;34m\u001b[0m\u001b[0m\n\u001b[0;32m-> 1486\u001b[0;31m       outputs = execute.execute(\n\u001b[0m\u001b[1;32m   1487\u001b[0m           \u001b[0mname\u001b[0m\u001b[0;34m.\u001b[0m\u001b[0mdecode\u001b[0m\u001b[0;34m(\u001b[0m\u001b[0;34m\"utf-8\"\u001b[0m\u001b[0;34m)\u001b[0m\u001b[0;34m,\u001b[0m\u001b[0;34m\u001b[0m\u001b[0;34m\u001b[0m\u001b[0m\n\u001b[1;32m   1488\u001b[0m           \u001b[0mnum_outputs\u001b[0m\u001b[0;34m=\u001b[0m\u001b[0mnum_outputs\u001b[0m\u001b[0;34m,\u001b[0m\u001b[0;34m\u001b[0m\u001b[0;34m\u001b[0m\u001b[0m\n",
            "\u001b[0;32m/usr/local/lib/python3.10/dist-packages/tensorflow/python/eager/execute.py\u001b[0m in \u001b[0;36mquick_execute\u001b[0;34m(op_name, num_outputs, inputs, attrs, ctx, name)\u001b[0m\n\u001b[1;32m     51\u001b[0m   \u001b[0;32mtry\u001b[0m\u001b[0;34m:\u001b[0m\u001b[0;34m\u001b[0m\u001b[0;34m\u001b[0m\u001b[0m\n\u001b[1;32m     52\u001b[0m     \u001b[0mctx\u001b[0m\u001b[0;34m.\u001b[0m\u001b[0mensure_initialized\u001b[0m\u001b[0;34m(\u001b[0m\u001b[0;34m)\u001b[0m\u001b[0;34m\u001b[0m\u001b[0;34m\u001b[0m\u001b[0m\n\u001b[0;32m---> 53\u001b[0;31m     tensors = pywrap_tfe.TFE_Py_Execute(ctx._handle, device_name, op_name,\n\u001b[0m\u001b[1;32m     54\u001b[0m                                         inputs, attrs, num_outputs)\n\u001b[1;32m     55\u001b[0m   \u001b[0;32mexcept\u001b[0m \u001b[0mcore\u001b[0m\u001b[0;34m.\u001b[0m\u001b[0m_NotOkStatusException\u001b[0m \u001b[0;32mas\u001b[0m \u001b[0me\u001b[0m\u001b[0;34m:\u001b[0m\u001b[0;34m\u001b[0m\u001b[0;34m\u001b[0m\u001b[0m\n",
            "\u001b[0;31mKeyboardInterrupt\u001b[0m: "
          ]
        }
      ],
      "source": [
        "#Custom model built for emotion detection\n",
        "import tensorflow as tf\n",
        "from tensorflow.keras.models import Sequential\n",
        "from tensorflow.keras.layers import Conv2D, MaxPooling2D, Flatten, Dense, Dropout\n",
        "from tensorflow.keras.preprocessing.image import ImageDataGenerator\n",
        "from tensorflow.keras.optimizers import Adam\n",
        "from tensorflow.keras.regularizers import l2\n",
        "\n",
        "class EmotionCNN:\n",
        "    def __init__(self):\n",
        "        super(EmotionCNN, self).__init__()\n",
        "        self.model = Sequential([\n",
        "            Conv2D(64, (3, 3), activation='relu', input_shape=(224, 224, 3)),\n",
        "            MaxPooling2D(pool_size=(2, 2)),\n",
        "            Conv2D(128, (3, 3), activation='relu'),\n",
        "            Conv2D(128, (3, 3), activation='relu'),\n",
        "            MaxPooling2D(pool_size=(2, 2)),\n",
        "            Conv2D(256, (3, 3), activation='relu'),\n",
        "            Conv2D(256, (3, 3), activation='relu'),\n",
        "            MaxPooling2D(pool_size=(2, 2)),\n",
        "            Flatten(),\n",
        "            Dense(512, activation='relu', kernel_regularizer=l2(0.0001)),\n",
        "            Dropout(0.5),\n",
        "            Dense(256, activation='relu', kernel_regularizer=l2(0.0001)),\n",
        "            Dropout(0.5),\n",
        "            Dense(128, activation='relu', kernel_regularizer=l2(0.0001)),\n",
        "            Dropout(0.5),\n",
        "            Dense(7, activation='softmax')\n",
        "        ])\n",
        "        self.model.compile(optimizer=Adam(learning_rate=0.0001), loss='categorical_crossentropy', metrics=['accuracy'])\n",
        "\n",
        "    def train(self, train_generator, validation_generator, epochs=100):\n",
        "        early_stopping = tf.keras.callbacks.EarlyStopping(monitor='val_loss', patience=15, restore_best_weights=True,start_from_epoch=40)\n",
        "        reduce_lr = tf.keras.callbacks.ReduceLROnPlateau(monitor='val_loss', factor=0.2, patience=5, min_lr=0.0001)\n",
        "        hist_1=self.model.fit(train_generator, validation_data=validation_generator, epochs=epochs,callbacks=[early_stopping,reduce_lr])\n",
        "        return hist_1\n",
        "\n",
        "emotion_cnn = EmotionCNN()\n",
        "hist=emotion_cnn.train(train_generator, validation_generator)"
      ]
    },
    {
      "cell_type": "code",
      "execution_count": null,
      "metadata": {
        "colab": {
          "base_uri": "https://localhost:8080/"
        },
        "id": "p_u2ZQzqzFLk",
        "outputId": "3adef426-e212-4905-e934-71e96d1365df"
      },
      "outputs": [
        {
          "name": "stdout",
          "output_type": "stream",
          "text": [
            "Found 22968 images belonging to 7 classes.\n",
            "Found 5741 images belonging to 7 classes.\n"
          ]
        }
      ],
      "source": [
        "from tensorflow.keras.preprocessing.image import ImageDataGenerator\n",
        "\n",
        "# Data augmentation and rescaling\n",
        "train_datagen = ImageDataGenerator(\n",
        "    rescale=1./255,\n",
        "    validation_split=0.2,\n",
        "    fill_mode= 'nearest'\n",
        ")\n",
        "\n",
        "# Load images from directories\n",
        "train_generator = train_datagen.flow_from_directory(\n",
        "    train_path,\n",
        "    target_size=(224, 224),\n",
        "    subset='training',\n",
        "    batch_size=64,\n",
        "    color_mode='grayscale',\n",
        "    class_mode='categorical'\n",
        ")\n",
        "\n",
        "validation_generator = train_datagen.flow_from_directory(\n",
        "    train_path,\n",
        "    target_size=(224, 224),\n",
        "    subset='validation',\n",
        "    batch_size=64,\n",
        "    color_mode='grayscale',\n",
        "    class_mode='categorical'\n",
        ")"
      ]
    },
    {
      "cell_type": "code",
      "execution_count": null,
      "metadata": {
        "colab": {
          "base_uri": "https://localhost:8080/"
        },
        "id": "-up0b5bAkYRJ",
        "outputId": "047eeb66-c2df-4dc6-b411-5e827aa705ba"
      },
      "outputs": [
        {
          "name": "stdout",
          "output_type": "stream",
          "text": [
            "Collecting tensorflow_addons\n",
            "  Downloading tensorflow_addons-0.23.0-cp310-cp310-manylinux_2_17_x86_64.manylinux2014_x86_64.whl.metadata (1.8 kB)\n",
            "Requirement already satisfied: packaging in /usr/local/lib/python3.10/dist-packages (from tensorflow_addons) (24.1)\n",
            "Collecting typeguard<3.0.0,>=2.7 (from tensorflow_addons)\n",
            "  Downloading typeguard-2.13.3-py3-none-any.whl.metadata (3.6 kB)\n",
            "Downloading tensorflow_addons-0.23.0-cp310-cp310-manylinux_2_17_x86_64.manylinux2014_x86_64.whl (611 kB)\n",
            "\u001b[2K   \u001b[90m━━━━━━━━━━━━━━━━━━━━━━━━━━━━━━━━━━━━━━━━\u001b[0m \u001b[32m611.8/611.8 kB\u001b[0m \u001b[31m8.3 MB/s\u001b[0m eta \u001b[36m0:00:00\u001b[0m\n",
            "\u001b[?25hDownloading typeguard-2.13.3-py3-none-any.whl (17 kB)\n",
            "Installing collected packages: typeguard, tensorflow_addons\n",
            "Successfully installed tensorflow_addons-0.23.0 typeguard-2.13.3\n"
          ]
        }
      ],
      "source": [
        "!pip install tensorflow_addons"
      ]
    },
    {
      "cell_type": "code",
      "execution_count": null,
      "metadata": {
        "id": "xUsbUcxPQK3k"
      },
      "outputs": [],
      "source": [
        "import tensorflow as tf\n",
        "from tensorflow.keras.models import Sequential\n",
        "from tensorflow.keras.layers import Conv2D, MaxPooling2D, Flatten, Dense, Dropout\n",
        "from tensorflow.keras.preprocessing.image import ImageDataGenerator\n",
        "from tensorflow.keras.optimizers import Adam\n",
        "from tensorflow.keras.regularizers import l2\n",
        "from tensorflow.keras.metrics import Precision, Recall\n",
        "import tensorflow_addons as tfa\n",
        "\n",
        "class EmotionCNN:\n",
        "    def __init__(self):\n",
        "        super(EmotionCNN, self).__init__()\n",
        "        self.model = Sequential([\n",
        "            Conv2D(32, (3, 3), activation='relu', input_shape=(224, 224, 1)),\n",
        "            Conv2D(64, (3, 3), activation='relu'),\n",
        "            MaxPooling2D(pool_size=(2, 2)),\n",
        "            Dropout(0.25),\n",
        "            Conv2D(128, (3, 3), activation='relu'),\n",
        "            MaxPooling2D(pool_size=(2, 2)),\n",
        "            Conv2D(128, (3, 3), activation='relu'),\n",
        "            MaxPooling2D(pool_size=(2, 2)),\n",
        "            Dropout(0.25),\n",
        "            Flatten(),\n",
        "            Dense(1024, activation='relu', kernel_regularizer=l2(0.0001)),\n",
        "            #Dense(512, activation='relu', kernel_regularizer=l2(0.0001)),\n",
        "            Dropout(0.5),\n",
        "            Dense(7, activation='softmax')\n",
        "        ])\n",
        "        self.model.compile(optimizer=Adam(learning_rate=0.0001), loss='categorical_crossentropy', metrics=['accuracy',Precision(),Recall(),tfa.metrics.F1Score(num_classes=7,average='macro')])\n",
        "\n",
        "    def train(self, train_generator, validation_generator, epochs=100):\n",
        "        early_stopping = tf.keras.callbacks.EarlyStopping(monitor='val_loss', patience=15, restore_best_weights=True,start_from_epoch=30)\n",
        "        reduce_lr = tf.keras.callbacks.ReduceLROnPlateau(monitor='val_loss', factor=0.2, patience=5, min_lr=0.0001)\n",
        "        hist_1=self.model.fit(train_generator, validation_data=validation_generator, epochs=epochs,callbacks=[early_stopping,reduce_lr])\n",
        "        return hist_1\n",
        "\n",
        "    def predict(self, img):\n",
        "        return self.model.predict(img)"
      ]
    },
    {
      "cell_type": "code",
      "execution_count": null,
      "metadata": {
        "id": "x906FDzhQ-8y"
      },
      "outputs": [],
      "source": [
        "emotion_cnn = EmotionCNN()"
      ]
    },
    {
      "cell_type": "code",
      "execution_count": null,
      "metadata": {
        "colab": {
          "base_uri": "https://localhost:8080/"
        },
        "id": "0TbIXHeLyL7Q",
        "outputId": "567904be-1a23-47a3-f4a8-123090246672"
      },
      "outputs": [
        {
          "name": "stdout",
          "output_type": "stream",
          "text": [
            "Epoch 1/100\n",
            "359/359 [==============================] - 995s 3s/step - loss: 1.8727 - accuracy: 0.2887 - precision_2: 0.5530 - recall_2: 0.0148 - f1_score: 0.1868 - val_loss: 1.7265 - val_accuracy: 0.3696 - val_precision_2: 0.7139 - val_recall_2: 0.0456 - val_f1_score: 0.2627 - lr: 1.0000e-04\n",
            "Epoch 2/100\n",
            "359/359 [==============================] - 1003s 3s/step - loss: 1.6556 - accuracy: 0.3886 - precision_2: 0.6869 - recall_2: 0.1098 - f1_score: 0.3018 - val_loss: 1.6155 - val_accuracy: 0.4071 - val_precision_2: 0.7594 - val_recall_2: 0.1165 - val_f1_score: 0.3108 - lr: 1.0000e-04\n",
            "Epoch 3/100\n",
            "359/359 [==============================] - 1006s 3s/step - loss: 1.5128 - accuracy: 0.4451 - precision_2: 0.7205 - recall_2: 0.1827 - f1_score: 0.3601 - val_loss: 1.5111 - val_accuracy: 0.4437 - val_precision_2: 0.7564 - val_recall_2: 0.1704 - val_f1_score: 0.3616 - lr: 1.0000e-04\n",
            "Epoch 4/100\n",
            "359/359 [==============================] - 1008s 3s/step - loss: 1.3879 - accuracy: 0.4997 - precision_2: 0.7319 - recall_2: 0.2585 - f1_score: 0.4156 - val_loss: 1.4516 - val_accuracy: 0.4750 - val_precision_2: 0.7786 - val_recall_2: 0.2108 - val_f1_score: 0.4027 - lr: 1.0000e-04\n",
            "Epoch 5/100\n",
            "359/359 [==============================] - 1009s 3s/step - loss: 1.2599 - accuracy: 0.5600 - precision_2: 0.7560 - recall_2: 0.3423 - f1_score: 0.4949 - val_loss: 1.4266 - val_accuracy: 0.4989 - val_precision_2: 0.7145 - val_recall_2: 0.2898 - val_f1_score: 0.4373 - lr: 1.0000e-04\n",
            "Epoch 6/100\n",
            "359/359 [==============================] - 1010s 3s/step - loss: 1.1155 - accuracy: 0.6237 - precision_2: 0.7785 - recall_2: 0.4469 - f1_score: 0.5873 - val_loss: 1.4619 - val_accuracy: 0.5076 - val_precision_2: 0.6609 - val_recall_2: 0.3527 - val_f1_score: 0.4603 - lr: 1.0000e-04\n",
            "Epoch 7/100\n",
            "359/359 [==============================] - 1009s 3s/step - loss: 0.9469 - accuracy: 0.7007 - precision_2: 0.8163 - recall_2: 0.5681 - f1_score: 0.6759 - val_loss: 1.5603 - val_accuracy: 0.5125 - val_precision_2: 0.6221 - val_recall_2: 0.4038 - val_f1_score: 0.4824 - lr: 1.0000e-04\n",
            "Epoch 8/100\n",
            "359/359 [==============================] - 1010s 3s/step - loss: 0.7676 - accuracy: 0.7763 - precision_2: 0.8545 - recall_2: 0.6881 - f1_score: 0.7642 - val_loss: 1.6224 - val_accuracy: 0.5173 - val_precision_2: 0.6142 - val_recall_2: 0.4262 - val_f1_score: 0.4968 - lr: 1.0000e-04\n",
            "Epoch 9/100\n",
            "359/359 [==============================] - 1012s 3s/step - loss: 0.6086 - accuracy: 0.8430 - precision_2: 0.8916 - recall_2: 0.7848 - f1_score: 0.8344 - val_loss: 1.7895 - val_accuracy: 0.5248 - val_precision_2: 0.5961 - val_recall_2: 0.4635 - val_f1_score: 0.5021 - lr: 1.0000e-04\n",
            "Epoch 10/100\n",
            "359/359 [==============================] - 1015s 3s/step - loss: 0.5027 - accuracy: 0.8875 - precision_2: 0.9188 - recall_2: 0.8514 - f1_score: 0.8800 - val_loss: 1.9437 - val_accuracy: 0.5236 - val_precision_2: 0.5763 - val_recall_2: 0.4745 - val_f1_score: 0.5177 - lr: 1.0000e-04\n",
            "Epoch 11/100\n",
            "359/359 [==============================] - 1017s 3s/step - loss: 0.4347 - accuracy: 0.9147 - precision_2: 0.9354 - recall_2: 0.8920 - f1_score: 0.9103 - val_loss: 1.9814 - val_accuracy: 0.5198 - val_precision_2: 0.5715 - val_recall_2: 0.4713 - val_f1_score: 0.5079 - lr: 1.0000e-04\n",
            "Epoch 12/100\n",
            "359/359 [==============================] - 1018s 3s/step - loss: 0.3934 - accuracy: 0.9336 - precision_2: 0.9458 - recall_2: 0.9172 - f1_score: 0.9321 - val_loss: 2.1038 - val_accuracy: 0.5192 - val_precision_2: 0.5620 - val_recall_2: 0.4781 - val_f1_score: 0.5116 - lr: 1.0000e-04\n",
            "Epoch 13/100\n",
            "359/359 [==============================] - 1016s 3s/step - loss: 0.3682 - accuracy: 0.9457 - precision_2: 0.9559 - recall_2: 0.9342 - f1_score: 0.9442 - val_loss: 2.3011 - val_accuracy: 0.5262 - val_precision_2: 0.5584 - val_recall_2: 0.4961 - val_f1_score: 0.5123 - lr: 1.0000e-04\n",
            "Epoch 14/100\n",
            "359/359 [==============================] - 1018s 3s/step - loss: 0.3518 - accuracy: 0.9527 - precision_2: 0.9605 - recall_2: 0.9444 - f1_score: 0.9497 - val_loss: 2.2468 - val_accuracy: 0.5260 - val_precision_2: 0.5666 - val_recall_2: 0.4922 - val_f1_score: 0.5180 - lr: 1.0000e-04\n",
            "Epoch 15/100\n",
            "359/359 [==============================] - 1016s 3s/step - loss: 0.3292 - accuracy: 0.9595 - precision_2: 0.9660 - recall_2: 0.9534 - f1_score: 0.9588 - val_loss: 2.4443 - val_accuracy: 0.5238 - val_precision_2: 0.5536 - val_recall_2: 0.4963 - val_f1_score: 0.5089 - lr: 1.0000e-04\n",
            "Epoch 16/100\n",
            "359/359 [==============================] - 1016s 3s/step - loss: 0.3207 - accuracy: 0.9646 - precision_2: 0.9698 - recall_2: 0.9589 - f1_score: 0.9631 - val_loss: 2.4542 - val_accuracy: 0.5245 - val_precision_2: 0.5517 - val_recall_2: 0.5004 - val_f1_score: 0.5137 - lr: 1.0000e-04\n",
            "Epoch 17/100\n",
            "359/359 [==============================] - 1027s 3s/step - loss: 0.3298 - accuracy: 0.9628 - precision_2: 0.9683 - recall_2: 0.9579 - f1_score: 0.9591 - val_loss: 2.4741 - val_accuracy: 0.5288 - val_precision_2: 0.5594 - val_recall_2: 0.5041 - val_f1_score: 0.5139 - lr: 1.0000e-04\n",
            "Epoch 18/100\n",
            "359/359 [==============================] - 1026s 3s/step - loss: 0.3176 - accuracy: 0.9685 - precision_2: 0.9722 - recall_2: 0.9639 - f1_score: 0.9675 - val_loss: 2.4380 - val_accuracy: 0.5287 - val_precision_2: 0.5621 - val_recall_2: 0.5027 - val_f1_score: 0.5191 - lr: 1.0000e-04\n",
            "Epoch 19/100\n",
            "359/359 [==============================] - 1024s 3s/step - loss: 0.3086 - accuracy: 0.9717 - precision_2: 0.9748 - recall_2: 0.9683 - f1_score: 0.9705 - val_loss: 2.6934 - val_accuracy: 0.5288 - val_precision_2: 0.5530 - val_recall_2: 0.5093 - val_f1_score: 0.5205 - lr: 1.0000e-04\n",
            "Epoch 20/100\n",
            "359/359 [==============================] - 1025s 3s/step - loss: 0.3069 - accuracy: 0.9726 - precision_2: 0.9759 - recall_2: 0.9700 - f1_score: 0.9708 - val_loss: 2.6245 - val_accuracy: 0.5189 - val_precision_2: 0.5466 - val_recall_2: 0.4947 - val_f1_score: 0.5124 - lr: 1.0000e-04\n",
            "Epoch 21/100\n",
            "359/359 [==============================] - 1025s 3s/step - loss: 0.3107 - accuracy: 0.9739 - precision_2: 0.9771 - recall_2: 0.9710 - f1_score: 0.9725 - val_loss: 2.6332 - val_accuracy: 0.5348 - val_precision_2: 0.5613 - val_recall_2: 0.5130 - val_f1_score: 0.5281 - lr: 1.0000e-04\n",
            "Epoch 22/100\n",
            "359/359 [==============================] - 1022s 3s/step - loss: 0.3034 - accuracy: 0.9770 - precision_2: 0.9796 - recall_2: 0.9744 - f1_score: 0.9751 - val_loss: 2.5229 - val_accuracy: 0.5309 - val_precision_2: 0.5597 - val_recall_2: 0.5060 - val_f1_score: 0.5246 - lr: 1.0000e-04\n",
            "Epoch 23/100\n",
            "359/359 [==============================] - 1021s 3s/step - loss: 0.2988 - accuracy: 0.9777 - precision_2: 0.9806 - recall_2: 0.9750 - f1_score: 0.9767 - val_loss: 2.7009 - val_accuracy: 0.5300 - val_precision_2: 0.5567 - val_recall_2: 0.5097 - val_f1_score: 0.5216 - lr: 1.0000e-04\n",
            "Epoch 24/100\n",
            "359/359 [==============================] - 1021s 3s/step - loss: 0.3021 - accuracy: 0.9772 - precision_2: 0.9796 - recall_2: 0.9747 - f1_score: 0.9759 - val_loss: 2.7132 - val_accuracy: 0.5320 - val_precision_2: 0.5541 - val_recall_2: 0.5079 - val_f1_score: 0.5159 - lr: 1.0000e-04\n",
            "Epoch 25/100\n",
            "359/359 [==============================] - 1019s 3s/step - loss: 0.2995 - accuracy: 0.9772 - precision_2: 0.9797 - recall_2: 0.9747 - f1_score: 0.9753 - val_loss: 2.6377 - val_accuracy: 0.5325 - val_precision_2: 0.5566 - val_recall_2: 0.5095 - val_f1_score: 0.5241 - lr: 1.0000e-04\n",
            "Epoch 26/100\n",
            "359/359 [==============================] - 1020s 3s/step - loss: 0.2957 - accuracy: 0.9804 - precision_2: 0.9825 - recall_2: 0.9784 - f1_score: 0.9802 - val_loss: 2.8086 - val_accuracy: 0.5250 - val_precision_2: 0.5421 - val_recall_2: 0.5034 - val_f1_score: 0.5211 - lr: 1.0000e-04\n",
            "Epoch 27/100\n",
            "359/359 [==============================] - 1020s 3s/step - loss: 0.3067 - accuracy: 0.9773 - precision_2: 0.9799 - recall_2: 0.9749 - f1_score: 0.9773 - val_loss: 2.7056 - val_accuracy: 0.5285 - val_precision_2: 0.5509 - val_recall_2: 0.5078 - val_f1_score: 0.5159 - lr: 1.0000e-04\n",
            "Epoch 28/100\n",
            "359/359 [==============================] - 1019s 3s/step - loss: 0.2993 - accuracy: 0.9793 - precision_2: 0.9813 - recall_2: 0.9777 - f1_score: 0.9791 - val_loss: 2.5398 - val_accuracy: 0.5259 - val_precision_2: 0.5515 - val_recall_2: 0.4992 - val_f1_score: 0.5206 - lr: 1.0000e-04\n",
            "Epoch 29/100\n",
            "359/359 [==============================] - 1019s 3s/step - loss: 0.2933 - accuracy: 0.9817 - precision_2: 0.9837 - recall_2: 0.9797 - f1_score: 0.9819 - val_loss: 2.6819 - val_accuracy: 0.5295 - val_precision_2: 0.5566 - val_recall_2: 0.5057 - val_f1_score: 0.5206 - lr: 1.0000e-04\n",
            "Epoch 30/100\n",
            "359/359 [==============================] - 1021s 3s/step - loss: 0.2957 - accuracy: 0.9817 - precision_2: 0.9836 - recall_2: 0.9798 - f1_score: 0.9816 - val_loss: 2.7865 - val_accuracy: 0.5285 - val_precision_2: 0.5511 - val_recall_2: 0.5095 - val_f1_score: 0.5148 - lr: 1.0000e-04\n",
            "Epoch 31/100\n",
            "359/359 [==============================] - 1019s 3s/step - loss: 0.2954 - accuracy: 0.9816 - precision_2: 0.9833 - recall_2: 0.9793 - f1_score: 0.9814 - val_loss: 2.6152 - val_accuracy: 0.5316 - val_precision_2: 0.5578 - val_recall_2: 0.5041 - val_f1_score: 0.5213 - lr: 1.0000e-04\n",
            "Epoch 32/100\n",
            "359/359 [==============================] - 1019s 3s/step - loss: 0.2915 - accuracy: 0.9821 - precision_2: 0.9839 - recall_2: 0.9805 - f1_score: 0.9824 - val_loss: 2.6408 - val_accuracy: 0.5253 - val_precision_2: 0.5471 - val_recall_2: 0.4994 - val_f1_score: 0.5147 - lr: 1.0000e-04\n",
            "Epoch 33/100\n",
            "359/359 [==============================] - 1017s 3s/step - loss: 0.2907 - accuracy: 0.9818 - precision_2: 0.9837 - recall_2: 0.9803 - f1_score: 0.9799 - val_loss: 2.6397 - val_accuracy: 0.5341 - val_precision_2: 0.5557 - val_recall_2: 0.5081 - val_f1_score: 0.5208 - lr: 1.0000e-04\n",
            "Epoch 34/100\n",
            "359/359 [==============================] - 1018s 3s/step - loss: 0.2861 - accuracy: 0.9846 - precision_2: 0.9859 - recall_2: 0.9832 - f1_score: 0.9850 - val_loss: 2.6135 - val_accuracy: 0.5318 - val_precision_2: 0.5572 - val_recall_2: 0.5074 - val_f1_score: 0.5261 - lr: 1.0000e-04\n",
            "Epoch 35/100\n",
            "359/359 [==============================] - 1018s 3s/step - loss: 0.2883 - accuracy: 0.9825 - precision_2: 0.9840 - recall_2: 0.9808 - f1_score: 0.9816 - val_loss: 2.7660 - val_accuracy: 0.5283 - val_precision_2: 0.5537 - val_recall_2: 0.5104 - val_f1_score: 0.5157 - lr: 1.0000e-04\n",
            "Epoch 36/100\n",
            "359/359 [==============================] - 1021s 3s/step - loss: 0.2843 - accuracy: 0.9841 - precision_2: 0.9858 - recall_2: 0.9821 - f1_score: 0.9825 - val_loss: 2.6781 - val_accuracy: 0.5248 - val_precision_2: 0.5487 - val_recall_2: 0.5071 - val_f1_score: 0.5141 - lr: 1.0000e-04\n",
            "Epoch 37/100\n",
            "359/359 [==============================] - 1018s 3s/step - loss: 0.2882 - accuracy: 0.9828 - precision_2: 0.9844 - recall_2: 0.9811 - f1_score: 0.9828 - val_loss: 2.7272 - val_accuracy: 0.5219 - val_precision_2: 0.5474 - val_recall_2: 0.5011 - val_f1_score: 0.5076 - lr: 1.0000e-04\n",
            "Epoch 38/100\n",
            "359/359 [==============================] - 1019s 3s/step - loss: 0.2870 - accuracy: 0.9829 - precision_2: 0.9848 - recall_2: 0.9814 - f1_score: 0.9819 - val_loss: 2.6511 - val_accuracy: 0.5313 - val_precision_2: 0.5558 - val_recall_2: 0.5078 - val_f1_score: 0.5189 - lr: 1.0000e-04\n",
            "Epoch 39/100\n",
            "359/359 [==============================] - 1015s 3s/step - loss: 0.2804 - accuracy: 0.9853 - precision_2: 0.9865 - recall_2: 0.9839 - f1_score: 0.9847 - val_loss: 2.7999 - val_accuracy: 0.5285 - val_precision_2: 0.5496 - val_recall_2: 0.5104 - val_f1_score: 0.5116 - lr: 1.0000e-04\n",
            "Epoch 40/100\n",
            "359/359 [==============================] - 1015s 3s/step - loss: 0.2829 - accuracy: 0.9842 - precision_2: 0.9855 - recall_2: 0.9825 - f1_score: 0.9846 - val_loss: 2.6372 - val_accuracy: 0.5295 - val_precision_2: 0.5514 - val_recall_2: 0.5039 - val_f1_score: 0.5196 - lr: 1.0000e-04\n",
            "Epoch 41/100\n",
            "359/359 [==============================] - 1018s 3s/step - loss: 0.2769 - accuracy: 0.9860 - precision_2: 0.9871 - recall_2: 0.9845 - f1_score: 0.9855 - val_loss: 2.5885 - val_accuracy: 0.5276 - val_precision_2: 0.5539 - val_recall_2: 0.5043 - val_f1_score: 0.5177 - lr: 1.0000e-04\n",
            "Epoch 42/100\n",
            "359/359 [==============================] - 1032s 3s/step - loss: 0.2836 - accuracy: 0.9837 - precision_2: 0.9850 - recall_2: 0.9821 - f1_score: 0.9834 - val_loss: 2.6923 - val_accuracy: 0.5222 - val_precision_2: 0.5468 - val_recall_2: 0.4996 - val_f1_score: 0.5127 - lr: 1.0000e-04\n",
            "Epoch 43/100\n",
            "359/359 [==============================] - 1030s 3s/step - loss: 0.2820 - accuracy: 0.9844 - precision_2: 0.9856 - recall_2: 0.9830 - f1_score: 0.9836 - val_loss: 2.7389 - val_accuracy: 0.5194 - val_precision_2: 0.5450 - val_recall_2: 0.4996 - val_f1_score: 0.5023 - lr: 1.0000e-04\n",
            "Epoch 44/100\n",
            "359/359 [==============================] - 1028s 3s/step - loss: 0.2798 - accuracy: 0.9851 - precision_2: 0.9867 - recall_2: 0.9837 - f1_score: 0.9836 - val_loss: 2.6933 - val_accuracy: 0.5248 - val_precision_2: 0.5495 - val_recall_2: 0.5067 - val_f1_score: 0.5103 - lr: 1.0000e-04\n",
            "Epoch 45/100\n",
            "359/359 [==============================] - 1027s 3s/step - loss: 0.2747 - accuracy: 0.9858 - precision_2: 0.9866 - recall_2: 0.9850 - f1_score: 0.9853 - val_loss: 2.7754 - val_accuracy: 0.5321 - val_precision_2: 0.5534 - val_recall_2: 0.5137 - val_f1_score: 0.5163 - lr: 1.0000e-04\n",
            "Epoch 46/100\n",
            "359/359 [==============================] - 1023s 3s/step - loss: 0.2774 - accuracy: 0.9841 - precision_2: 0.9855 - recall_2: 0.9830 - f1_score: 0.9825 - val_loss: 2.6997 - val_accuracy: 0.5287 - val_precision_2: 0.5509 - val_recall_2: 0.5067 - val_f1_score: 0.5172 - lr: 1.0000e-04\n",
            "Epoch 47/100\n",
            "359/359 [==============================] - 1024s 3s/step - loss: 0.2746 - accuracy: 0.9862 - precision_2: 0.9871 - recall_2: 0.9848 - f1_score: 0.9844 - val_loss: 2.6522 - val_accuracy: 0.5259 - val_precision_2: 0.5497 - val_recall_2: 0.5058 - val_f1_score: 0.5114 - lr: 1.0000e-04\n",
            "Epoch 48/100\n",
            "359/359 [==============================] - 1022s 3s/step - loss: 0.2738 - accuracy: 0.9863 - precision_2: 0.9878 - recall_2: 0.9846 - f1_score: 0.9859 - val_loss: 2.7335 - val_accuracy: 0.5348 - val_precision_2: 0.5572 - val_recall_2: 0.5156 - val_f1_score: 0.5212 - lr: 1.0000e-04\n",
            "Epoch 49/100\n",
            "359/359 [==============================] - 1022s 3s/step - loss: 0.2675 - accuracy: 0.9881 - precision_2: 0.9890 - recall_2: 0.9870 - f1_score: 0.9878 - val_loss: 2.6909 - val_accuracy: 0.5276 - val_precision_2: 0.5538 - val_recall_2: 0.5083 - val_f1_score: 0.5156 - lr: 1.0000e-04\n",
            "Epoch 50/100\n",
            "359/359 [==============================] - 1021s 3s/step - loss: 0.2682 - accuracy: 0.9868 - precision_2: 0.9881 - recall_2: 0.9856 - f1_score: 0.9858 - val_loss: 2.7446 - val_accuracy: 0.5321 - val_precision_2: 0.5537 - val_recall_2: 0.5130 - val_f1_score: 0.5192 - lr: 1.0000e-04\n",
            "Epoch 51/100\n",
            "359/359 [==============================] - 1017s 3s/step - loss: 0.2685 - accuracy: 0.9864 - precision_2: 0.9874 - recall_2: 0.9848 - f1_score: 0.9845 - val_loss: 2.7855 - val_accuracy: 0.5332 - val_precision_2: 0.5524 - val_recall_2: 0.5121 - val_f1_score: 0.5244 - lr: 1.0000e-04\n",
            "Epoch 52/100\n",
            "359/359 [==============================] - 1019s 3s/step - loss: 0.2636 - accuracy: 0.9871 - precision_2: 0.9884 - recall_2: 0.9860 - f1_score: 0.9868 - val_loss: 2.8797 - val_accuracy: 0.5328 - val_precision_2: 0.5506 - val_recall_2: 0.5161 - val_f1_score: 0.5237 - lr: 1.0000e-04\n",
            "Epoch 53/100\n",
            "359/359 [==============================] - 1021s 3s/step - loss: 0.2708 - accuracy: 0.9859 - precision_2: 0.9867 - recall_2: 0.9844 - f1_score: 0.9863 - val_loss: 2.6414 - val_accuracy: 0.5290 - val_precision_2: 0.5547 - val_recall_2: 0.5102 - val_f1_score: 0.5237 - lr: 1.0000e-04\n",
            "Epoch 54/100\n",
            "359/359 [==============================] - 1022s 3s/step - loss: 0.2619 - accuracy: 0.9884 - precision_2: 0.9890 - recall_2: 0.9877 - f1_score: 0.9883 - val_loss: 2.8712 - val_accuracy: 0.5260 - val_precision_2: 0.5438 - val_recall_2: 0.5093 - val_f1_score: 0.5109 - lr: 1.0000e-04\n",
            "Epoch 55/100\n",
            "359/359 [==============================] - 1023s 3s/step - loss: 0.2636 - accuracy: 0.9875 - precision_2: 0.9886 - recall_2: 0.9860 - f1_score: 0.9867 - val_loss: 2.7625 - val_accuracy: 0.5304 - val_precision_2: 0.5550 - val_recall_2: 0.5112 - val_f1_score: 0.5184 - lr: 1.0000e-04\n",
            "Epoch 56/100\n",
            "359/359 [==============================] - 1024s 3s/step - loss: 0.2618 - accuracy: 0.9879 - precision_2: 0.9890 - recall_2: 0.9869 - f1_score: 0.9880 - val_loss: 2.6575 - val_accuracy: 0.5294 - val_precision_2: 0.5546 - val_recall_2: 0.5121 - val_f1_score: 0.5221 - lr: 1.0000e-04\n"
          ]
        }
      ],
      "source": [
        "hist=emotion_cnn.train(train_generator, validation_generator)"
      ]
    },
    {
      "cell_type": "code",
      "execution_count": null,
      "metadata": {
        "id": "mO4L23m6Tsex"
      },
      "outputs": [],
      "source": [
        "histr=hist.history"
      ]
    },
    {
      "cell_type": "code",
      "execution_count": null,
      "metadata": {
        "colab": {
          "base_uri": "https://localhost:8080/"
        },
        "id": "Y-5ffcHiT0pq",
        "outputId": "e1de32ad-b5dd-4384-faed-c9de9264810b"
      },
      "outputs": [
        {
          "data": {
            "text/plain": [
              "dict_keys(['loss', 'accuracy', 'precision_2', 'recall_2', 'f1_score', 'val_loss', 'val_accuracy', 'val_precision_2', 'val_recall_2', 'val_f1_score', 'lr'])"
            ]
          },
          "execution_count": 53,
          "metadata": {},
          "output_type": "execute_result"
        }
      ],
      "source": [
        "histr.keys()"
      ]
    },
    {
      "cell_type": "code",
      "execution_count": null,
      "metadata": {
        "colab": {
          "base_uri": "https://localhost:8080/",
          "height": 446
        },
        "id": "O67-hQsDIDsz",
        "outputId": "596985df-3727-429a-e02e-6b3a246e26c5"
      },
      "outputs": [
        {
          "data": {
            "image/png": "[encoded data removed]",
            "text/plain": [
              "<Figure size 1200x400 with 2 Axes>"
            ]
          },
          "metadata": {},
          "output_type": "display_data"
        },
        {
          "data": {
            "image/png": "[encoded data removed]",
            "text/plain": [
              "<Figure size 1200x400 with 3 Axes>"
            ]
          },
          "metadata": {},
          "output_type": "display_data"
        }
      ],
      "source": [
        "import matplotlib.pyplot as plt\n",
        "\n",
        "# hist is the history object returned by model.fit() of emotion_cnn\n",
        "history = hist.history\n",
        "\n",
        "# Plotting training & validation accuracy values\n",
        "plt.figure(figsize=(12, 4))\n",
        "plt.subplot(1, 2, 1)\n",
        "plt.plot(history['accuracy'], label='Training Accuracy')\n",
        "plt.plot(history['val_accuracy'], label='Validation Accuracy')\n",
        "plt.title('Model Accuracy')\n",
        "plt.xlabel('Epoch')\n",
        "plt.ylabel('Accuracy')\n",
        "plt.legend(loc='upper left')\n",
        "\n",
        "# Plotting training & validation loss values\n",
        "plt.subplot(1, 2, 2)\n",
        "plt.plot(history['loss'], label='Training Loss')\n",
        "plt.plot(history['val_loss'], label='Validation Loss')\n",
        "plt.title('Model Loss')\n",
        "plt.xlabel('Epoch')\n",
        "plt.ylabel('Loss')\n",
        "plt.legend(loc='upper left')\n",
        "\n",
        "# Plotting training & validation Precision values\n",
        "plt.figure(figsize=(12, 4))\n",
        "plt.subplot(2, 3, 1)\n",
        "plt.plot(history['precision_2'], label='Training Precision')\n",
        "plt.plot(history['val_precision_2'], label='Validation Precision')\n",
        "plt.title('Model Precision')\n",
        "plt.xlabel('Epoch')\n",
        "plt.ylabel('Precision')\n",
        "plt.legend(loc='upper left')\n",
        "\n",
        "# Plotting training & validation Recall values\n",
        "plt.subplot(2, 3, 2)\n",
        "plt.plot(history['recall_2'], label='Training Recall')\n",
        "plt.plot(history['val_recall_2'], label='Validation Recall')\n",
        "plt.title('Model Recall')\n",
        "plt.xlabel('Epoch')\n",
        "plt.ylabel('Recall')\n",
        "plt.legend(loc='upper left')\n",
        "\n",
        "# Plotting training & validation F1 Score values\n",
        "plt.subplot(2, 3, 3)\n",
        "plt.plot(history['f1_score'], label='Training F1 Score')\n",
        "plt.plot(history['val_f1_score'], label='Validation F1 Score')\n",
        "plt.title('Model Loss')\n",
        "plt.xlabel('Epoch')\n",
        "plt.ylabel('F1 Score')\n",
        "plt.legend(loc='upper left')\n",
        "\n",
        "\n",
        "plt.tight_layout()\n",
        "plt.show()"
      ]
    },
    {
      "cell_type": "code",
      "execution_count": null,
      "metadata": {
        "colab": {
          "base_uri": "https://localhost:8080/"
        },
        "id": "3Ri_oHSH1wqc",
        "outputId": "75a1012f-faea-4d98-e5d7-f9d93ffe6fb8"
      },
      "outputs": [
        {
          "name": "stderr",
          "output_type": "stream",
          "text": [
            "/usr/local/lib/python3.10/dist-packages/keras/src/engine/training.py:3103: UserWarning: You are saving your model as an HDF5 file via `model.save()`. This file format is considered legacy. We recommend using instead the native Keras format, e.g. `model.save('my_model.keras')`.\n",
            "  saving_api.save_model(\n"
          ]
        }
      ],
      "source": [
        "#save  the Emotion CNN  Custom model\n",
        "emotion_cnn.model.save('emotion_cnn.h5')"
      ]
    },
    {
      "cell_type": "code",
      "execution_count": null,
      "metadata": {
        "colab": {
          "base_uri": "https://localhost:8080/",
          "height": 17
        },
        "id": "LxmsBYOw2Ht4",
        "outputId": "bc791a34-062e-491b-c027-4f85a9208be9"
      },
      "outputs": [
        {
          "data": {
            "application/javascript": "\n    async function download(id, filename, size) {\n      if (!google.colab.kernel.accessAllowed) {\n        return;\n      }\n      const div = document.createElement('div');\n      const label = document.createElement('label');\n      label.textContent = `Downloading \"${filename}\": `;\n      div.appendChild(label);\n      const progress = document.createElement('progress');\n      progress.max = size;\n      div.appendChild(progress);\n      document.body.appendChild(div);\n\n      const buffers = [];\n      let downloaded = 0;\n\n      const channel = await google.colab.kernel.comms.open(id);\n      // Send a message to notify the kernel that we're ready.\n      channel.send({})\n\n      for await (const message of channel.messages) {\n        // Send a message to notify the kernel that we're ready.\n        channel.send({})\n        if (message.buffers) {\n          for (const buffer of message.buffers) {\n            buffers.push(buffer);\n            downloaded += buffer.byteLength;\n            progress.value = downloaded;\n          }\n        }\n      }\n      const blob = new Blob(buffers, {type: 'application/binary'});\n      const a = document.createElement('a');\n      a.href = window.URL.createObjectURL(blob);\n      a.download = filename;\n      div.appendChild(a);\n      a.click();\n      div.remove();\n    }\n  ",
            "text/plain": [
              "<IPython.core.display.Javascript object>"
            ]
          },
          "metadata": {},
          "output_type": "display_data"
        },
        {
          "data": {
            "application/javascript": "download(\"download_83ed5ce5-70b5-42a6-9327-16337d0fefee\", \"emotion_cnn.h5\", 1066303640)",
            "text/plain": [
              "<IPython.core.display.Javascript object>"
            ]
          },
          "metadata": {},
          "output_type": "display_data"
        }
      ],
      "source": [
        "from google.colab import files\n",
        "files.download('emotion_cnn.h5')"
      ]
    },
    {
      "cell_type": "code",
      "execution_count": null,
      "metadata": {
        "colab": {
          "base_uri": "https://localhost:8080/"
        },
        "id": "7UFegNEkJoaM",
        "outputId": "b6327992-f620-4a43-ac20-d3f59d2bfbbb"
      },
      "outputs": [
        {
          "name": "stdout",
          "output_type": "stream",
          "text": [
            "1/1 [==============================] - 0s 72ms/step\n",
            "The predicted class is: happy\n"
          ]
        }
      ],
      "source": [
        "from keras.preprocessing.image import load_img, img_to_array\n",
        "import cv2\n",
        "import numpy as np\n",
        "import tensorflow as tf\n",
        "\n",
        "# Load the image in grayscale mode\n",
        "image_path = '/content/dataset/test/surprise/PrivateTest_12641070.jpg'\n",
        "img = cv2.imread(image_path, cv2.IMREAD_GRAYSCALE)\n",
        "img = cv2.resize(img, (224, 224))  # Resize the image to match model's input size\n",
        "img = img / 255.0  # Rescale the image\n",
        "img = np.expand_dims(img, axis=-1)  # Add channel dimension for grayscale (224, 224, 1)\n",
        "img = np.expand_dims(img, axis=0)  # Add batch dimension\n",
        "\n",
        "# Make the prediction\n",
        "prediction = emotion_cnn.predict(img)\n",
        "predicted_class_index = np.argmax(prediction, axis=1)\n",
        "class_names = ['Angry', 'disgust', 'fear', 'happy', 'neutral', 'sad', 'surprise']\n",
        "predicted_class = class_names[predicted_class_index[0]]\n",
        "\n",
        "print(f\"The predicted class is: {predicted_class}\")"
      ]
    },
    {
      "cell_type": "code",
      "execution_count": 3,
      "metadata": {
        "colab": {
          "base_uri": "https://localhost:8080/"
        },
        "id": "DLEVUYW_q9B-",
        "outputId": "02c4bb1b-6c3e-411b-dd70-4c0444c739bb"
      },
      "outputs": [
        {
          "name": "stdout",
          "output_type": "stream",
          "text": [
            "Found 22968 images belonging to 7 classes.\n",
            "Found 5741 images belonging to 7 classes.\n"
          ]
        }
      ],
      "source": [
        "from tensorflow.keras.preprocessing.image import ImageDataGenerator\n",
        "\n",
        "# Data augmentation and rescaling\n",
        "train_datagen = ImageDataGenerator(\n",
        "    rescale=1./255,\n",
        "    validation_split=0.2,\n",
        "    fill_mode= 'nearest'\n",
        ")\n",
        "\n",
        "# Load images from directories\n",
        "train_generator = train_datagen.flow_from_directory(\n",
        "    train_path,\n",
        "    target_size=(224, 224),\n",
        "    subset='training',\n",
        "    batch_size=64,\n",
        "    color_mode='grayscale',\n",
        "    class_mode='categorical'\n",
        ")\n",
        "\n",
        "validation_generator = train_datagen.flow_from_directory(\n",
        "    train_path,\n",
        "    target_size=(224, 224),\n",
        "    subset='validation',\n",
        "    batch_size=64,\n",
        "    color_mode='grayscale',\n",
        "    class_mode='categorical'\n",
        ")"
      ]
    },
    {
      "cell_type": "code",
      "execution_count": 6,
      "metadata": {
        "colab": {
          "base_uri": "https://localhost:8080/"
        },
        "id": "CiuUT3ODrTYV",
        "outputId": "cc2cf5b8-1917-4ff8-e7ee-fe52cf055ae3"
      },
      "outputs": [
        {
          "name": "stdout",
          "output_type": "stream",
          "text": [
            "Epoch 1/100\n",
            "359/359 [==============================] - 1353s 4s/step - loss: 1.8221 - accuracy: 0.2429 - val_loss: 1.7208 - val_accuracy: 0.3350 - lr: 1.0000e-04\n",
            "Epoch 2/100\n",
            "359/359 [==============================] - 1363s 4s/step - loss: 1.6915 - accuracy: 0.3272 - val_loss: 1.5856 - val_accuracy: 0.3928 - lr: 1.0000e-04\n",
            "Epoch 3/100\n",
            "359/359 [==============================] - 1370s 4s/step - loss: 1.5884 - accuracy: 0.3820 - val_loss: 1.5096 - val_accuracy: 0.4173 - lr: 1.0000e-04\n",
            "Epoch 4/100\n",
            "359/359 [==============================] - 1375s 4s/step - loss: 1.4836 - accuracy: 0.4230 - val_loss: 1.4135 - val_accuracy: 0.4581 - lr: 1.0000e-04\n",
            "Epoch 5/100\n",
            "359/359 [==============================] - 1377s 4s/step - loss: 1.3923 - accuracy: 0.4738 - val_loss: 1.3719 - val_accuracy: 0.4781 - lr: 1.0000e-04\n",
            "Epoch 6/100\n",
            "359/359 [==============================] - 1378s 4s/step - loss: 1.3025 - accuracy: 0.5086 - val_loss: 1.3375 - val_accuracy: 0.4940 - lr: 1.0000e-04\n",
            "Epoch 7/100\n",
            "359/359 [==============================] - 1379s 4s/step - loss: 1.2159 - accuracy: 0.5462 - val_loss: 1.3101 - val_accuracy: 0.4989 - lr: 1.0000e-04\n",
            "Epoch 8/100\n",
            "359/359 [==============================] - 1386s 4s/step - loss: 1.1235 - accuracy: 0.5852 - val_loss: 1.2912 - val_accuracy: 0.5172 - lr: 1.0000e-04\n",
            "Epoch 9/100\n",
            "359/359 [==============================] - 1387s 4s/step - loss: 1.0144 - accuracy: 0.6314 - val_loss: 1.3468 - val_accuracy: 0.5182 - lr: 1.0000e-04\n",
            "Epoch 10/100\n",
            "359/359 [==============================] - 1386s 4s/step - loss: 0.8989 - accuracy: 0.6742 - val_loss: 1.3523 - val_accuracy: 0.5213 - lr: 1.0000e-04\n",
            "Epoch 11/100\n",
            "359/359 [==============================] - 1380s 4s/step - loss: 0.7890 - accuracy: 0.7147 - val_loss: 1.3839 - val_accuracy: 0.5229 - lr: 1.0000e-04\n",
            "Epoch 12/100\n",
            "359/359 [==============================] - 1381s 4s/step - loss: 0.6718 - accuracy: 0.7579 - val_loss: 1.4398 - val_accuracy: 0.5240 - lr: 1.0000e-04\n",
            "Epoch 13/100\n",
            "359/359 [==============================] - 1381s 4s/step - loss: 0.5845 - accuracy: 0.7926 - val_loss: 1.4858 - val_accuracy: 0.5290 - lr: 1.0000e-04\n",
            "Epoch 14/100\n",
            "359/359 [==============================] - 1379s 4s/step - loss: 0.4841 - accuracy: 0.8283 - val_loss: 1.5601 - val_accuracy: 0.5292 - lr: 1.0000e-04\n",
            "Epoch 15/100\n",
            "359/359 [==============================] - 1381s 4s/step - loss: 0.4266 - accuracy: 0.8455 - val_loss: 1.7025 - val_accuracy: 0.5246 - lr: 1.0000e-04\n",
            "Epoch 16/100\n",
            "359/359 [==============================] - 1381s 4s/step - loss: 0.3764 - accuracy: 0.8691 - val_loss: 1.7049 - val_accuracy: 0.5314 - lr: 1.0000e-04\n",
            "Epoch 17/100\n",
            "359/359 [==============================] - 1386s 4s/step - loss: 0.3223 - accuracy: 0.8871 - val_loss: 1.8127 - val_accuracy: 0.5205 - lr: 1.0000e-04\n",
            "Epoch 18/100\n",
            "359/359 [==============================] - 1385s 4s/step - loss: 0.2910 - accuracy: 0.8966 - val_loss: 1.8389 - val_accuracy: 0.5299 - lr: 1.0000e-04\n",
            "Epoch 19/100\n",
            "359/359 [==============================] - 1382s 4s/step - loss: 0.2593 - accuracy: 0.9089 - val_loss: 1.9539 - val_accuracy: 0.5269 - lr: 1.0000e-04\n",
            "Epoch 20/100\n",
            "359/359 [==============================] - 1384s 4s/step - loss: 0.2316 - accuracy: 0.9187 - val_loss: 2.0152 - val_accuracy: 0.5316 - lr: 1.0000e-04\n",
            "Epoch 21/100\n",
            "359/359 [==============================] - 1379s 4s/step - loss: 0.2228 - accuracy: 0.9217 - val_loss: 2.1044 - val_accuracy: 0.5274 - lr: 1.0000e-04\n",
            "Epoch 22/100\n",
            "359/359 [==============================] - 1380s 4s/step - loss: 0.2027 - accuracy: 0.9290 - val_loss: 2.2476 - val_accuracy: 0.5250 - lr: 1.0000e-04\n",
            "Epoch 23/100\n",
            "359/359 [==============================] - 1382s 4s/step - loss: 0.1858 - accuracy: 0.9343 - val_loss: 2.1432 - val_accuracy: 0.5266 - lr: 1.0000e-04\n",
            "Epoch 24/100\n",
            "359/359 [==============================] - 1378s 4s/step - loss: 0.1764 - accuracy: 0.9364 - val_loss: 2.1828 - val_accuracy: 0.5273 - lr: 1.0000e-04\n",
            "Epoch 25/100\n",
            "359/359 [==============================] - 1379s 4s/step - loss: 0.1748 - accuracy: 0.9387 - val_loss: 2.2456 - val_accuracy: 0.5264 - lr: 1.0000e-04\n",
            "Epoch 26/100\n",
            "359/359 [==============================] - 1376s 4s/step - loss: 0.1627 - accuracy: 0.9437 - val_loss: 2.2871 - val_accuracy: 0.5271 - lr: 1.0000e-04\n",
            "Epoch 27/100\n",
            "359/359 [==============================] - 1380s 4s/step - loss: 0.1508 - accuracy: 0.9469 - val_loss: 2.3304 - val_accuracy: 0.5280 - lr: 1.0000e-04\n",
            "Epoch 28/100\n",
            "359/359 [==============================] - 1377s 4s/step - loss: 0.1610 - accuracy: 0.9455 - val_loss: 2.3179 - val_accuracy: 0.5321 - lr: 1.0000e-04\n",
            "Epoch 29/100\n",
            "359/359 [==============================] - 1385s 4s/step - loss: 0.1423 - accuracy: 0.9510 - val_loss: 2.2476 - val_accuracy: 0.5330 - lr: 1.0000e-04\n",
            "Epoch 30/100\n",
            "359/359 [==============================] - 1384s 4s/step - loss: 0.1358 - accuracy: 0.9529 - val_loss: 2.3178 - val_accuracy: 0.5278 - lr: 1.0000e-04\n",
            "Epoch 31/100\n",
            "359/359 [==============================] - 1382s 4s/step - loss: 0.1340 - accuracy: 0.9542 - val_loss: 2.3638 - val_accuracy: 0.5302 - lr: 1.0000e-04\n",
            "Epoch 32/100\n",
            "359/359 [==============================] - 1381s 4s/step - loss: 0.1252 - accuracy: 0.9567 - val_loss: 2.4410 - val_accuracy: 0.5356 - lr: 1.0000e-04\n",
            "Epoch 33/100\n",
            "359/359 [==============================] - 1381s 4s/step - loss: 0.1282 - accuracy: 0.9558 - val_loss: 2.4350 - val_accuracy: 0.5358 - lr: 1.0000e-04\n",
            "Epoch 34/100\n",
            "359/359 [==============================] - 1380s 4s/step - loss: 0.1256 - accuracy: 0.9559 - val_loss: 2.3946 - val_accuracy: 0.5344 - lr: 1.0000e-04\n",
            "Epoch 35/100\n",
            "359/359 [==============================] - 1381s 4s/step - loss: 0.1172 - accuracy: 0.9603 - val_loss: 2.4483 - val_accuracy: 0.5368 - lr: 1.0000e-04\n",
            "Epoch 36/100\n",
            "359/359 [==============================] - 1379s 4s/step - loss: 0.1125 - accuracy: 0.9600 - val_loss: 2.4231 - val_accuracy: 0.5374 - lr: 1.0000e-04\n",
            "Epoch 37/100\n",
            "359/359 [==============================] - 1380s 4s/step - loss: 0.1084 - accuracy: 0.9611 - val_loss: 2.4433 - val_accuracy: 0.5377 - lr: 1.0000e-04\n",
            "Epoch 38/100\n",
            "359/359 [==============================] - 1382s 4s/step - loss: 0.1033 - accuracy: 0.9642 - val_loss: 2.4160 - val_accuracy: 0.5415 - lr: 1.0000e-04\n",
            "Epoch 39/100\n",
            "359/359 [==============================] - 1384s 4s/step - loss: 0.1081 - accuracy: 0.9631 - val_loss: 2.3728 - val_accuracy: 0.5356 - lr: 1.0000e-04\n",
            "Epoch 40/100\n",
            "359/359 [==============================] - 1383s 4s/step - loss: 0.1020 - accuracy: 0.9652 - val_loss: 2.3435 - val_accuracy: 0.5381 - lr: 1.0000e-04\n",
            "Epoch 41/100\n",
            "359/359 [==============================] - 1379s 4s/step - loss: 0.1013 - accuracy: 0.9653 - val_loss: 2.5889 - val_accuracy: 0.5401 - lr: 1.0000e-04\n",
            "Epoch 42/100\n",
            "359/359 [==============================] - 1379s 4s/step - loss: 0.0944 - accuracy: 0.9677 - val_loss: 2.6062 - val_accuracy: 0.5363 - lr: 1.0000e-04\n",
            "Epoch 43/100\n",
            "359/359 [==============================] - 1379s 4s/step - loss: 0.0913 - accuracy: 0.9673 - val_loss: 2.7350 - val_accuracy: 0.5375 - lr: 1.0000e-04\n",
            "Epoch 44/100\n",
            "359/359 [==============================] - 1379s 4s/step - loss: 0.0926 - accuracy: 0.9681 - val_loss: 2.6336 - val_accuracy: 0.5348 - lr: 1.0000e-04\n",
            "Epoch 45/100\n",
            "359/359 [==============================] - 1378s 4s/step - loss: 0.0913 - accuracy: 0.9679 - val_loss: 2.7097 - val_accuracy: 0.5377 - lr: 1.0000e-04\n",
            "Epoch 46/100\n",
            "359/359 [==============================] - 1380s 4s/step - loss: 0.0895 - accuracy: 0.9684 - val_loss: 2.7179 - val_accuracy: 0.5388 - lr: 1.0000e-04\n",
            "Epoch 47/100\n",
            "359/359 [==============================] - 1379s 4s/step - loss: 0.0933 - accuracy: 0.9673 - val_loss: 2.6103 - val_accuracy: 0.5370 - lr: 1.0000e-04\n",
            "Epoch 48/100\n",
            "359/359 [==============================] - 1388s 4s/step - loss: 0.0785 - accuracy: 0.9730 - val_loss: 2.8114 - val_accuracy: 0.5372 - lr: 1.0000e-04\n",
            "Epoch 49/100\n",
            "359/359 [==============================] - 1389s 4s/step - loss: 0.0833 - accuracy: 0.9705 - val_loss: 2.7227 - val_accuracy: 0.5365 - lr: 1.0000e-04\n",
            "Epoch 50/100\n",
            "359/359 [==============================] - 1388s 4s/step - loss: 0.0819 - accuracy: 0.9739 - val_loss: 2.7181 - val_accuracy: 0.5335 - lr: 1.0000e-04\n"
          ]
        }
      ],
      "source": [
        "#Final Custom Model\n",
        "import tensorflow as tf\n",
        "from tensorflow.keras.models import Sequential\n",
        "from tensorflow.keras.layers import Conv2D, MaxPooling2D, Flatten, Dense, Dropout\n",
        "from tensorflow.keras.preprocessing.image import ImageDataGenerator\n",
        "from tensorflow.keras.optimizers import Adam\n",
        "from tensorflow.keras.regularizers import l2\n",
        "\n",
        "model = Sequential()\n",
        "model.add(Conv2D(64, (3, 3), activation='relu', input_shape=(224, 224, 1)))\n",
        "model.add(Conv2D(64, (3, 3), activation='relu'))\n",
        "model.add(MaxPooling2D(pool_size=(2, 2)))\n",
        "model.add(Dropout(0.2))\n",
        "model.add(Conv2D(128, (3, 3), activation='relu'))\n",
        "model.add(MaxPooling2D(pool_size=(2, 2)))\n",
        "model.add(Conv2D(128, (3, 3), activation='relu'))\n",
        "model.add(MaxPooling2D(pool_size=(2, 2)))\n",
        "model.add(Dropout(0.22))\n",
        "model.add(Flatten())\n",
        "model.add(Dense(512, activation='relu'))\n",
        "model.add(Dropout(0.5))\n",
        "model.add(Dense(256, activation='relu'))\n",
        "model.add(Dropout(0.5))\n",
        "model.add(Dense(7, activation='softmax'))\n",
        "model.compile(optimizer=Adam(learning_rate=0.0001), loss='categorical_crossentropy', metrics=['accuracy'])\n",
        "early_stopping = tf.keras.callbacks.EarlyStopping(monitor='val_loss', patience=10, restore_best_weights=True,start_from_epoch=30)\n",
        "reduce_lr = tf.keras.callbacks.ReduceLROnPlateau(monitor='val_loss', factor=0.2, patience=5, min_lr=0.0001)\n",
        "emotion_hist=model.fit(train_generator, validation_data=validation_generator, epochs=100,callbacks=[early_stopping,reduce_lr])"
      ]
    },
    {
      "cell_type": "code",
      "execution_count": 7,
      "metadata": {
        "colab": {
          "base_uri": "https://localhost:8080/",
          "height": 407
        },
        "id": "OfKAK-Qg21QT",
        "outputId": "b6f4280b-4c9e-4dc1-edbe-527c6e08517c"
      },
      "outputs": [
        {
          "data": {
            "image/png": "[encoded data removed]",
            "text/plain": [
              "<Figure size 1200x400 with 2 Axes>"
            ]
          },
          "metadata": {},
          "output_type": "display_data"
        }
      ],
      "source": [
        "import matplotlib.pyplot as plt\n",
        "\n",
        "# emotion_hist is the history object returned by model.fit()\n",
        "history = emotion_hist.history\n",
        "\n",
        "# Plotting training & validation accuracy values\n",
        "plt.figure(figsize=(12, 4))\n",
        "plt.subplot(1, 2, 1)\n",
        "plt.plot(history['accuracy'], label='Training Accuracy')\n",
        "plt.plot(history['val_accuracy'], label='Validation Accuracy')\n",
        "plt.title('Model Accuracy')\n",
        "plt.xlabel('Epoch')\n",
        "plt.ylabel('Accuracy')\n",
        "plt.legend(loc='upper left')\n",
        "\n",
        "# Plotting training & validation loss values\n",
        "plt.subplot(1, 2, 2)\n",
        "plt.plot(history['loss'], label='Training Loss')\n",
        "plt.plot(history['val_loss'], label='Validation Loss')\n",
        "plt.title('Model Loss')\n",
        "plt.xlabel('Epoch')\n",
        "plt.ylabel('Loss')\n",
        "plt.legend(loc='upper left')\n",
        "\n",
        "plt.tight_layout()\n",
        "plt.show()"
      ]
    },
    {
      "cell_type": "code",
      "execution_count": 9,
      "metadata": {
        "colab": {
          "base_uri": "https://localhost:8080/"
        },
        "id": "JB2EmjW_3Gu0",
        "outputId": "1b4a4d2e-c99a-4270-ca33-9d9b3e515fd5"
      },
      "outputs": [
        {
          "name": "stderr",
          "output_type": "stream",
          "text": [
            "/usr/local/lib/python3.10/dist-packages/keras/src/engine/training.py:3103: UserWarning: You are saving your model as an HDF5 file via `model.save()`. This file format is considered legacy. We recommend using instead the native Keras format, e.g. `model.save('my_model.keras')`.\n",
            "  saving_api.save_model(\n"
          ]
        }
      ],
      "source": [
        "#save  the Emotion CNN  Custom model\n",
        "model.save('emotion_cnn_new.h5')"
      ]
    },
    {
      "cell_type": "code",
      "execution_count": 10,
      "metadata": {
        "colab": {
          "base_uri": "https://localhost:8080/",
          "height": 17
        },
        "id": "UYFBZGPi3oCe",
        "outputId": "1cee7c5a-90ae-4cb9-c458-526c81997a69"
      },
      "outputs": [
        {
          "data": {
            "application/javascript": "\n    async function download(id, filename, size) {\n      if (!google.colab.kernel.accessAllowed) {\n        return;\n      }\n      const div = document.createElement('div');\n      const label = document.createElement('label');\n      label.textContent = `Downloading \"${filename}\": `;\n      div.appendChild(label);\n      const progress = document.createElement('progress');\n      progress.max = size;\n      div.appendChild(progress);\n      document.body.appendChild(div);\n\n      const buffers = [];\n      let downloaded = 0;\n\n      const channel = await google.colab.kernel.comms.open(id);\n      // Send a message to notify the kernel that we're ready.\n      channel.send({})\n\n      for await (const message of channel.messages) {\n        // Send a message to notify the kernel that we're ready.\n        channel.send({})\n        if (message.buffers) {\n          for (const buffer of message.buffers) {\n            buffers.push(buffer);\n            downloaded += buffer.byteLength;\n            progress.value = downloaded;\n          }\n        }\n      }\n      const blob = new Blob(buffers, {type: 'application/binary'});\n      const a = document.createElement('a');\n      a.href = window.URL.createObjectURL(blob);\n      a.download = filename;\n      div.appendChild(a);\n      a.click();\n      div.remove();\n    }\n  ",
            "text/plain": [
              "<IPython.core.display.Javascript object>"
            ]
          },
          "metadata": {},
          "output_type": "display_data"
        },
        {
          "data": {
            "application/javascript": "download(\"download_7e8f33ce-5578-47ca-aec5-eb5d768759b1\", \"emotion_cnn_new.h5\", 536411056)",
            "text/plain": [
              "<IPython.core.display.Javascript object>"
            ]
          },
          "metadata": {},
          "output_type": "display_data"
        }
      ],
      "source": [
        "from google.colab import files\n",
        "files.download('emotion_cnn_new.h5')"
      ]
    },
    {
      "cell_type": "code",
      "execution_count": 11,
      "metadata": {
        "colab": {
          "base_uri": "https://localhost:8080/"
        },
        "id": "ukrNqLbG4tV9",
        "outputId": "eeae9b77-dbfe-4824-c00b-334d8fafcef5"
      },
      "outputs": [
        {
          "name": "stdout",
          "output_type": "stream",
          "text": [
            "90/90 [==============================] - 47s 523ms/step - loss: 2.3435 - accuracy: 0.5381\n",
            "Validation Loss: 2.343498706817627\n",
            "Validation Accuracy: 0.5380595922470093\n"
          ]
        }
      ],
      "source": [
        "# Evaluate the model\n",
        "evaluation = model.evaluate(validation_generator)\n",
        "print(f'Validation Loss: {evaluation[0]}')\n",
        "print(f'Validation Accuracy: {evaluation[1]}')"
      ]
    },
    {
      "cell_type": "code",
      "execution_count": 12,
      "metadata": {
        "colab": {
          "base_uri": "https://localhost:8080/"
        },
        "id": "q-UOpNagCpzi",
        "outputId": "6735a922-33b8-4bfa-b9f5-acac53607853"
      },
      "outputs": [
        {
          "name": "stdout",
          "output_type": "stream",
          "text": [
            "Found 7178 images belonging to 7 classes.\n"
          ]
        }
      ],
      "source": [
        "from tensorflow.keras.preprocessing.image import ImageDataGenerator\n",
        "\n",
        "# Data augmentation and rescaling\n",
        "test_datagen = ImageDataGenerator(\n",
        "    rescale=1./255,\n",
        ")\n",
        "\n",
        "# Load images from directories\n",
        "test_generator = test_datagen.flow_from_directory(\n",
        "    test_path,\n",
        "    target_size=(224, 224),\n",
        "    batch_size=64,\n",
        "    color_mode='grayscale',\n",
        "    class_mode='categorical'\n",
        ")\n"
      ]
    },
    {
      "cell_type": "code",
      "execution_count": 13,
      "metadata": {
        "colab": {
          "base_uri": "https://localhost:8080/"
        },
        "id": "Aqidy0FeC_81",
        "outputId": "793c8325-c854-4d7e-b548-c3397258f417"
      },
      "outputs": [
        {
          "name": "stdout",
          "output_type": "stream",
          "text": [
            "113/113 [==============================] - 57s 504ms/step\n"
          ]
        }
      ],
      "source": [
        "predict=model.predict(test_generator)\n"
      ]
    },
    {
      "cell_type": "code",
      "execution_count": 14,
      "metadata": {
        "colab": {
          "base_uri": "https://localhost:8080/"
        },
        "id": "Uep0frvpDWNj",
        "outputId": "97b08212-723b-46a1-bb68-365b1ffd05d4"
      },
      "outputs": [
        {
          "data": {
            "text/plain": [
              "array([[2.1693580e-02, 7.8480487e-05, 1.0173905e-03, ..., 3.6427515e-04,\n",
              "        4.0696625e-05, 6.2762275e-03],\n",
              "       [6.4562475e-03, 7.4753171e-04, 4.1706252e-01, ..., 3.6080957e-03,\n",
              "        5.0651270e-01, 2.6907550e-02],\n",
              "       [3.6272730e-03, 3.4774197e-04, 2.3531620e-03, ..., 8.0109611e-02,\n",
              "        9.0756148e-01, 5.1476364e-04],\n",
              "       ...,\n",
              "       [7.8520045e-04, 2.1212769e-05, 2.3176359e-01, ..., 1.6891856e-03,\n",
              "        7.6542753e-01, 1.2978358e-04],\n",
              "       [1.2863508e-01, 1.8419793e-02, 1.9552933e-02, ..., 2.3242457e-02,\n",
              "        7.4357934e-02, 5.3575598e-03],\n",
              "       [1.1921826e-09, 5.7610906e-11, 6.2501901e-03, ..., 5.4336119e-10,\n",
              "        8.5766100e-13, 9.9374962e-01]], dtype=float32)"
            ]
          },
          "execution_count": 14,
          "metadata": {},
          "output_type": "execute_result"
        }
      ],
      "source": [
        "predict"
      ]
    },
    {
      "cell_type": "code",
      "execution_count": 16,
      "metadata": {
        "colab": {
          "base_uri": "https://localhost:8080/",
          "height": 447
        },
        "id": "-LyD1kEcDXJ1",
        "outputId": "e987316e-bb8f-4dcd-ec18-4ff3acc10e47"
      },
      "outputs": [
        {
          "name": "stdout",
          "output_type": "stream",
          "text": [
            "113/113 [==============================] - 56s 498ms/step\n"
          ]
        },
        {
          "data": {
            "image/png": "[encoded data removed]",
            "text/plain": [
              "<Figure size 640x480 with 2 Axes>"
            ]
          },
          "metadata": {},
          "output_type": "display_data"
        }
      ],
      "source": [
        "from sklearn.metrics import confusion_matrix\n",
        "import seaborn as sns\n",
        "import matplotlib.pyplot as plt\n",
        "import numpy as np\n",
        "\n",
        "test_predict = model.predict(test_generator)\n",
        "y_test_pred_classes = np.argmax(test_predict, axis=1)\n",
        "y_test_true = test_generator.classes\n",
        "\n",
        "cm_test = confusion_matrix(y_test_true, y_test_pred_classes)\n",
        "sns.heatmap(cm_test, annot=True, fmt='d')\n",
        "plt.show()"
      ]
    }
  ],
  "metadata": {
    "accelerator": "TPU",
    "colab": {
      "gpuType": "V28",
      "machine_shape": "hm",
      "provenance": []
    },
    "kernelspec": {
      "display_name": "Python 3",
      "name": "python3"
    },
    "language_info": {
      "name": "python"
    }
  },
  "nbformat": 4,
  "nbformat_minor": 0
}
